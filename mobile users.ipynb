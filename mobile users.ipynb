{
 "cells": [
  {
   "cell_type": "code",
   "execution_count": 1,
   "id": "6ce3054c",
   "metadata": {},
   "outputs": [
    {
     "name": "stdout",
     "output_type": "stream",
     "text": [
      "Requirement already satisfied: bs4 in c:\\users\\waseem\\anaconda3\\lib\\site-packages (0.0.1)\n",
      "Requirement already satisfied: beautifulsoup4 in c:\\users\\waseem\\anaconda3\\lib\\site-packages (from bs4) (4.10.0)\n",
      "Requirement already satisfied: soupsieve>1.2 in c:\\users\\waseem\\anaconda3\\lib\\site-packages (from beautifulsoup4->bs4) (2.2.1)\n",
      "Note: you may need to restart the kernel to use updated packages.\n"
     ]
    }
   ],
   "source": [
    "pip install bs4"
   ]
  },
  {
   "cell_type": "code",
   "execution_count": 2,
   "id": "4b31167e",
   "metadata": {},
   "outputs": [
    {
     "name": "stdout",
     "output_type": "stream",
     "text": [
      "Requirement already satisfied: requests in c:\\users\\waseem\\anaconda3\\lib\\site-packages (2.26.0)\n",
      "Requirement already satisfied: idna<4,>=2.5 in c:\\users\\waseem\\anaconda3\\lib\\site-packages (from requests) (3.2)\n",
      "Requirement already satisfied: certifi>=2017.4.17 in c:\\users\\waseem\\anaconda3\\lib\\site-packages (from requests) (2021.10.8)\n",
      "Requirement already satisfied: urllib3<1.27,>=1.21.1 in c:\\users\\waseem\\anaconda3\\lib\\site-packages (from requests) (1.26.7)\n",
      "Requirement already satisfied: charset-normalizer~=2.0.0 in c:\\users\\waseem\\anaconda3\\lib\\site-packages (from requests) (2.0.4)\n",
      "Note: you may need to restart the kernel to use updated packages.\n"
     ]
    }
   ],
   "source": [
    "pip install requests"
   ]
  },
  {
   "cell_type": "code",
   "execution_count": 3,
   "id": "9f2309d7",
   "metadata": {},
   "outputs": [],
   "source": [
    "import requests\n",
    "\n",
    "from bs4 import BeautifulSoup"
   ]
  },
  {
   "cell_type": "markdown",
   "id": "67913e86",
   "metadata": {},
   "source": [
    "# web scraping"
   ]
  },
  {
   "cell_type": "code",
   "execution_count": 4,
   "id": "b62ba09c",
   "metadata": {},
   "outputs": [],
   "source": [
    "url = \"https://worldpopulationreview.com/country-rankings/cell-phones-by-country\""
   ]
  },
  {
   "cell_type": "markdown",
   "id": "7b0c7603",
   "metadata": {},
   "source": [
    "# web response"
   ]
  },
  {
   "cell_type": "code",
   "execution_count": 5,
   "id": "610b6471",
   "metadata": {},
   "outputs": [],
   "source": [
    "response  = requests.get(url)\n",
    "\n"
   ]
  },
  {
   "cell_type": "code",
   "execution_count": 6,
   "id": "e8f7d334",
   "metadata": {},
   "outputs": [
    {
     "data": {
      "text/plain": [
       "<Response [200]>"
      ]
     },
     "execution_count": 6,
     "metadata": {},
     "output_type": "execute_result"
    }
   ],
   "source": [
    "response"
   ]
  },
  {
   "cell_type": "markdown",
   "id": "f0521c4c",
   "metadata": {},
   "source": [
    "# parsing"
   ]
  },
  {
   "cell_type": "code",
   "execution_count": 7,
   "id": "36f0658d",
   "metadata": {},
   "outputs": [
    {
     "data": {
      "text/plain": [
       "'<!DOCTYPE html><html lang=\"en\"><head><meta charSet=\"utf-8\" /><meta name=\"viewport\" content=\"width=device-width, initial-scale=1\" /><title>Cell Phones by Country 2022</title><link rel=\"preload\" as=\"image\" imagesrcset=\"/_next/image?url=%2Fsvg_placeholder.png&amp;w=1080&amp;q=75 1x, /_next/image?url=%2Fsvg_placeholder.png&amp;w=2048&amp;q=75 2x\" /><meta name=\"next-head-count\" content=\"4\" /><link rel=\"stylesheet\" href=\"https://stackpath.bootstrapcdn.com/bootstrap/4.3.1/css/bootstrap.min.css\" integrity=\"sha384-ggOyR0iXCbMQv3Xipma34MD+dH/1fQ784/j6cY/iJTQUOhcWr7x9JvoRxT2MZw1T\" crossOrigin=\"anonymous\" /><meta name=\"next-font-preconnect\" /><link rel=\"preload\" href=\"/_next/static/css/6a36ad6e8ed820c5.css\" as=\"style\" /><link rel=\"stylesheet\" href=\"/_next/static/css/6a36ad6e8ed820c5.css\" data-n-g /><noscript data-n-css></noscript><script defer noModule src=\"/_next/static/chunks/polyfills-5cd94c89d3acac5f.js\"></script><script src=\"/static/quantcast20.js\" async defer data-nscript=\"beforeInteractive\"></script><script src id=\"freestar-script-block\" data-cfasync=\"false\" defer data-nscript=\"beforeInteractive\"></script><script src=\"https://a.pub.network/worldpopulationreview-com/pubfig.min.js\" async defer data-nscript=\"beforeInteractive\"></script><script src id=\"freestar-go\" defer data-nscript=\"beforeInteractive\"></script><script src id=\"freestar-go\" defer data-nscript=\"beforeInteractive\"></script><script src id=\"freestar-go\" defer data-nscript=\"beforeInteractive\"></script><script src id=\"freestar-go\" defer data-nscript=\"beforeInteractive\"></script><script src=\"/_next/static/chunks/webpack-8c6876b7c49b5be8.js\" defer></script><script src=\"/_next/static/chunks/framework-f8ca521ba230f4cb.js\" defer></script><script src=\"/_next/static/chunks/main-0fe2266f82cb9cbe.js\" defer></script><script src=\"/_next/static/chunks/pages/_app-b6bc3419e90630b0.js\" defer></script><script src=\"/_next/static/chunks/1bfc9850-26dd4bf7bd59b64c.js\" defer></script><script src=\"/_next/static/chunks/6598-cab833ac3be10ce2.js\" defer></script><script src=\"/_next/static/chunks/5988-6aae88550c3f6d6d.js\" defer></script><script src=\"/_next/static/chunks/9683-ed0b7ecee98c05d9.js\" defer></script><script src=\"/_next/static/chunks/5905-82ff84ccf4144cad.js\" defer></script><script src=\"/_next/static/chunks/550-42c29bb43df725b4.js\" defer></script><script src=\"/_next/static/chunks/5675-8f64931d9623a6cd.js\" defer></script><script src=\"/_next/static/chunks/2241-70d7dd2e8327ffdf.js\" defer></script><script src=\"/_next/static/chunks/7933-12fe62b720a32507.js\" defer></script><script src=\"/_next/static/chunks/9474-1fe682c32b34a635.js\" defer></script><script src=\"/_next/static/chunks/9277-7412e041289dd650.js\" defer></script><script src=\"/_next/static/chunks/5703-d0a8fdb3b7033adc.js\" defer></script><script src=\"/_next/static/chunks/5765-52a1bde131037c3f.js\" defer></script><script src=\"/_next/static/chunks/1874-03ad36ac6911d5a7.js\" defer></script><script src=\"/_next/static/chunks/1203-cf6956a83d07a892.js\" defer></script><script src=\"/_next/static/chunks/pages/country-rankings/%5Bslug%5D-f7118f4c8d5e0a0a.js\" defer></script><script src=\"/_next/static/Hb9GfyzjIC-pPh1frrDk6/_buildManifest.js\" defer></script><script src=\"/_next/static/Hb9GfyzjIC-pPh1frrDk6/_ssgManifest.js\" defer></script><script src=\"/_next/static/Hb9GfyzjIC-pPh1frrDk6/_middlewareManifest.js\" defer></script><style id=\"__jsx-dd1d205bffa20aaf\">.tp-dropdown-menu{color:#555}\\n.tp-dropdown-menu a{color:#555}\\n.tp-dropdown-menu a:hover{color:#2F75DB;\\nopacity:1}</style><style id=\"__jsx-1878461898\">.tp-table-body tr td, .tp-table-body tr th{padding:5px 5px}\\n.tp-table-body tr.hasFixed th.fixed, .tp-table-body tr.hasFixed td.fixed{width:135px}</style></head><body><div id=\"__next\"><div class=\"twlsky-blue isolated-sections\"><div class=\"outer-container clearfix\"><nav style=\"border: 1px solid #ccc; margin-top: 8px;\" class=\"navbar navbar-expand-lg navbar-light bg-white\"><a style=\"font-size: 16px;\" href=\"/\" class=\"navbar-brand\">World Population Review</a><button type=\"button\" data-toggle=\"collapse\" data-target=\"#navbarNav\" aria-controls=\"navbarNav\" aria-expanded=\"false\" aria-label=\"Toggle navigation\" class=\"navbar-toggler\"><span role=\"button\" tabIndex=\"0\" aria-label=\"Toggle\" class=\"navbar-toggler-icon\"></span></button><div id=\"navbarNav\" class=\"collapse navbar-collapse \"><ul class=\"navbar-nav mr-auto mt-2 mt-lg-0\"><li class=\"nav-item\"><a style=\"color: #313131;\" class=\"nav-link\" href=\"/continents\">Continents</a></li><li class=\"nav-item\"><a style=\"color: #313131;\" class=\"nav-link\" href=\"/countries\">Countries</a></li><li class=\"nav-item\"><a style=\"color: #313131;\" class=\"nav-link\" href=\"/world-cities\">World Cities</a></li><li class=\"nav-item\"><a style=\"color: #313131;\" class=\"nav-link\" href=\"/states\">US States</a></li><li class=\"nav-item\"><a style=\"color: #313131;\" class=\"nav-link\" href=\"/us-counties\">US Counties</a></li><li class=\"nav-item\"><a style=\"color: #313131;\" class=\"nav-link\" href=\"/us-cities\">US Cities</a></li><li class=\"nav-item\"><a style=\"color: #313131;\" class=\"nav-link\" href=\"/zips\">Zips</a></li></ul><form action=\"/search/\" class=\"form-inline my-2 my-lg-0\"><input name=\"query\" type=\"search\" aria-label=\"Search\" class=\"form-control mr-sm-2\" /></form></div></nav><div style=\"text-align: center; margin-top: 10px; margin-bottom: 10px;\"></div><div class=\"inside-body-content-container clearfix\"><div class=\"panel\"><div style=\"margin: 0px; border: 0px;\" class=\"content has-flag container-fluid horizontal-section-container\"><div class=\"row\"><div class=\"col-md-8\"><div class=\"section-container clearfix\"><h1>Cell Phones by Country 2022</h1><div><div><span style=\"box-sizing: border-box; display: inline-block; overflow: hidden; width: initial; height: initial; background: none; opacity: 1; border: 0px; margin: 0px; padding: 0px; position: relative; max-width: 100%;\"><span style=\"box-sizing: border-box; display: block; width: initial; height: initial; background: none; opacity: 1; border: 0px; margin: 0px; padding: 0px; max-width: 100%;\"><img style=\"display: block; max-width: 100%; width: initial; height: initial; background: none; opacity: 1; border: 0px; margin: 0px; padding: 0px;\" alt aria-hidden=\"true\" src=\"data:image/svg+xml,%3csvg%20xmlns=%27http://www.w3.org/2000/svg%27%20version=%271.1%27%20width=%27992%27%20height=%27665.04%27/%3e\" /></span><img alt=\"map placeholder\" aspectRatio=\"1.4916396006255264\" srcSet=\"/_next/image?url=%2Fsvg_placeholder.png&amp;w=1080&amp;q=75 1x, /_next/image?url=%2Fsvg_placeholder.png&amp;w=2048&amp;q=75 2x\" src=\"/_next/image?url=%2Fsvg_placeholder.png&amp;w=2048&amp;q=75\" decoding=\"async\" data-nimg=\"intrinsic\" style=\"position: absolute; top: 0px; left: 0px; bottom: 0px; right: 0px; box-sizing: border-box; padding: 0px; border: none; margin: auto; display: block; width: 0px; height: 0px; min-width: 100%; max-width: 100%; min-height: 100%; max-height: 100%;\" /></span></div></div><div align=\"center\" data-freestar-id=\"__320x100 __336x280\" style=\"text-align: center; margin-top: 10px; margin-bottom: 10px;\" id=\"worldpopulationreview_leaderboard_atf\"><div></div></div><div class=\"content\"><div><p>The cell phone, also known as a cellular phone or mobile phone, is a portable telephone that can make and receive calls. Modern mobile phones use cellular network architecture and, therefore, are called cellular phones or cell phones. In addition to making and receiving phone calls, cell phones can perform a variety of other services such as email, SMS texts, Internet access, photography, video recording, and Bluetooth connectivity, among others.</p>\\n<p>The mobile phone can be traced back to 1917 when Eric Tigerstedt, a Finnish inventor, filed a patent for a “pocket-size folding telephone with a very thin carbon microphone.” Analog radio communications from ships and trains are examples of early predecessors of cellular phones. Mobile phones became accessible and affordable thanks to the development of metal-oxide-semiconductor large-scale integration technology, information theory, and cellular networking.</p>\\n</div><div><div id=\"ld-1579-5512\"></div></div><div><p>The first handheld mobile phone, a handset weighing almost four and a half pounds, was demonstrated in 1973 by John F. Mitchell and Martin Cooper of Motorola. In 1979, Nippon Telegraph and Telephone launched the first cellular network in the world in <a href=\"/countries/japan-population\">Japan</a>. DyanTAC 8000x was the first commercially available mobile phone, introduced in 1983.</p>\\n<p>The first true smartphone made its appearance in the world in 1992 when the Simon Personal Communicator was created by IBM. Smartphones comprise about 78% of total mobile phone sales. Modern smartphones have endless capabilities such as video calls, GPS navigation, advanced cameras, and a variety of other functions thanks to the availability of countless applications that can be downloaded directly to the user’s device. Between the release of the DyanTAC 8000x in 1983 and 2014, mobile phone subscriptions grew to over 7 billion worldwide, enough to supply every person on Earth with a cell phone. As of Q1 of 2020, the best-selling phones in the <a href=\"/countries/united-states-population\">United States</a> are <a href=\"https://www.samsung.com/us/\">Samsung</a>, <a href=\"https://consumer.huawei.com/en/phones/\">Huawei</a>, and <a href=\"https://www.apple.com/iphone/\">Apple</a>.</p>\\n<h2>Cell Phones by Country</h2>\\n<p>In general, the number of cell phone users per country is relatively proportional to that country’s population compared to other countries. Some people have multiple cell phone lines for various reasons, including one for personal use and one for business use. The following countries have the highest number of cell phones users:</p>\\n<ol>\\n<li><a href=\"/countries/china-population\">China</a> (1.6 billion)</li>\\n<li><a href=\"/countries/india-population\">India</a> (1.28 billion)</li>\\n<li><a href=\"/countries/indonesia-population\">Indonesia</a> (386 million)</li>\\n<li>United States (327 million)</li>\\n<li><a href=\"/countries/brazil-population\">Brazil</a> (284 million)</li>\\n<li><a href=\"/countries/russia-population\">Russia</a> (256 million)</li>\\n<li><a href=\"/countries/nigeria-population\">Nigeria</a> (167 million)</li>\\n<li><a href=\"/countries/bangladesh-population\">Bangladesh</a> (166 million)</li>\\n<li><a href=\"/countries/pakistan-population\">Pakistan</a> (165 million)</li>\\n<li>Japan (147 million)</li>\\n</ol>\\n<p>The following countries have the highest number of cell phone lines per 100 citizens:</p>\\n<ol>\\n<li><a href=\"/countries/hong-kong-population\">Hong Kong</a> (256.7)</li>\\n<li><a href=\"/countries/maldives-population\">Maldives</a> (245.9)</li>\\n<li><a href=\"/countries/united-arab-emirates-population\">United Arab Emirates</a> (203.7)</li>\\n<li><a href=\"/countries/panama-population\">Panama</a> (202.5)</li>\\n<li><a href=\"/countries/montenegro-population\">Montenegro</a> (180.2)</li>\\n<li><a href=\"/countries/sri-lanka-population\">Sri Lanka</a> (179.3)</li>\\n<li><a href=\"/countries/finland-population\">Finland</a> (172.6)</li>\\n<li><a href=\"/countries/saudi-arabia-population\">Saudi Arabia</a> (169.5)</li>\\n<li><a href=\"/countries/lithuania-population\">Lithuania</a> (167.1)</li>\\n<li>Indonesia (162.3)</li>\\n</ol></div></div></div></div><div style=\"padding: 0px; padding-top: 10px;\" class=\"col-md-4\"><div style=\"height: 100%;\" class=\"section-container clearfix\"><div align=\"center\" data-freestar-id=\"__300x600\" style=\"position: sticky; top: 5px; text-align: center;\" id=\"worldpopulationreview_right_rail\"><div></div></div></div></div></div></div><div class=\"actionbar\"><div class=\"actionbar-title\"><h2>Cell Phones by Country 2022</h2></div><div id=\"source\" class=\"multisources\"><button type=\"button\">Show Source</button></div></div></div><div class=\"panel\"><div style=\"margin: 0px; border: 0px;\" class=\"content has-flag container-fluid horizontal-section-container\"><div class=\"row\"><div class=\"col-md-9\"><div class=\"section-container clearfix\"><div><div><button type=\"button\" style=\"background-color: #286090; color: white;\" class=\"btn btn-outline-primary\">Lines per 100 <svg stroke=\"currentColor\" fill=\"currentColor\" stroke-width=\"0\" viewBox=\"0 0 320 512\" height=\"1em\" width=\"1em\" xmlns=\"http://www.w3.org/2000/svg\"><path d=\"M288.662 352H31.338c-17.818 0-26.741-21.543-14.142-34.142l128.662-128.662c7.81-7.81 20.474-7.81 28.284 0l128.662 128.662c12.6 12.599 3.676 34.142-14.142 34.142z\"></path></svg></button></div><div style=\"position: relative;\">Loading...<div class=\"tooltip\"></div></div></div></div></div><div class=\"col-md-3\"><div style=\"height: 100%;\" class=\"section-container clearfix\"><div align=\"center\" data-freestar-id=\"__300x600\" style=\"text-align: center; position: sticky; top: 5px;\" id=\"worldpopulationreview_in_table\"><div></div></div></div></div></div></div><div class=\"actionbar\"><div class=\"actionbar-title\"><h2>Cell Phones by Country 2022</h2></div><div id=\"source\" class=\"multisources\"><button type=\"button\">Show Source</button></div></div></div><div id=\"dataTable\" class=\"panel\"><div style=\"margin: 0px; border: 0px;\" class=\"content has-flag container-fluid horizontal-section-container\"><div class=\"row\"><div class=\"col-md-8\"><div class=\"section-container clearfix\"><div style=\"font-size: 90%; opacity: 0.7; margin-bottom: 10px;\">Note: Data is for 2019 production statistics.</div><div><div class=\"jsx-dd1d205bffa20aaf tp-dropdown-menu\"><a download=\"csvData.csv\" target=\"_self\" href><svg stroke=\"currentColor\" fill=\"currentColor\" stroke-width=\"0\" viewBox=\"0 0 512 512\" height=\"10\" width=\"10\" xmlns=\"http://www.w3.org/2000/svg\"><path d=\"M216 0h80c13.3 0 24 10.7 24 24v168h87.7c17.8 0 26.7 21.5 14.1 34.1L269.7 378.3c-7.5 7.5-19.8 7.5-27.3 0L90.1 226.1c-12.6-12.6-3.7-34.1 14.1-34.1H192V24c0-13.3 10.7-24 24-24zm296 376v112c0 13.3-10.7 24-24 24H24c-13.3 0-24-10.7-24-24V376c0-13.3 10.7-24 24-24h146.7l49 49c20.1 20.1 52.5 20.1 72.6 0l49-49H488c13.3 0 24 10.7 24 24zm-124 88c0-11-9-20-20-20s-20 9-20 20 9 20 20 20 20-9 20-20zm64 0c0-11-9-20-20-20s-20 9-20 20 9 20 20 20 20-9 20-20z\"></path></svg> CSV</a><a role=\"button\" tabIndex=\"0\"><svg stroke=\"currentColor\" fill=\"currentColor\" stroke-width=\"0\" viewBox=\"0 0 512 512\" height=\"10\" width=\"10\" xmlns=\"http://www.w3.org/2000/svg\"><path d=\"M216 0h80c13.3 0 24 10.7 24 24v168h87.7c17.8 0 26.7 21.5 14.1 34.1L269.7 378.3c-7.5 7.5-19.8 7.5-27.3 0L90.1 226.1c-12.6-12.6-3.7-34.1 14.1-34.1H192V24c0-13.3 10.7-24 24-24zm296 376v112c0 13.3-10.7 24-24 24H24c-13.3 0-24-10.7-24-24V376c0-13.3 10.7-24 24-24h146.7l49 49c20.1 20.1 52.5 20.1 72.6 0l49-49H488c13.3 0 24 10.7 24 24zm-124 88c0-11-9-20-20-20s-20 9-20 20 9 20 20 20 20-9 20-20zm64 0c0-11-9-20-20-20s-20 9-20 20 9 20 20 20 20-9 20-20z\"></path></svg> JSON</a></div><div class=\"datatable-container undefined\"><table class=\"jsx-1878461898 table table-striped tp-table-body\"><thead style=\"font-weight: bold;\"><tr><th width=\"auto\" class=\"datatable-th\"><span><a style=\"color: black; cursor: pointer; display: inline-block;\" data-field=\"country\">Country  </a></span></th><th width=\"auto\" class=\"datatable-th\"><span><a style=\"color: black; cursor: pointer; display: inline-block;\" data-field=\"numUsers\">Total Users  </a></span></th><th width=\"auto\" class=\"datatable-th\"><span><a style=\"color: black; cursor: pointer; display: inline-block;\" data-field=\"linesPer100\">Lines per 100 <svg stroke=\"currentColor\" fill=\"currentColor\" stroke-width=\"0\" viewBox=\"0 0 320 512\" height=\"1em\" width=\"1em\" xmlns=\"http://www.w3.org/2000/svg\"><path d=\"M31.3 192h257.3c17.8 0 26.7 21.5 14.1 34.1L174.1 354.8c-7.8 7.8-20.5 7.8-28.3 0L17.2 226.1C4.6 213.5 13.5 192 31.3 192z\"></path></svg> </a></span></th><th width=\"auto\" class=\"datatable-th\"><span><a style=\"color: black; cursor: pointer; display: inline-block; padding-right: 12px;\" data-field=\"pop2022\">2022 Population  </a></span></th></tr></thead><tbody><tr><td><a href=\"/countries/hong-kong-population\">Hong Kong</a></td><td>19,207,578</td><td>256.70</td><td>7,604,299</td></tr><tr><td><a href=\"/countries/maldives-population\">Maldives</a></td><td>776,716</td><td>245.92</td><td>540,985</td></tr><tr><td><a href=\"/countries/united-arab-emirates-population\">United Arab Emirates</a></td><td>17,132,724</td><td>203.70</td><td>10,081,785</td></tr><tr><td><a href=\"/countries/panama-population\">Panama</a></td><td>6,900,000</td><td>202.50</td><td>4,446,964</td></tr><tr><td><a href=\"/countries/montenegro-population\">Montenegro</a></td><td>1,117,500</td><td>180.23</td><td>627,950</td></tr><tr><td><a href=\"/countries/sri-lanka-population\">Sri Lanka</a></td><td>38,849,812</td><td>179.30</td><td>21,575,842</td></tr><tr><td><a href=\"/countries/finland-population\">Finland</a></td><td>9,470,000</td><td>172.60</td><td>5,554,960</td></tr><tr><td><a href=\"/countries/saudi-arabia-population\">Saudi Arabia</a></td><td>46,000,000</td><td>169.50</td><td>35,844,909</td></tr><tr><td><a href=\"/countries/lithuania-population\">Lithuania</a></td><td>4,940,000</td><td>167.10</td><td>2,661,708</td></tr><tr><td><a href=\"/countries/indonesia-population\">Indonesia</a></td><td>385,573,398</td><td>162.28</td><td>279,134,505</td></tr><tr><td><a href=\"/countries/russia-population\">Russia</a></td><td>256,116,000</td><td>155.50</td><td>145,805,947</td></tr><tr><td><a href=\"/countries/trinidad-and-tobago-population\">Trinidad And Tobago</a></td><td>2,060,000</td><td>151.60</td><td>1,406,585</td></tr><tr><td><a href=\"/countries/estonia-population\">Estonia</a></td><td>1,904,000</td><td>150.50</td><td>1,321,910</td></tr><tr><td><a href=\"/countries/singapore-population\">Singapore</a></td><td>8,106,700</td><td>150.10</td><td>5,943,546</td></tr><tr><td><a href=\"/countries/italy-population\">Italy</a></td><td>88,580,000</td><td>147.40</td><td>60,262,770</td></tr><tr><td><a href=\"/countries/sweden-population\">Sweden</a></td><td>14,500,000</td><td>146.40</td><td>10,218,971</td></tr><tr><td><a href=\"/countries/bulgaria-population\">Bulgaria</a></td><td>10,454,400</td><td>145.20</td><td>6,844,597</td></tr><tr><td><a href=\"/countries/malaysia-population\">Malaysia</a></td><td>30,379,000</td><td>143.80</td><td>33,181,072</td></tr><tr><td><a href=\"/countries/argentina-population\">Argentina</a></td><td>56,725,200</td><td>141.34</td><td>46,010,234</td></tr><tr><td><a href=\"/countries/brazil-population\">Brazil</a></td><td>284,200,000</td><td>141.30</td><td>215,353,593</td></tr><tr><td><a href=\"/countries/nepal-population\">Nepal</a></td><td>34,172,058</td><td>134.41</td><td>30,225,582</td></tr><tr><td><a href=\"/countries/morocco-population\">Morocco</a></td><td>44,450,000</td><td>131</td><td>37,772,756</td></tr><tr><td><a href=\"/countries/germany-population\">Germany</a></td><td>107,000,000</td><td>130.10</td><td>83,883,596</td></tr><tr><td><a href=\"/countries/iran-population\">Iran</a></td><td>96,165,000</td><td>130</td><td>86,022,837</td></tr><tr><td><a href=\"/countries/latvia-population\">Latvia</a></td><td>2,579,000</td><td>129.80</td><td>1,848,837</td></tr><tr><td><a href=\"/countries/united-kingdom-population\">United Kingdom</a></td><td>83,100,000</td><td>129.60</td><td>68,497,907</td></tr><tr><td><a href=\"/countries/denmark-population\">Denmark</a></td><td>7,000,000</td><td>127.50</td><td>5,834,950</td></tr><tr><td><a href=\"/countries/portugal-population\">Portugal</a></td><td>13,400,000</td><td>126.87</td><td>10,140,570</td></tr><tr><td><a href=\"/countries/azerbaijan-population\">Azerbaijan</a></td><td>7,000,000</td><td>126.20</td><td>10,300,205</td></tr><tr><td><a href=\"/countries/ukraine-population\">Ukraine</a></td><td>57,505,555</td><td>126</td><td>43,192,122</td></tr><tr><td><a href=\"/countries/ireland-population\">Ireland</a></td><td>5,770,638</td><td>125.90</td><td>5,020,199</td></tr><tr><td><a href=\"/countries/poland-population\">Poland</a></td><td>47,153,200</td><td>123.48</td><td>37,739,785</td></tr><tr><td><a href=\"/countries/romania-population\">Romania</a></td><td>26,000,000</td><td>123.45</td><td>19,031,335</td></tr><tr><td><a href=\"/countries/taiwan-population\">Taiwan</a></td><td>28,610,000</td><td>123.33</td><td>23,888,595</td></tr><tr><td><a href=\"/countries/chile-population\">Chile</a></td><td>21,000,000</td><td>122.90</td><td>19,250,195</td></tr><tr><td><a href=\"/countries/israel-population\">Israel</a></td><td>9,701,200</td><td>122.80</td><td>8,922,892</td></tr><tr><td><a href=\"/countries/malta-population\">Malta</a></td><td>554,651</td><td>122.57</td><td>444,033</td></tr><tr><td><a href=\"/countries/netherlands-population\">Netherlands</a></td><td>20,000,000</td><td>121.10</td><td>17,211,447</td></tr><tr><td><a href=\"/countries/guatemala-population\">Guatemala</a></td><td>17,571,895</td><td>119.40</td><td>18,584,039</td></tr><tr><td><a href=\"/countries/colombia-population\">Colombia</a></td><td>57,900,472</td><td>118.90</td><td>51,512,762</td></tr><tr><td><a href=\"/countries/spain-population\">Spain</a></td><td>55,740,000</td><td>118</td><td>46,719,142</td></tr><tr><td><a href=\"/countries/south-africa-population\">South Africa</a></td><td>59,474,500</td><td>117.60</td><td>60,756,135</td></tr><tr><td><a href=\"/countries/mongolia-population\">Mongolia</a></td><td>3,500,000</td><td>117.40</td><td>3,378,078</td></tr><tr><td><a href=\"/countries/hungary-population\">Hungary</a></td><td>11,561,890</td><td>116.70</td><td>9,606,259</td></tr><tr><td><a href=\"/countries/japan-population\">Japan</a></td><td>146,649,600</td><td>115.20</td><td>125,584,838</td></tr><tr><td><a href=\"/countries/france-population\">France</a></td><td>72,180,000</td><td>114.20</td><td>65,584,518</td></tr><tr><td><a href=\"/countries/china-population\">China</a></td><td>1,598,360,000</td><td>114.17</td><td>1,448,471,400</td></tr><tr><td><a href=\"/countries/philippines-population\">Philippines</a></td><td>106,987,098</td><td>113.80</td><td>112,508,994</td></tr><tr><td><a href=\"/countries/belgium-population\">Belgium</a></td><td>11,822,000</td><td>113.60</td><td>11,668,278</td></tr><tr><td><a href=\"/countries/south-korea-population\">South Korea</a></td><td>56,004,887</td><td>111.50</td><td>51,329,899</td></tr><tr><td><a href=\"/countries/ecuador-population\">Ecuador</a></td><td>15,900,000</td><td>111.18</td><td>18,113,361</td></tr><tr><td><a href=\"/countries/new-zealand-population\">New Zealand</a></td><td>4,761,000</td><td>111.10</td><td>4,898,203</td></tr><tr><td><a href=\"/countries/peru-population\">Peru</a></td><td>34,235,000</td><td>109.80</td><td>33,684,208</td></tr><tr><td><a href=\"/countries/venezuela-population\">Venezuela</a></td><td>32,019,086</td><td>106.15</td><td>29,266,991</td></tr><tr><td><a href=\"/countries/thailand-population\">Thailand</a></td><td>69,000,000</td><td>105</td><td>70,078,203</td></tr><tr><td><a href=\"/countries/zimbabwe-population\">Zimbabwe</a></td><td>13,518,887</td><td>103.50</td><td>15,331,428</td></tr><tr><td><a href=\"/countries/united-states-population\">United States</a></td><td>327,577,529</td><td>103.10</td><td>334,805,269</td></tr><tr><td><a href=\"/countries/jordan-population\">Jordan</a></td><td>6,010,000</td><td>101</td><td>10,300,869</td></tr><tr><td><a href=\"/countries/bangladesh-population\">Bangladesh</a></td><td>165,615,000</td><td>98.18</td><td>167,885,689</td></tr><tr><td><a href=\"/countries/egypt-population\">Egypt</a></td><td>95,340,000</td><td>95.38</td><td>106,156,692</td></tr><tr><td><a href=\"/countries/nigeria-population\">Nigeria</a></td><td>167,371,945</td><td>94.50</td><td>216,746,934</td></tr><tr><td><a href=\"/countries/algeria-population\">Algeria</a></td><td>33,000,000</td><td>94.20</td><td>45,350,148</td></tr><tr><td><a href=\"/countries/india-population\">India</a></td><td>1,281,971,713</td><td>93.10</td><td>1,406,631,776</td></tr><tr><td><a href=\"/countries/turkey-population\">Turkey</a></td><td>72,200,000</td><td>92.50</td><td>85,561,976</td></tr><tr><td><a href=\"/countries/mexico-population\">Mexico</a></td><td>101,339,000</td><td>90.20</td><td>131,562,772</td></tr><tr><td><a href=\"/countries/australia-population\">Australia</a></td><td>20,570,000</td><td>87.60</td><td>26,068,792</td></tr><tr><td><a href=\"/countries/canada-population\">Canada</a></td><td>31,210,628</td><td>84.60</td><td>38,388,419</td></tr><tr><td><a href=\"/countries/pakistan-population\">Pakistan</a></td><td>165,405,847</td><td>79.61</td><td>229,488,994</td></tr><tr><td><a href=\"/countries/vietnam-population\">Vietnam</a></td><td>72,300,000</td><td>79</td><td>98,953,541</td></tr><tr><td><a href=\"/countries/kenya-population\">Kenya</a></td><td>28,080,000</td><td>71.30</td><td>56,215,221</td></tr><tr><td><a href=\"/countries/lebanon-population\">Lebanon</a></td><td>2,720,000</td><td>64.40</td><td>6,684,849</td></tr><tr><td><a href=\"/countries/ethiopia-population\">Ethiopia</a></td><td>18,000,000</td><td>21.80</td><td>120,812,698</td></tr><tr><td><a href=\"/countries/north-korea-population\">North Korea</a></td><td>3,000,000</td><td>12.30</td><td>25,990,679</td></tr><tr><td><a href=\"/countries/cuba-population\">Cuba</a></td><td>1,300,000</td><td>11.60</td><td>11,305,652</td></tr></tbody></table></div></div><div><div id=\"ld-9446-9603\"></div></div></div></div><div class=\"col-md-4\"><div style=\"height: 100%;\" class=\"section-container clearfix\"><div align=\"center\" data-freestar-id=\"__300x600\" style=\"text-align: center; position: sticky; top: 5px;\" id=\"worldpopulationreview_in_table\"><div></div></div></div></div></div></div><div class=\"actionbar\"><div class=\"actionbar-title\"><h2>Cell Phones by Country 2022</h2></div><div id=\"source\" class=\"multisources\"><button type=\"button\">Show Source</button></div></div></div><div id=\"sources\" class=\"panel\"><div style=\"margin: 0px; border: 0px;\" class=\"content has-flag container-fluid horizontal-section-container\"><div class=\"row\"><div class=\"col-md-12\"><div class=\"section-container clearfix\"><ol style=\"margin: 0px;\"><li><a target=\"_blank\" href=\"https://en.wikipedia.org/wiki/List_of_countries_by_number_of_mobile_phones_in_use\" rel=\"noreferrer\">Cell Phones by Country</a></li></ol></div></div></div></div><div class=\"actionbar\"><div class=\"actionbar-title\"><h2>Sources</h2></div><div id=\"source\" class=\"multisources\"></div></div></div></div><div><div id=\"beneath-footer\" class=\"center-container clearfix\"><div class=\"col-sm-8 beneath-footer-left\"><span class=\"text\">© 2022 World Population Review \\xa0</span><a href=\"/privacy\">Privacy Policy</a><a style=\"margin-left: 10px;\" href=\"/terms\">Terms</a><a style=\"margin-left: 10px;\" href=\"/contact\">Contact</a><a style=\"margin-left: 10px;\" href=\"/about\">About</a><button class=\"modal-opener\">Cite This</button></div></div></div></div></div></div><script id=\"__NEXT_DATA__\" type=\"application/json\">{\"props\":{\"pageProps\":{\"addendum\":\"\",\"sources\":[{\"name\":\"Cell Phones by Country\",\"link\":\"https://en.wikipedia.org/wiki/List_of_countries_by_number_of_mobile_phones_in_use\"}],\"title\":\"Cell Phones by Country 2022\",\"article\":\"\\\\u003cp\\\\u003eThe cell phone, also known as a cellular phone or mobile phone, is a portable telephone that can make and receive calls. Modern mobile phones use cellular network architecture and, therefore, are called cellular phones or cell phones. In addition to making and receiving phone calls, cell phones can perform a variety of other services such as email, SMS texts, Internet access, photography, video recording, and Bluetooth connectivity, among others.\\\\u003c/p\\\\u003e\\\\n\\\\u003cp\\\\u003eThe mobile phone can be traced back to 1917 when Eric Tigerstedt, a Finnish inventor, filed a patent for a “pocket-size folding telephone with a very thin carbon microphone.” Analog radio communications from ships and trains are examples of early predecessors of cellular phones. Mobile phones became accessible and affordable thanks to the development of metal-oxide-semiconductor large-scale integration technology, information theory, and cellular networking.\\\\u003c/p\\\\u003e\\\\n\\\\u003cp\\\\u003eThe first handheld mobile phone, a handset weighing almost four and a half pounds, was demonstrated in 1973 by John F. Mitchell and Martin Cooper of Motorola. In 1979, Nippon Telegraph and Telephone launched the first cellular network in the world in \\\\u003ca href=\\\\\"/countries/japan-population\\\\\"\\\\u003eJapan\\\\u003c/a\\\\u003e. DyanTAC 8000x was the first commercially available mobile phone, introduced in 1983.\\\\u003c/p\\\\u003e\\\\n\\\\u003cp\\\\u003eThe first true smartphone made its appearance in the world in 1992 when the Simon Personal Communicator was created by IBM. Smartphones comprise about 78% of total mobile phone sales. Modern smartphones have endless capabilities such as video calls, GPS navigation, advanced cameras, and a variety of other functions thanks to the availability of countless applications that can be downloaded directly to the user’s device. Between the release of the DyanTAC 8000x in 1983 and 2014, mobile phone subscriptions grew to over 7 billion worldwide, enough to supply every person on Earth with a cell phone. As of Q1 of 2020, the best-selling phones in the \\\\u003ca href=\\\\\"/countries/united-states-population\\\\\"\\\\u003eUnited States\\\\u003c/a\\\\u003e are \\\\u003ca href=\\\\\"https://www.samsung.com/us/\\\\\"\\\\u003eSamsung\\\\u003c/a\\\\u003e, \\\\u003ca href=\\\\\"https://consumer.huawei.com/en/phones/\\\\\"\\\\u003eHuawei\\\\u003c/a\\\\u003e, and \\\\u003ca href=\\\\\"https://www.apple.com/iphone/\\\\\"\\\\u003eApple\\\\u003c/a\\\\u003e.\\\\u003c/p\\\\u003e\\\\n\\\\u003ch2\\\\u003eCell Phones by Country\\\\u003c/h2\\\\u003e\\\\n\\\\u003cp\\\\u003eIn general, the number of cell phone users per country is relatively proportional to that country’s population compared to other countries. Some people have multiple cell phone lines for various reasons, including one for personal use and one for business use. The following countries have the highest number of cell phones users:\\\\u003c/p\\\\u003e\\\\n\\\\u003col\\\\u003e\\\\n\\\\u003cli\\\\u003e\\\\u003ca href=\\\\\"/countries/china-population\\\\\"\\\\u003eChina\\\\u003c/a\\\\u003e (1.6 billion)\\\\u003c/li\\\\u003e\\\\n\\\\u003cli\\\\u003e\\\\u003ca href=\\\\\"/countries/india-population\\\\\"\\\\u003eIndia\\\\u003c/a\\\\u003e (1.28 billion)\\\\u003c/li\\\\u003e\\\\n\\\\u003cli\\\\u003e\\\\u003ca href=\\\\\"/countries/indonesia-population\\\\\"\\\\u003eIndonesia\\\\u003c/a\\\\u003e (386 million)\\\\u003c/li\\\\u003e\\\\n\\\\u003cli\\\\u003eUnited States (327 million)\\\\u003c/li\\\\u003e\\\\n\\\\u003cli\\\\u003e\\\\u003ca href=\\\\\"/countries/brazil-population\\\\\"\\\\u003eBrazil\\\\u003c/a\\\\u003e (284 million)\\\\u003c/li\\\\u003e\\\\n\\\\u003cli\\\\u003e\\\\u003ca href=\\\\\"/countries/russia-population\\\\\"\\\\u003eRussia\\\\u003c/a\\\\u003e (256 million)\\\\u003c/li\\\\u003e\\\\n\\\\u003cli\\\\u003e\\\\u003ca href=\\\\\"/countries/nigeria-population\\\\\"\\\\u003eNigeria\\\\u003c/a\\\\u003e (167 million)\\\\u003c/li\\\\u003e\\\\n\\\\u003cli\\\\u003e\\\\u003ca href=\\\\\"/countries/bangladesh-population\\\\\"\\\\u003eBangladesh\\\\u003c/a\\\\u003e (166 million)\\\\u003c/li\\\\u003e\\\\n\\\\u003cli\\\\u003e\\\\u003ca href=\\\\\"/countries/pakistan-population\\\\\"\\\\u003ePakistan\\\\u003c/a\\\\u003e (165 million)\\\\u003c/li\\\\u003e\\\\n\\\\u003cli\\\\u003eJapan (147 million)\\\\u003c/li\\\\u003e\\\\n\\\\u003c/ol\\\\u003e\\\\n\\\\u003cp\\\\u003eThe following countries have the highest number of cell phone lines per 100 citizens:\\\\u003c/p\\\\u003e\\\\n\\\\u003col\\\\u003e\\\\n\\\\u003cli\\\\u003e\\\\u003ca href=\\\\\"/countries/hong-kong-population\\\\\"\\\\u003eHong Kong\\\\u003c/a\\\\u003e (256.7)\\\\u003c/li\\\\u003e\\\\n\\\\u003cli\\\\u003e\\\\u003ca href=\\\\\"/countries/maldives-population\\\\\"\\\\u003eMaldives\\\\u003c/a\\\\u003e (245.9)\\\\u003c/li\\\\u003e\\\\n\\\\u003cli\\\\u003e\\\\u003ca href=\\\\\"/countries/united-arab-emirates-population\\\\\"\\\\u003eUnited Arab Emirates\\\\u003c/a\\\\u003e (203.7)\\\\u003c/li\\\\u003e\\\\n\\\\u003cli\\\\u003e\\\\u003ca href=\\\\\"/countries/panama-population\\\\\"\\\\u003ePanama\\\\u003c/a\\\\u003e (202.5)\\\\u003c/li\\\\u003e\\\\n\\\\u003cli\\\\u003e\\\\u003ca href=\\\\\"/countries/montenegro-population\\\\\"\\\\u003eMontenegro\\\\u003c/a\\\\u003e (180.2)\\\\u003c/li\\\\u003e\\\\n\\\\u003cli\\\\u003e\\\\u003ca href=\\\\\"/countries/sri-lanka-population\\\\\"\\\\u003eSri Lanka\\\\u003c/a\\\\u003e (179.3)\\\\u003c/li\\\\u003e\\\\n\\\\u003cli\\\\u003e\\\\u003ca href=\\\\\"/countries/finland-population\\\\\"\\\\u003eFinland\\\\u003c/a\\\\u003e (172.6)\\\\u003c/li\\\\u003e\\\\n\\\\u003cli\\\\u003e\\\\u003ca href=\\\\\"/countries/saudi-arabia-population\\\\\"\\\\u003eSaudi Arabia\\\\u003c/a\\\\u003e (169.5)\\\\u003c/li\\\\u003e\\\\n\\\\u003cli\\\\u003e\\\\u003ca href=\\\\\"/countries/lithuania-population\\\\\"\\\\u003eLithuania\\\\u003c/a\\\\u003e (167.1)\\\\u003c/li\\\\u003e\\\\n\\\\u003cli\\\\u003eIndonesia (162.3)\\\\u003c/li\\\\u003e\\\\n\\\\u003c/ol\\\\u003e\",\"data\":{\"mapConfig\":{\"field\":\"linesPer100\",\"legendTitle\":\"Lines per 100\"},\"note\":\"Note: Data is for 2019 production statistics.\",\"columns\":[\"country\",{\"header\":\"Total Users\",\"field\":\"numUsers\",\"format\":\"numberWithCommas\"},{\"header\":\"Lines per 100\",\"field\":\"linesPer100\",\"format\":\"numberWithCommas\"},\"population\"],\"sort\":{\"field\":\"linesPer100\",\"asc\":false},\"scatterChartFields\":[{\"field\":\"linesPer100\",\"title\":\"Lines per 100\"}],\"customData\":[{\"country\":\"China\",\"linesPer100\":114.17,\"numUsers\":1598360000},{\"country\":\"India\",\"linesPer100\":93.1,\"numUsers\":1281971713},{\"country\":\"Indonesia\",\"linesPer100\":162.28,\"numUsers\":385573398},{\"country\":\"United States\",\"linesPer100\":103.1,\"numUsers\":327577529},{\"country\":\"Brazil\",\"linesPer100\":141.3,\"numUsers\":284200000},{\"country\":\"Russia\",\"linesPer100\":155.5,\"numUsers\":256116000},{\"country\":\"Nigeria\",\"linesPer100\":94.5,\"numUsers\":167371945},{\"country\":\"Bangladesh\",\"linesPer100\":98.18,\"numUsers\":165615000},{\"country\":\"Pakistan\",\"linesPer100\":79.61,\"numUsers\":165405847},{\"country\":\"Japan\",\"linesPer100\":115.2,\"numUsers\":146649600},{\"country\":\"Germany\",\"linesPer100\":130.1,\"numUsers\":107000000},{\"country\":\"Philippines\",\"linesPer100\":113.8,\"numUsers\":106987098},{\"country\":\"Mexico\",\"linesPer100\":90.2,\"numUsers\":101339000},{\"country\":\"Iran\",\"linesPer100\":130,\"numUsers\":96165000},{\"country\":\"Egypt\",\"linesPer100\":95.38,\"numUsers\":95340000},{\"country\":\"Italy\",\"linesPer100\":147.4,\"numUsers\":88580000},{\"country\":\"United Kingdom\",\"linesPer100\":129.6,\"numUsers\":83100000},{\"country\":\"Vietnam\",\"linesPer100\":79,\"numUsers\":72300000},{\"country\":\"Turkey\",\"linesPer100\":92.5,\"numUsers\":72200000},{\"country\":\"France\",\"linesPer100\":114.2,\"numUsers\":72180000},{\"country\":\"Thailand\",\"linesPer100\":105,\"numUsers\":69000000},{\"country\":\"South Africa\",\"linesPer100\":117.6,\"numUsers\":59474500},{\"country\":\"Colombia\",\"linesPer100\":118.9,\"numUsers\":57900472},{\"country\":\"Ukraine\",\"linesPer100\":126,\"numUsers\":57505555},{\"country\":\"Argentina\",\"linesPer100\":141.34,\"numUsers\":56725200},{\"country\":\"South Korea\",\"linesPer100\":111.5,\"numUsers\":56004887},{\"country\":\"Spain\",\"linesPer100\":118,\"numUsers\":55740000},{\"country\":\"Poland\",\"linesPer100\":123.48,\"numUsers\":47153200},{\"country\":\"Saudi Arabia\",\"linesPer100\":169.5,\"numUsers\":46000000},{\"country\":\"Morocco\",\"linesPer100\":131,\"numUsers\":44450000},{\"country\":\"Sri Lanka\",\"linesPer100\":179.3,\"numUsers\":38849812},{\"country\":\"Peru\",\"linesPer100\":109.8,\"numUsers\":34235000},{\"country\":\"Nepal\",\"linesPer100\":134.41,\"numUsers\":34172058},{\"country\":\"Algeria\",\"linesPer100\":94.2,\"numUsers\":33000000},{\"country\":\"Venezuela\",\"linesPer100\":106.15,\"numUsers\":32019086},{\"country\":\"Canada\",\"linesPer100\":84.6,\"numUsers\":31210628},{\"country\":\"Taiwan\",\"linesPer100\":123.33,\"numUsers\":28610000},{\"country\":\"Malaysia\",\"linesPer100\":143.8,\"numUsers\":30379000},{\"country\":\"Kenya\",\"linesPer100\":71.3,\"numUsers\":28080000},{\"country\":\"Romania\",\"linesPer100\":123.45,\"numUsers\":26000000},{\"country\":\"Chile\",\"linesPer100\":122.9,\"numUsers\":21000000},{\"country\":\"Australia\",\"linesPer100\":87.6,\"numUsers\":20570000},{\"country\":\"Netherlands\",\"linesPer100\":121.1,\"numUsers\":20000000},{\"country\":\"Hong Kong\",\"linesPer100\":256.7,\"numUsers\":19207578},{\"country\":\"Ethiopia\",\"linesPer100\":21.8,\"numUsers\":18000000},{\"country\":\"Guatemala\",\"linesPer100\":119.4,\"numUsers\":17571895},{\"country\":\"United Arab Emirates\",\"linesPer100\":203.7,\"numUsers\":17132724},{\"country\":\"Ecuador\",\"linesPer100\":111.18,\"numUsers\":15900000},{\"country\":\"Sweden\",\"linesPer100\":146.4,\"numUsers\":14500000},{\"country\":\"Zimbabwe\",\"linesPer100\":103.5,\"numUsers\":13518887},{\"country\":\"Portugal\",\"linesPer100\":126.87,\"numUsers\":13400000},{\"country\":\"Belgium\",\"linesPer100\":113.6,\"numUsers\":11822000},{\"country\":\"Hungary\",\"linesPer100\":116.7,\"numUsers\":11561890},{\"country\":\"Bulgaria\",\"linesPer100\":145.2,\"numUsers\":10454400},{\"country\":\"Israel\",\"linesPer100\":122.8,\"numUsers\":9701200},{\"country\":\"Finland\",\"linesPer100\":172.6,\"numUsers\":9470000},{\"country\":\"Singapore\",\"linesPer100\":150.1,\"numUsers\":8106700},{\"country\":\"Azerbaijan\",\"linesPer100\":126.2,\"numUsers\":7000000},{\"country\":\"Denmark\",\"linesPer100\":127.5,\"numUsers\":7000000},{\"country\":\"Panama\",\"linesPer100\":202.5,\"numUsers\":6900000},{\"country\":\"Jordan\",\"linesPer100\":101,\"numUsers\":6010000},{\"country\":\"Ireland\",\"linesPer100\":125.9,\"numUsers\":5770638},{\"country\":\"Lithuania\",\"linesPer100\":167.1,\"numUsers\":4940000},{\"country\":\"New Zealand\",\"linesPer100\":111.1,\"numUsers\":4761000},{\"country\":\"Mongolia\",\"linesPer100\":117.4,\"numUsers\":3500000},{\"country\":\"Lebanon\",\"linesPer100\":64.4,\"numUsers\":2720000},{\"country\":\"Latvia\",\"linesPer100\":129.8,\"numUsers\":2579000},{\"country\":\"North Korea\",\"linesPer100\":12.3,\"numUsers\":3000000},{\"country\":\"Trinidad and Tobago\",\"linesPer100\":151.6,\"numUsers\":2060000},{\"country\":\"Estonia\",\"linesPer100\":150.5,\"numUsers\":1904000},{\"country\":\"Cuba\",\"linesPer100\":11.6,\"numUsers\":1300000},{\"country\":\"Montenegro\",\"linesPer100\":180.23,\"numUsers\":1117500},{\"country\":\"Malta\",\"linesPer100\":122.57,\"numUsers\":554651},{\"country\":\"Maldives\",\"linesPer100\":245.92,\"numUsers\":776716}]},\"listing\":[{\"Place\":344,\"pop2022\":7604.299,\"GrowthRate\":0.00682,\"Density\":7242.18952,\"area\":1104,\"country\":\"Hong Kong\",\"cca3\":\"HKG\",\"cca2\":\"HK\",\"ccn3\":344,\"region\":\"Asia\",\"subregion\":\"Eastern Asia\",\"Rank\":104,\"linesPer100\":256.7,\"numUsers\":19207578,\"density\":6887.951992753623,\"densityMi\":17839.79566123188,\"rank\":1},{\"Place\":462,\"pop2022\":540.985,\"GrowthRate\":-0.00484,\"Density\":1803.28333,\"area\":300,\"country\":\"Maldives\",\"cca3\":\"MDV\",\"cca2\":\"MV\",\"ccn3\":462,\"region\":\"Asia\",\"subregion\":\"Southern Asia\",\"Rank\":173,\"linesPer100\":245.92,\"numUsers\":776716,\"density\":1803.2833333333333,\"densityMi\":4670.503833333333,\"rank\":2},{\"Place\":784,\"pop2022\":10081.785,\"GrowthRate\":0.00908,\"Density\":120.59551,\"area\":83600,\"country\":\"United Arab Emirates\",\"cca3\":\"ARE\",\"cca2\":\"AE\",\"ccn3\":784,\"region\":\"Asia\",\"subregion\":\"Western Asia\",\"Rank\":93,\"linesPer100\":203.7,\"numUsers\":17132724,\"density\":120.59551435406699,\"densityMi\":312.34238217703347,\"rank\":3},{\"Place\":591,\"pop2022\":4446.964,\"GrowthRate\":0.01492,\"Density\":59.81926,\"area\":75417,\"country\":\"Panama\",\"cca3\":\"PAN\",\"cca2\":\"PA\",\"ccn3\":591,\"region\":\"Americas\",\"subregion\":\"Central America\",\"Rank\":128,\"linesPer100\":202.5,\"numUsers\":6900000,\"density\":58.96500788946789,\"densityMi\":152.71937043372182,\"rank\":4},{\"Place\":499,\"pop2022\":627.95,\"GrowthRate\":-0.00016,\"Density\":46.68773,\"area\":13812,\"country\":\"Montenegro\",\"cca3\":\"MNE\",\"cca2\":\"ME\",\"ccn3\":499,\"region\":\"Europe\",\"subregion\":\"Southern Europe\",\"Rank\":169,\"linesPer100\":180.23,\"numUsers\":1117500,\"density\":45.46408919779901,\"densityMi\":117.75199102229944,\"rank\":5},{\"Place\":144,\"pop2022\":21575.842,\"GrowthRate\":0.00365,\"Density\":344.05744,\"area\":65610,\"country\":\"Sri Lanka\",\"cca3\":\"LKA\",\"cca2\":\"LK\",\"ccn3\":144,\"region\":\"Asia\",\"subregion\":\"Southern Asia\",\"Rank\":59,\"linesPer100\":179.3,\"numUsers\":38849812,\"density\":328.8499009297363,\"densityMi\":851.7212434080169,\"rank\":6},{\"Place\":246,\"pop2022\":5554.96,\"GrowthRate\":0.00119,\"Density\":18.27951,\"area\":338424,\"country\":\"Finland\",\"cca3\":\"FIN\",\"cca2\":\"FI\",\"ccn3\":246,\"region\":\"Europe\",\"subregion\":\"Northern Europe\",\"Rank\":117,\"linesPer100\":172.6,\"numUsers\":9470000,\"density\":16.41420230243718,\"densityMi\":42.51278396331229,\"rank\":7},{\"Place\":682,\"pop2022\":35844.909,\"GrowthRate\":0.01427,\"Density\":16.67445,\"area\":2149690,\"country\":\"Saudi Arabia\",\"cca3\":\"SAU\",\"cca2\":\"SA\",\"ccn3\":682,\"region\":\"Asia\",\"subregion\":\"Western Asia\",\"Rank\":41,\"linesPer100\":169.5,\"numUsers\":46000000,\"density\":16.67445492140727,\"densityMi\":43.18683824644483,\"rank\":8},{\"Place\":440,\"pop2022\":2661.708,\"GrowthRate\":-0.01047,\"Density\":42.46909,\"area\":65300,\"country\":\"Lithuania\",\"cca3\":\"LTU\",\"cca2\":\"LT\",\"ccn3\":440,\"region\":\"Europe\",\"subregion\":\"Northern Europe\",\"Rank\":142,\"linesPer100\":167.1,\"numUsers\":4940000,\"density\":40.76122511485452,\"densityMi\":105.5715730474732,\"rank\":9},{\"Place\":360,\"pop2022\":279134.505,\"GrowthRate\":0.01003,\"Density\":154.08431,\"area\":1904569,\"country\":\"Indonesia\",\"cca3\":\"IDN\",\"cca2\":\"ID\",\"ccn3\":360,\"region\":\"Asia\",\"subregion\":\"South-Eastern Asia\",\"Rank\":4,\"linesPer100\":162.28,\"numUsers\":385573398,\"density\":146.56045803538754,\"densityMi\":379.5915863116537,\"rank\":10},{\"Place\":643,\"pop2022\":145805.947,\"GrowthRate\":-0.00073,\"Density\":8.90316,\"area\":17098242,\"country\":\"Russia\",\"cca3\":\"RUS\",\"cca2\":\"RU\",\"ccn3\":643,\"region\":\"Europe\",\"subregion\":\"Eastern Europe\",\"Rank\":9,\"linesPer100\":155.5,\"numUsers\":256116000,\"density\":8.527540258232396,\"densityMi\":22.086329268821903,\"rank\":11},{\"Place\":780,\"pop2022\":1406.585,\"GrowthRate\":0.00229,\"Density\":274.18811,\"area\":5130,\"country\":\"Trinidad and Tobago\",\"cca3\":\"TTO\",\"cca2\":\"TT\",\"ccn3\":780,\"region\":\"Americas\",\"subregion\":\"Caribbean\",\"Rank\":154,\"linesPer100\":151.6,\"numUsers\":2060000,\"density\":274.18810916179336,\"densityMi\":710.1472027290448,\"rank\":12},{\"Place\":233,\"pop2022\":1321.91,\"GrowthRate\":-0.00247,\"Density\":31.18448,\"area\":45227,\"country\":\"Estonia\",\"cca3\":\"EST\",\"cca2\":\"EE\",\"ccn3\":233,\"region\":\"Europe\",\"subregion\":\"Northern Europe\",\"Rank\":156,\"linesPer100\":150.5,\"numUsers\":1904000,\"density\":29.228337055298827,\"densityMi\":75.70139297322396,\"rank\":13},{\"Place\":702,\"pop2022\":5943.546,\"GrowthRate\":0.00795,\"Density\":8490.78,\"area\":710,\"country\":\"Singapore\",\"cca3\":\"SGP\",\"cca2\":\"SG\",\"ccn3\":702,\"region\":\"Asia\",\"subregion\":\"South-Eastern Asia\",\"Rank\":114,\"linesPer100\":150.1,\"numUsers\":8106700,\"density\":8371.191549295774,\"densityMi\":21681.386112676053,\"rank\":14},{\"Place\":380,\"pop2022\":60262.77,\"GrowthRate\":-0.00173,\"Density\":204.87785,\"area\":301336,\"country\":\"Italy\",\"cca3\":\"ITA\",\"cca2\":\"IT\",\"ccn3\":380,\"region\":\"Europe\",\"subregion\":\"Southern Europe\",\"Rank\":25,\"linesPer100\":147.4,\"numUsers\":88580000,\"density\":199.98529880266545,\"densityMi\":517.9619238989035,\"rank\":15},{\"Place\":752,\"pop2022\":10218.971,\"GrowthRate\":0.00579,\"Density\":24.90367,\"area\":450295,\"country\":\"Sweden\",\"cca3\":\"SWE\",\"cca2\":\"SE\",\"ccn3\":752,\"region\":\"Europe\",\"subregion\":\"Northern Europe\",\"Rank\":91,\"linesPer100\":146.4,\"numUsers\":14500000,\"density\":22.693947301213647,\"densityMi\":58.77732351014335,\"rank\":16},{\"Place\":100,\"pop2022\":6844.597,\"GrowthRate\":-0.00755,\"Density\":63.04898,\"area\":110879,\"country\":\"Bulgaria\",\"cca3\":\"BGR\",\"cca2\":\"BG\",\"ccn3\":100,\"region\":\"Europe\",\"subregion\":\"Eastern Europe\",\"Rank\":108,\"linesPer100\":145.2,\"numUsers\":10454400,\"density\":61.73032765447019,\"densityMi\":159.88154862507778,\"rank\":17},{\"Place\":458,\"pop2022\":33181.072,\"GrowthRate\":0.01235,\"Density\":100.99246,\"area\":330803,\"country\":\"Malaysia\",\"cca3\":\"MYS\",\"cca2\":\"MY\",\"ccn3\":458,\"region\":\"Asia\",\"subregion\":\"South-Eastern Asia\",\"Rank\":45,\"linesPer100\":143.8,\"numUsers\":30379000,\"density\":100.30462843444587,\"densityMi\":259.7889876452148,\"rank\":18},{\"Place\":32,\"pop2022\":46010.234,\"GrowthRate\":0.00887,\"Density\":16.81237,\"area\":2780400,\"country\":\"Argentina\",\"cca3\":\"ARG\",\"cca2\":\"AR\",\"ccn3\":32,\"region\":\"Americas\",\"subregion\":\"South America\",\"Rank\":32,\"linesPer100\":141.34,\"numUsers\":56725200,\"density\":16.548062868651993,\"densityMi\":42.85948282980866,\"rank\":19},{\"Place\":76,\"pop2022\":215353.593,\"GrowthRate\":0.00636,\"Density\":25.76573,\"area\":8515767,\"country\":\"Brazil\",\"cca3\":\"BRA\",\"cca2\":\"BR\",\"ccn3\":76,\"region\":\"Americas\",\"subregion\":\"South America\",\"Rank\":7,\"linesPer100\":141.3,\"numUsers\":284200000,\"density\":25.288807573058303,\"densityMi\":65.498011614221,\"rank\":20},{\"Place\":524,\"pop2022\":30225.582,\"GrowthRate\":0.01856,\"Density\":210.85164,\"area\":147181,\"country\":\"Nepal\",\"cca3\":\"NPL\",\"cca2\":\"NP\",\"ccn3\":524,\"region\":\"Asia\",\"subregion\":\"Southern Asia\",\"Rank\":49,\"linesPer100\":134.41,\"numUsers\":34172058,\"density\":205.363341735686,\"densityMi\":531.8910550954267,\"rank\":21},{\"Place\":504,\"pop2022\":37772.756,\"GrowthRate\":0.01146,\"Density\":84.63535,\"area\":446550,\"country\":\"Morocco\",\"cca3\":\"MAR\",\"cca2\":\"MA\",\"ccn3\":504,\"region\":\"Africa\",\"subregion\":\"Northern Africa\",\"Rank\":39,\"linesPer100\":131,\"numUsers\":44450000,\"density\":84.58796551338035,\"densityMi\":219.0828306796551,\"rank\":22},{\"Place\":276,\"pop2022\":83883.596,\"GrowthRate\":-0.0002,\"Density\":240.65755,\"area\":357114,\"country\":\"Germany\",\"cca3\":\"DEU\",\"cca2\":\"DE\",\"ccn3\":276,\"region\":\"Europe\",\"subregion\":\"Western Europe\",\"Rank\":19,\"linesPer100\":130.1,\"numUsers\":107000000,\"density\":234.89304815829118,\"densityMi\":608.3729947299742,\"rank\":23},{\"Place\":364,\"pop2022\":86022.837,\"GrowthRate\":0.01169,\"Density\":52.82174,\"area\":1648195,\"country\":\"Iran\",\"cca3\":\"IRN\",\"cca2\":\"IR\",\"ccn3\":364,\"region\":\"Asia\",\"subregion\":\"Southern Asia\",\"Rank\":17,\"linesPer100\":130,\"numUsers\":96165000,\"density\":52.19214777377677,\"densityMi\":135.17766273408182,\"rank\":24},{\"Place\":428,\"pop2022\":1848.837,\"GrowthRate\":-0.0097,\"Density\":29.72407,\"area\":64559,\"country\":\"Latvia\",\"cca3\":\"LVA\",\"cca2\":\"LV\",\"ccn3\":428,\"region\":\"Europe\",\"subregion\":\"Northern Europe\",\"Rank\":151,\"linesPer100\":129.8,\"numUsers\":2579000,\"density\":28.63794358648678,\"densityMi\":74.17227388900076,\"rank\":25},{\"Place\":826,\"pop2022\":68497.907,\"GrowthRate\":0.00426,\"Density\":283.1311,\"area\":242900,\"country\":\"United Kingdom\",\"cca3\":\"GBR\",\"cca2\":\"GB\",\"ccn3\":826,\"region\":\"Europe\",\"subregion\":\"Northern Europe\",\"Rank\":21,\"linesPer100\":129.6,\"numUsers\":83100000,\"density\":282.00044051049815,\"densityMi\":730.3811409221902,\"rank\":26},{\"Place\":208,\"pop2022\":5834.95,\"GrowthRate\":0.00372,\"Density\":137.51944,\"area\":43094,\"country\":\"Denmark\",\"cca3\":\"DNK\",\"cca2\":\"DK\",\"ccn3\":208,\"region\":\"Europe\",\"subregion\":\"Northern Europe\",\"Rank\":115,\"linesPer100\":127.5,\"numUsers\":7000000,\"density\":135.40051979393883,\"densityMi\":350.6873462663015,\"rank\":27},{\"Place\":620,\"pop2022\":10140.57,\"GrowthRate\":-0.00269,\"Density\":110.717,\"area\":92090,\"country\":\"Portugal\",\"cca3\":\"PRT\",\"cca2\":\"PT\",\"ccn3\":620,\"region\":\"Europe\",\"subregion\":\"Southern Europe\",\"Rank\":92,\"linesPer100\":126.87,\"numUsers\":13400000,\"density\":110.1158649147573,\"densityMi\":285.2000901292214,\"rank\":28},{\"Place\":31,\"pop2022\":10300.205,\"GrowthRate\":0.00752,\"Density\":124.61232,\"area\":86600,\"country\":\"Azerbaijan\",\"cca3\":\"AZE\",\"cca2\":\"AZ\",\"ccn3\":31,\"region\":\"Asia\",\"subregion\":\"Western Asia\",\"Rank\":89,\"linesPer100\":126.2,\"numUsers\":7000000,\"density\":118.94001154734411,\"densityMi\":308.05462990762123,\"rank\":29},{\"Place\":804,\"pop2022\":43192.122,\"GrowthRate\":-0.00632,\"Density\":74.55659,\"area\":603500,\"country\":\"Ukraine\",\"cca3\":\"UKR\",\"cca2\":\"UA\",\"ccn3\":804,\"region\":\"Europe\",\"subregion\":\"Eastern Europe\",\"Rank\":35,\"linesPer100\":126,\"numUsers\":57505555,\"density\":71.56938193869097,\"densityMi\":185.3646992212096,\"rank\":30},{\"Place\":372,\"pop2022\":5020.199,\"GrowthRate\":0.00748,\"Density\":72.87268,\"area\":70273,\"country\":\"Ireland\",\"cca3\":\"IRL\",\"cca2\":\"IE\",\"ccn3\":372,\"region\":\"Europe\",\"subregion\":\"Northern Europe\",\"Rank\":124,\"linesPer100\":125.9,\"numUsers\":5770638,\"density\":71.4385183498641,\"densityMi\":185.02576252614801,\"rank\":31},{\"Place\":616,\"pop2022\":37739.785,\"GrowthRate\":-0.00151,\"Density\":123.24,\"area\":312679,\"country\":\"Poland\",\"cca3\":\"POL\",\"cca2\":\"PL\",\"ccn3\":616,\"region\":\"Europe\",\"subregion\":\"Eastern Europe\",\"Rank\":40,\"linesPer100\":123.48,\"numUsers\":47153200,\"density\":120.69817608473866,\"densityMi\":312.6082760594731,\"rank\":32},{\"Place\":642,\"pop2022\":19031.335,\"GrowthRate\":-0.00504,\"Density\":82.68382,\"area\":238391,\"country\":\"Romania\",\"cca3\":\"ROU\",\"cca2\":\"RO\",\"ccn3\":642,\"region\":\"Europe\",\"subregion\":\"Eastern Europe\",\"Rank\":66,\"linesPer100\":123.45,\"numUsers\":26000000,\"density\":79.8324391440952,\"densityMi\":206.76601738320656,\"rank\":33},{\"Place\":158,\"pop2022\":23888.595,\"GrowthRate\":0.00141,\"Density\":674.62849,\"area\":36193,\"country\":\"Taiwan\",\"cca3\":\"TWN\",\"cca2\":\"TW\",\"ccn3\":158,\"region\":\"Asia\",\"subregion\":\"Eastern Asia\",\"Rank\":57,\"linesPer100\":123.33,\"numUsers\":28610000,\"density\":660.0335700273533,\"densityMi\":1709.486946370845,\"rank\":34},{\"Place\":152,\"pop2022\":19250.195,\"GrowthRate\":0.00197,\"Density\":25.8902,\"area\":756102,\"country\":\"Chile\",\"cca3\":\"CHL\",\"cca2\":\"CL\",\"ccn3\":152,\"region\":\"Americas\",\"subregion\":\"South America\",\"Rank\":64,\"linesPer100\":122.9,\"numUsers\":21000000,\"density\":25.45978584899921,\"densityMi\":65.94084534890796,\"rank\":35},{\"Place\":376,\"pop2022\":8922.892,\"GrowthRate\":0.01514,\"Density\":412.33327,\"area\":20770,\"country\":\"Israel\",\"cca3\":\"ISR\",\"cca2\":\"IL\",\"ccn3\":376,\"region\":\"Asia\",\"subregion\":\"Western Asia\",\"Rank\":99,\"linesPer100\":122.8,\"numUsers\":9701200,\"density\":429.60481463649495,\"densityMi\":1112.6764699085218,\"rank\":36},{\"Place\":470,\"pop2022\":444.033,\"GrowthRate\":0.00282,\"Density\":1387.60313,\"area\":316,\"country\":\"Malta\",\"cca3\":\"MLT\",\"cca2\":\"MT\",\"ccn3\":470,\"region\":\"Europe\",\"subregion\":\"Southern Europe\",\"Rank\":175,\"linesPer100\":122.57,\"numUsers\":554651,\"density\":1405.1677215189873,\"densityMi\":3639.384398734177,\"rank\":37},{\"Place\":528,\"pop2022\":17211.447,\"GrowthRate\":0.00223,\"Density\":510.42251,\"area\":41850,\"country\":\"Netherlands\",\"cca3\":\"NLD\",\"cca2\":\"NL\",\"ccn3\":528,\"region\":\"Europe\",\"subregion\":\"Western Europe\",\"Rank\":71,\"linesPer100\":121.1,\"numUsers\":20000000,\"density\":411.26516129032257,\"densityMi\":1065.1767677419355,\"rank\":38},{\"Place\":320,\"pop2022\":18584.039,\"GrowthRate\":0.01831,\"Density\":173.42328,\"area\":108889,\"country\":\"Guatemala\",\"cca3\":\"GTM\",\"cca2\":\"GT\",\"ccn3\":320,\"region\":\"Americas\",\"subregion\":\"Central America\",\"Rank\":67,\"linesPer100\":119.4,\"numUsers\":17571895,\"density\":170.6695717657431,\"densityMi\":442.03419087327455,\"rank\":39},{\"Place\":170,\"pop2022\":51512.762,\"GrowthRate\":0.00482,\"Density\":46.42881,\"area\":1141748,\"country\":\"Colombia\",\"cca3\":\"COL\",\"cca2\":\"CO\",\"ccn3\":170,\"region\":\"Americas\",\"subregion\":\"South America\",\"Rank\":28,\"linesPer100\":118.9,\"numUsers\":57900472,\"density\":45.11745323836784,\"densityMi\":116.85420388737269,\"rank\":40},{\"Place\":724,\"pop2022\":46719.142,\"GrowthRate\":-0.00056,\"Density\":93.66308,\"area\":505992,\"country\":\"Spain\",\"cca3\":\"ESP\",\"cca2\":\"ES\",\"ccn3\":724,\"region\":\"Europe\",\"subregion\":\"Southern Europe\",\"Rank\":31,\"linesPer100\":118,\"numUsers\":55740000,\"density\":92.3317799490901,\"densityMi\":239.13931006814335,\"rank\":41},{\"Place\":710,\"pop2022\":60756.135,\"GrowthRate\":0.01189,\"Density\":50.08378,\"area\":1221037,\"country\":\"South Africa\",\"cca3\":\"ZAF\",\"cca2\":\"ZA\",\"ccn3\":710,\"region\":\"Africa\",\"subregion\":\"Southern Africa\",\"Rank\":24,\"linesPer100\":117.6,\"numUsers\":59474500,\"density\":49.75781651170276,\"densityMi\":128.87274476531013,\"rank\":42},{\"Place\":496,\"pop2022\":3378.078,\"GrowthRate\":0.01465,\"Density\":2.17441,\"area\":1564110,\"country\":\"Mongolia\",\"cca3\":\"MNG\",\"cca2\":\"MN\",\"ccn3\":496,\"region\":\"Asia\",\"subregion\":\"Eastern Asia\",\"Rank\":135,\"linesPer100\":117.4,\"numUsers\":3500000,\"density\":2.1597445192473677,\"densityMi\":5.593738304850682,\"rank\":43},{\"Place\":348,\"pop2022\":9606.259,\"GrowthRate\":-0.0029,\"Density\":106.11133,\"area\":93028,\"country\":\"Hungary\",\"cca3\":\"HUN\",\"cca2\":\"HU\",\"ccn3\":348,\"region\":\"Europe\",\"subregion\":\"Eastern Europe\",\"Rank\":95,\"linesPer100\":116.7,\"numUsers\":11561890,\"density\":103.26201788708777,\"densityMi\":267.4486263275573,\"rank\":44},{\"Place\":392,\"pop2022\":125584.838,\"GrowthRate\":-0.0037,\"Density\":344.48804,\"area\":377930,\"country\":\"Japan\",\"cca3\":\"JPN\",\"cca2\":\"JP\",\"ccn3\":392,\"region\":\"Asia\",\"subregion\":\"Eastern Asia\",\"Rank\":11,\"linesPer100\":115.2,\"numUsers\":146649600,\"density\":332.29655756357,\"densityMi\":860.6480840896462,\"rank\":45},{\"Place\":250,\"pop2022\":65584.518,\"GrowthRate\":0.00242,\"Density\":119.7766,\"area\":551695,\"country\":\"France\",\"cca3\":\"FRA\",\"cca2\":\"FR\",\"ccn3\":250,\"region\":\"Europe\",\"subregion\":\"Western Europe\",\"Rank\":22,\"linesPer100\":114.2,\"numUsers\":72180000,\"density\":118.87821713084222,\"densityMi\":307.89458236888134,\"rank\":46},{\"Place\":156,\"pop2022\":1448471.4,\"GrowthRate\":0.00295,\"Density\":154.2862,\"area\":9706961,\"country\":\"China\",\"cca3\":\"CHN\",\"cca2\":\"CN\",\"ccn3\":156,\"region\":\"Asia\",\"subregion\":\"Eastern Asia\",\"Rank\":1,\"linesPer100\":114.17,\"numUsers\":1598360000,\"density\":149.21986397184455,\"densityMi\":386.47944768707737,\"rank\":47},{\"Place\":608,\"pop2022\":112508.994,\"GrowthRate\":0.01317,\"Density\":377.3317,\"area\":342353,\"country\":\"Philippines\",\"cca3\":\"PHL\",\"cca2\":\"PH\",\"ccn3\":608,\"region\":\"Asia\",\"subregion\":\"South-Eastern Asia\",\"Rank\":13,\"linesPer100\":113.8,\"numUsers\":106987098,\"density\":328.6344620902986,\"densityMi\":851.1632568138733,\"rank\":48},{\"Place\":56,\"pop2022\":11668.278,\"GrowthRate\":0.00309,\"Density\":385.34604,\"area\":30528,\"country\":\"Belgium\",\"cca3\":\"BEL\",\"cca2\":\"BE\",\"ccn3\":56,\"region\":\"Europe\",\"subregion\":\"Western Europe\",\"Rank\":82,\"linesPer100\":113.6,\"numUsers\":11822000,\"density\":382.21560534591197,\"densityMi\":989.9384178459119,\"rank\":49},{\"Place\":410,\"pop2022\":51329.899,\"GrowthRate\":0.00048,\"Density\":527.92244,\"area\":100210,\"country\":\"South Korea\",\"cca3\":\"KOR\",\"cca2\":\"KR\",\"ccn3\":410,\"region\":\"Asia\",\"subregion\":\"Eastern Asia\",\"Rank\":29,\"linesPer100\":111.5,\"numUsers\":56004887,\"density\":512.2233210258457,\"densityMi\":1326.6584014569403,\"rank\":50},{\"Place\":218,\"pop2022\":18113.361,\"GrowthRate\":0.01257,\"Density\":72.93188,\"area\":276841,\"country\":\"Ecuador\",\"cca3\":\"ECU\",\"cca2\":\"EC\",\"ccn3\":218,\"region\":\"Americas\",\"subregion\":\"South America\",\"Rank\":68,\"linesPer100\":111.18,\"numUsers\":15900000,\"density\":65.42875152163155,\"densityMi\":169.46046644102572,\"rank\":51},{\"Place\":554,\"pop2022\":4898.203,\"GrowthRate\":0.00773,\"Density\":18.60242,\"area\":270467,\"country\":\"New Zealand\",\"cca3\":\"NZL\",\"cca2\":\"NZ\",\"ccn3\":554,\"region\":\"Oceania\",\"subregion\":\"Australia and New Zealand\",\"Rank\":127,\"linesPer100\":111.1,\"numUsers\":4761000,\"density\":18.110168708197303,\"densityMi\":46.90533695423101,\"rank\":52},{\"Place\":604,\"pop2022\":33684.208,\"GrowthRate\":0.00974,\"Density\":26.31579,\"area\":1285216,\"country\":\"Peru\",\"cca3\":\"PER\",\"cca2\":\"PE\",\"ccn3\":604,\"region\":\"Americas\",\"subregion\":\"South America\",\"Rank\":44,\"linesPer100\":109.8,\"numUsers\":34235000,\"density\":26.208985882528694,\"densityMi\":67.8812734357493,\"rank\":53},{\"Place\":862,\"pop2022\":29266.991,\"GrowthRate\":0.01958,\"Density\":33.18065,\"area\":916445,\"country\":\"Venezuela\",\"cca3\":\"VEN\",\"cca2\":\"VE\",\"ccn3\":862,\"region\":\"Americas\",\"subregion\":\"South America\",\"Rank\":50,\"linesPer100\":106.15,\"numUsers\":32019086,\"density\":31.935349093508066,\"densityMi\":82.71255415218589,\"rank\":54},{\"Place\":764,\"pop2022\":70078.203,\"GrowthRate\":0.00182,\"Density\":137.16887,\"area\":513120,\"country\":\"Thailand\",\"cca3\":\"THA\",\"cca2\":\"TH\",\"ccn3\":764,\"region\":\"Asia\",\"subregion\":\"South-Eastern Asia\",\"Rank\":20,\"linesPer100\":105,\"numUsers\":69000000,\"density\":136.57273737137513,\"densityMi\":353.72338979186156,\"rank\":55},{\"Place\":716,\"pop2022\":15331.428,\"GrowthRate\":0.01585,\"Density\":39.63145,\"area\":390757,\"country\":\"Zimbabwe\",\"cca3\":\"ZWE\",\"cca2\":\"ZW\",\"ccn3\":716,\"region\":\"Africa\",\"subregion\":\"Eastern Africa\",\"Rank\":74,\"linesPer100\":103.5,\"numUsers\":13518887,\"density\":39.23519732212091,\"densityMi\":101.61916106429315,\"rank\":56},{\"Place\":840,\"pop2022\":334805.269,\"GrowthRate\":0.00568,\"Density\":36.60106,\"area\":9372610,\"country\":\"United States\",\"cca3\":\"USA\",\"cca2\":\"US\",\"ccn3\":840,\"region\":\"Americas\",\"subregion\":\"Northern America\",\"Rank\":3,\"linesPer100\":103.1,\"numUsers\":327577529,\"density\":35.72166867073312,\"densityMi\":92.51912185719878,\"rank\":57},{\"Place\":400,\"pop2022\":10300.869,\"GrowthRate\":0.0031,\"Density\":116.02691,\"area\":89342,\"country\":\"Jordan\",\"cca3\":\"JOR\",\"cca2\":\"JO\",\"ccn3\":400,\"region\":\"Asia\",\"subregion\":\"Western Asia\",\"Rank\":88,\"linesPer100\":101,\"numUsers\":6010000,\"density\":115.29704953997,\"densityMi\":298.6193583085223,\"rank\":58},{\"Place\":50,\"pop2022\":167885.689,\"GrowthRate\":0.00951,\"Density\":1289.74179,\"area\":147570,\"country\":\"Bangladesh\",\"cca3\":\"BGD\",\"cca2\":\"BD\",\"ccn3\":50,\"region\":\"Asia\",\"subregion\":\"Southern Asia\",\"Rank\":8,\"linesPer100\":98.18,\"numUsers\":165615000,\"density\":1137.6681507081385,\"densityMi\":2946.5605103340786,\"rank\":59},{\"Place\":818,\"pop2022\":106156.692,\"GrowthRate\":0.01821,\"Density\":106.64191,\"area\":1002450,\"country\":\"Egypt\",\"cca3\":\"EGY\",\"cca2\":\"EG\",\"ccn3\":818,\"region\":\"Africa\",\"subregion\":\"Northern Africa\",\"Rank\":14,\"linesPer100\":95.38,\"numUsers\":95340000,\"density\":105.89724375280562,\"densityMi\":274.2738613197665,\"rank\":60},{\"Place\":566,\"pop2022\":216746.934,\"GrowthRate\":0.02529,\"Density\":237.98207,\"area\":923768,\"country\":\"Nigeria\",\"cca3\":\"NGA\",\"cca2\":\"NG\",\"ccn3\":566,\"region\":\"Africa\",\"subregion\":\"Western Africa\",\"Rank\":6,\"linesPer100\":94.5,\"numUsers\":167371945,\"density\":234.63351620753264,\"densityMi\":607.7008069775095,\"rank\":61},{\"Place\":12,\"pop2022\":45350.148,\"GrowthRate\":0.01644,\"Density\":19.04076,\"area\":2381741,\"country\":\"Algeria\",\"cca3\":\"DZA\",\"cca2\":\"DZ\",\"ccn3\":12,\"region\":\"Africa\",\"subregion\":\"Northern Africa\",\"Rank\":34,\"linesPer100\":94.2,\"numUsers\":33000000,\"density\":19.040755480969594,\"densityMi\":49.315556695711244,\"rank\":62},{\"Place\":356,\"pop2022\":1406631.776,\"GrowthRate\":0.00949,\"Density\":473.10524,\"area\":3287590,\"country\":\"India\",\"cca3\":\"IND\",\"cca2\":\"IN\",\"ccn3\":356,\"region\":\"Asia\",\"subregion\":\"Southern Asia\",\"Rank\":2,\"linesPer100\":93.1,\"numUsers\":1281971713,\"density\":427.86107026727785,\"densityMi\":1108.1601719922496,\"rank\":63},{\"Place\":792,\"pop2022\":85561.976,\"GrowthRate\":0.00611,\"Density\":111.17287,\"area\":783562,\"country\":\"Turkey\",\"cca3\":\"TUR\",\"cca2\":\"TR\",\"ccn3\":792,\"region\":\"Asia\",\"subregion\":\"Western Asia\",\"Rank\":18,\"linesPer100\":92.5,\"numUsers\":72200000,\"density\":109.19617847726153,\"densityMi\":282.81810225610735,\"rank\":64},{\"Place\":484,\"pop2022\":131562.772,\"GrowthRate\":0.00998,\"Density\":67.67806,\"area\":1964375,\"country\":\"Mexico\",\"cca3\":\"MEX\",\"cca2\":\"MX\",\"ccn3\":484,\"region\":\"Americas\",\"subregion\":\"Central America\",\"Rank\":10,\"linesPer100\":90.2,\"numUsers\":101339000,\"density\":66.97436691059497,\"densityMi\":173.46361029844095,\"rank\":65},{\"Place\":36,\"pop2022\":26068.792,\"GrowthRate\":0.01088,\"Density\":3.39336,\"area\":7692024,\"country\":\"Australia\",\"cca3\":\"AUS\",\"cca2\":\"AU\",\"ccn3\":36,\"region\":\"Oceania\",\"subregion\":\"Australia and New Zealand\",\"Rank\":55,\"linesPer100\":87.6,\"numUsers\":20570000,\"density\":3.3890679488259527,\"densityMi\":8.777685987459217,\"rank\":66},{\"Place\":124,\"pop2022\":38388.419,\"GrowthRate\":0.00842,\"Density\":4.22152,\"area\":9984670,\"country\":\"Canada\",\"cca3\":\"CAN\",\"cca2\":\"CA\",\"ccn3\":124,\"region\":\"Americas\",\"subregion\":\"Northern America\",\"Rank\":38,\"linesPer100\":84.6,\"numUsers\":31210628,\"density\":3.8447358801041998,\"densityMi\":9.957865929469877,\"rank\":67},{\"Place\":586,\"pop2022\":229488.994,\"GrowthRate\":0.01905,\"Density\":297.69743,\"area\":881912,\"country\":\"Pakistan\",\"cca3\":\"PAK\",\"cca2\":\"PK\",\"ccn3\":586,\"region\":\"Asia\",\"subregion\":\"Southern Asia\",\"Rank\":5,\"linesPer100\":79.61,\"numUsers\":165405847,\"density\":260.2175659249449,\"densityMi\":673.9634957456072,\"rank\":68},{\"Place\":704,\"pop2022\":98953.541,\"GrowthRate\":0.00799,\"Density\":319.13291,\"area\":331212,\"country\":\"Vietnam\",\"cca3\":\"VNM\",\"cca2\":\"VN\",\"ccn3\":704,\"region\":\"Asia\",\"subregion\":\"South-Eastern Asia\",\"Rank\":15,\"linesPer100\":79,\"numUsers\":72300000,\"density\":298.7619440116904,\"densityMi\":773.7934349902781,\"rank\":69},{\"Place\":404,\"pop2022\":56215.221,\"GrowthRate\":0.02236,\"Density\":98.77222,\"area\":580367,\"country\":\"Kenya\",\"cca3\":\"KEN\",\"cca2\":\"KE\",\"ccn3\":404,\"region\":\"Africa\",\"subregion\":\"Eastern Africa\",\"Rank\":26,\"linesPer100\":71.3,\"numUsers\":28080000,\"density\":96.86150487536335,\"densityMi\":250.87129762719107,\"rank\":70},{\"Place\":422,\"pop2022\":6684.849,\"GrowthRate\":-0.01245,\"Density\":653.45543,\"area\":10452,\"country\":\"Lebanon\",\"cca3\":\"LBN\",\"cca2\":\"LB\",\"ccn3\":422,\"region\":\"Asia\",\"subregion\":\"Western Asia\",\"Rank\":111,\"linesPer100\":64.4,\"numUsers\":2720000,\"density\":639.5760619977037,\"densityMi\":1656.5020005740525,\"rank\":71},{\"Place\":231,\"pop2022\":120812.698,\"GrowthRate\":0.02491,\"Density\":120.8127,\"area\":1104300,\"country\":\"Ethiopia\",\"cca3\":\"ETH\",\"cca2\":\"ET\",\"ccn3\":231,\"region\":\"Africa\",\"subregion\":\"Eastern Africa\",\"Rank\":12,\"linesPer100\":21.8,\"numUsers\":18000000,\"density\":109.40206284524133,\"densityMi\":283.35134276917506,\"rank\":72},{\"Place\":408,\"pop2022\":25990.679,\"GrowthRate\":0.004,\"Density\":215.8515,\"area\":120538,\"country\":\"North Korea\",\"cca3\":\"PRK\",\"cca2\":\"KP\",\"ccn3\":408,\"region\":\"Asia\",\"subregion\":\"Eastern Asia\",\"Rank\":56,\"linesPer100\":12.3,\"numUsers\":3000000,\"density\":215.62228508851982,\"densityMi\":558.4617183792662,\"rank\":73},{\"Place\":192,\"pop2022\":11305.652,\"GrowthRate\":-0.00105,\"Density\":106.2162,\"area\":109884,\"country\":\"Cuba\",\"cca3\":\"CUB\",\"cca2\":\"CU\",\"ccn3\":192,\"region\":\"Americas\",\"subregion\":\"Caribbean\",\"Rank\":84,\"linesPer100\":11.6,\"numUsers\":1300000,\"density\":102.88715372574715,\"densityMi\":266.4777281496851,\"rank\":74}],\"dataTables\":[]},\"__N_SSG\":true},\"page\":\"/country-rankings/[slug]\",\"query\":{\"slug\":\"cell-phones-by-country\"},\"buildId\":\"Hb9GfyzjIC-pPh1frrDk6\",\"isFallback\":false,\"gsp\":true,\"scriptLoader\":[]}</script></body></html>'"
      ]
     },
     "execution_count": 7,
     "metadata": {},
     "output_type": "execute_result"
    }
   ],
   "source": [
    "response.text"
   ]
  },
  {
   "cell_type": "markdown",
   "id": "21075b4c",
   "metadata": {},
   "source": [
    "# backend websites codeing"
   ]
  },
  {
   "cell_type": "code",
   "execution_count": 8,
   "id": "2e168e4c",
   "metadata": {},
   "outputs": [],
   "source": [
    "soup = BeautifulSoup(response.text)"
   ]
  },
  {
   "cell_type": "code",
   "execution_count": 9,
   "id": "630237f2",
   "metadata": {},
   "outputs": [
    {
     "data": {
      "text/plain": [
       "<!DOCTYPE html>\n",
       "<html lang=\"en\"><head><meta charset=\"utf-8\"/><meta content=\"width=device-width, initial-scale=1\" name=\"viewport\"/><title>Cell Phones by Country 2022</title><link as=\"image\" imagesrcset=\"/_next/image?url=%2Fsvg_placeholder.png&amp;w=1080&amp;q=75 1x, /_next/image?url=%2Fsvg_placeholder.png&amp;w=2048&amp;q=75 2x\" rel=\"preload\"/><meta content=\"4\" name=\"next-head-count\"/><link crossorigin=\"anonymous\" href=\"https://stackpath.bootstrapcdn.com/bootstrap/4.3.1/css/bootstrap.min.css\" integrity=\"sha384-ggOyR0iXCbMQv3Xipma34MD+dH/1fQ784/j6cY/iJTQUOhcWr7x9JvoRxT2MZw1T\" rel=\"stylesheet\"/><meta name=\"next-font-preconnect\"/><link as=\"style\" href=\"/_next/static/css/6a36ad6e8ed820c5.css\" rel=\"preload\"/><link data-n-g=\"\" href=\"/_next/static/css/6a36ad6e8ed820c5.css\" rel=\"stylesheet\"/><noscript data-n-css=\"\"></noscript><script defer=\"\" nomodule=\"\" src=\"/_next/static/chunks/polyfills-5cd94c89d3acac5f.js\"></script><script async=\"\" data-nscript=\"beforeInteractive\" defer=\"\" src=\"/static/quantcast20.js\"></script><script data-cfasync=\"false\" data-nscript=\"beforeInteractive\" defer=\"\" id=\"freestar-script-block\" src=\"\"></script><script async=\"\" data-nscript=\"beforeInteractive\" defer=\"\" src=\"https://a.pub.network/worldpopulationreview-com/pubfig.min.js\"></script><script data-nscript=\"beforeInteractive\" defer=\"\" id=\"freestar-go\" src=\"\"></script><script data-nscript=\"beforeInteractive\" defer=\"\" id=\"freestar-go\" src=\"\"></script><script data-nscript=\"beforeInteractive\" defer=\"\" id=\"freestar-go\" src=\"\"></script><script data-nscript=\"beforeInteractive\" defer=\"\" id=\"freestar-go\" src=\"\"></script><script defer=\"\" src=\"/_next/static/chunks/webpack-8c6876b7c49b5be8.js\"></script><script defer=\"\" src=\"/_next/static/chunks/framework-f8ca521ba230f4cb.js\"></script><script defer=\"\" src=\"/_next/static/chunks/main-0fe2266f82cb9cbe.js\"></script><script defer=\"\" src=\"/_next/static/chunks/pages/_app-b6bc3419e90630b0.js\"></script><script defer=\"\" src=\"/_next/static/chunks/1bfc9850-26dd4bf7bd59b64c.js\"></script><script defer=\"\" src=\"/_next/static/chunks/6598-cab833ac3be10ce2.js\"></script><script defer=\"\" src=\"/_next/static/chunks/5988-6aae88550c3f6d6d.js\"></script><script defer=\"\" src=\"/_next/static/chunks/9683-ed0b7ecee98c05d9.js\"></script><script defer=\"\" src=\"/_next/static/chunks/5905-82ff84ccf4144cad.js\"></script><script defer=\"\" src=\"/_next/static/chunks/550-42c29bb43df725b4.js\"></script><script defer=\"\" src=\"/_next/static/chunks/5675-8f64931d9623a6cd.js\"></script><script defer=\"\" src=\"/_next/static/chunks/2241-70d7dd2e8327ffdf.js\"></script><script defer=\"\" src=\"/_next/static/chunks/7933-12fe62b720a32507.js\"></script><script defer=\"\" src=\"/_next/static/chunks/9474-1fe682c32b34a635.js\"></script><script defer=\"\" src=\"/_next/static/chunks/9277-7412e041289dd650.js\"></script><script defer=\"\" src=\"/_next/static/chunks/5703-d0a8fdb3b7033adc.js\"></script><script defer=\"\" src=\"/_next/static/chunks/5765-52a1bde131037c3f.js\"></script><script defer=\"\" src=\"/_next/static/chunks/1874-03ad36ac6911d5a7.js\"></script><script defer=\"\" src=\"/_next/static/chunks/1203-cf6956a83d07a892.js\"></script><script defer=\"\" src=\"/_next/static/chunks/pages/country-rankings/%5Bslug%5D-f7118f4c8d5e0a0a.js\"></script><script defer=\"\" src=\"/_next/static/Hb9GfyzjIC-pPh1frrDk6/_buildManifest.js\"></script><script defer=\"\" src=\"/_next/static/Hb9GfyzjIC-pPh1frrDk6/_ssgManifest.js\"></script><script defer=\"\" src=\"/_next/static/Hb9GfyzjIC-pPh1frrDk6/_middlewareManifest.js\"></script><style id=\"__jsx-dd1d205bffa20aaf\">.tp-dropdown-menu{color:#555}\n",
       ".tp-dropdown-menu a{color:#555}\n",
       ".tp-dropdown-menu a:hover{color:#2F75DB;\n",
       "opacity:1}</style><style id=\"__jsx-1878461898\">.tp-table-body tr td, .tp-table-body tr th{padding:5px 5px}\n",
       ".tp-table-body tr.hasFixed th.fixed, .tp-table-body tr.hasFixed td.fixed{width:135px}</style></head><body><div id=\"__next\"><div class=\"twlsky-blue isolated-sections\"><div class=\"outer-container clearfix\"><nav class=\"navbar navbar-expand-lg navbar-light bg-white\" style=\"border: 1px solid #ccc; margin-top: 8px;\"><a class=\"navbar-brand\" href=\"/\" style=\"font-size: 16px;\">World Population Review</a><button aria-controls=\"navbarNav\" aria-expanded=\"false\" aria-label=\"Toggle navigation\" class=\"navbar-toggler\" data-target=\"#navbarNav\" data-toggle=\"collapse\" type=\"button\"><span aria-label=\"Toggle\" class=\"navbar-toggler-icon\" role=\"button\" tabindex=\"0\"></span></button><div class=\"collapse navbar-collapse\" id=\"navbarNav\"><ul class=\"navbar-nav mr-auto mt-2 mt-lg-0\"><li class=\"nav-item\"><a class=\"nav-link\" href=\"/continents\" style=\"color: #313131;\">Continents</a></li><li class=\"nav-item\"><a class=\"nav-link\" href=\"/countries\" style=\"color: #313131;\">Countries</a></li><li class=\"nav-item\"><a class=\"nav-link\" href=\"/world-cities\" style=\"color: #313131;\">World Cities</a></li><li class=\"nav-item\"><a class=\"nav-link\" href=\"/states\" style=\"color: #313131;\">US States</a></li><li class=\"nav-item\"><a class=\"nav-link\" href=\"/us-counties\" style=\"color: #313131;\">US Counties</a></li><li class=\"nav-item\"><a class=\"nav-link\" href=\"/us-cities\" style=\"color: #313131;\">US Cities</a></li><li class=\"nav-item\"><a class=\"nav-link\" href=\"/zips\" style=\"color: #313131;\">Zips</a></li></ul><form action=\"/search/\" class=\"form-inline my-2 my-lg-0\"><input aria-label=\"Search\" class=\"form-control mr-sm-2\" name=\"query\" type=\"search\"/></form></div></nav><div style=\"text-align: center; margin-top: 10px; margin-bottom: 10px;\"></div><div class=\"inside-body-content-container clearfix\"><div class=\"panel\"><div class=\"content has-flag container-fluid horizontal-section-container\" style=\"margin: 0px; border: 0px;\"><div class=\"row\"><div class=\"col-md-8\"><div class=\"section-container clearfix\"><h1>Cell Phones by Country 2022</h1><div><div><span style=\"box-sizing: border-box; display: inline-block; overflow: hidden; width: initial; height: initial; background: none; opacity: 1; border: 0px; margin: 0px; padding: 0px; position: relative; max-width: 100%;\"><span style=\"box-sizing: border-box; display: block; width: initial; height: initial; background: none; opacity: 1; border: 0px; margin: 0px; padding: 0px; max-width: 100%;\"><img alt=\"\" aria-hidden=\"true\" src=\"data:image/svg+xml,%3csvg%20xmlns=%27http://www.w3.org/2000/svg%27%20version=%271.1%27%20width=%27992%27%20height=%27665.04%27/%3e\" style=\"display: block; max-width: 100%; width: initial; height: initial; background: none; opacity: 1; border: 0px; margin: 0px; padding: 0px;\"/></span><img alt=\"map placeholder\" aspectratio=\"1.4916396006255264\" data-nimg=\"intrinsic\" decoding=\"async\" src=\"/_next/image?url=%2Fsvg_placeholder.png&amp;w=2048&amp;q=75\" srcset=\"/_next/image?url=%2Fsvg_placeholder.png&amp;w=1080&amp;q=75 1x, /_next/image?url=%2Fsvg_placeholder.png&amp;w=2048&amp;q=75 2x\" style=\"position: absolute; top: 0px; left: 0px; bottom: 0px; right: 0px; box-sizing: border-box; padding: 0px; border: none; margin: auto; display: block; width: 0px; height: 0px; min-width: 100%; max-width: 100%; min-height: 100%; max-height: 100%;\"/></span></div></div><div align=\"center\" data-freestar-id=\"__320x100 __336x280\" id=\"worldpopulationreview_leaderboard_atf\" style=\"text-align: center; margin-top: 10px; margin-bottom: 10px;\"><div></div></div><div class=\"content\"><div><p>The cell phone, also known as a cellular phone or mobile phone, is a portable telephone that can make and receive calls. Modern mobile phones use cellular network architecture and, therefore, are called cellular phones or cell phones. In addition to making and receiving phone calls, cell phones can perform a variety of other services such as email, SMS texts, Internet access, photography, video recording, and Bluetooth connectivity, among others.</p>\n",
       "<p>The mobile phone can be traced back to 1917 when Eric Tigerstedt, a Finnish inventor, filed a patent for a “pocket-size folding telephone with a very thin carbon microphone.” Analog radio communications from ships and trains are examples of early predecessors of cellular phones. Mobile phones became accessible and affordable thanks to the development of metal-oxide-semiconductor large-scale integration technology, information theory, and cellular networking.</p>\n",
       "</div><div><div id=\"ld-1579-5512\"></div></div><div><p>The first handheld mobile phone, a handset weighing almost four and a half pounds, was demonstrated in 1973 by John F. Mitchell and Martin Cooper of Motorola. In 1979, Nippon Telegraph and Telephone launched the first cellular network in the world in <a href=\"/countries/japan-population\">Japan</a>. DyanTAC 8000x was the first commercially available mobile phone, introduced in 1983.</p>\n",
       "<p>The first true smartphone made its appearance in the world in 1992 when the Simon Personal Communicator was created by IBM. Smartphones comprise about 78% of total mobile phone sales. Modern smartphones have endless capabilities such as video calls, GPS navigation, advanced cameras, and a variety of other functions thanks to the availability of countless applications that can be downloaded directly to the user’s device. Between the release of the DyanTAC 8000x in 1983 and 2014, mobile phone subscriptions grew to over 7 billion worldwide, enough to supply every person on Earth with a cell phone. As of Q1 of 2020, the best-selling phones in the <a href=\"/countries/united-states-population\">United States</a> are <a href=\"https://www.samsung.com/us/\">Samsung</a>, <a href=\"https://consumer.huawei.com/en/phones/\">Huawei</a>, and <a href=\"https://www.apple.com/iphone/\">Apple</a>.</p>\n",
       "<h2>Cell Phones by Country</h2>\n",
       "<p>In general, the number of cell phone users per country is relatively proportional to that country’s population compared to other countries. Some people have multiple cell phone lines for various reasons, including one for personal use and one for business use. The following countries have the highest number of cell phones users:</p>\n",
       "<ol>\n",
       "<li><a href=\"/countries/china-population\">China</a> (1.6 billion)</li>\n",
       "<li><a href=\"/countries/india-population\">India</a> (1.28 billion)</li>\n",
       "<li><a href=\"/countries/indonesia-population\">Indonesia</a> (386 million)</li>\n",
       "<li>United States (327 million)</li>\n",
       "<li><a href=\"/countries/brazil-population\">Brazil</a> (284 million)</li>\n",
       "<li><a href=\"/countries/russia-population\">Russia</a> (256 million)</li>\n",
       "<li><a href=\"/countries/nigeria-population\">Nigeria</a> (167 million)</li>\n",
       "<li><a href=\"/countries/bangladesh-population\">Bangladesh</a> (166 million)</li>\n",
       "<li><a href=\"/countries/pakistan-population\">Pakistan</a> (165 million)</li>\n",
       "<li>Japan (147 million)</li>\n",
       "</ol>\n",
       "<p>The following countries have the highest number of cell phone lines per 100 citizens:</p>\n",
       "<ol>\n",
       "<li><a href=\"/countries/hong-kong-population\">Hong Kong</a> (256.7)</li>\n",
       "<li><a href=\"/countries/maldives-population\">Maldives</a> (245.9)</li>\n",
       "<li><a href=\"/countries/united-arab-emirates-population\">United Arab Emirates</a> (203.7)</li>\n",
       "<li><a href=\"/countries/panama-population\">Panama</a> (202.5)</li>\n",
       "<li><a href=\"/countries/montenegro-population\">Montenegro</a> (180.2)</li>\n",
       "<li><a href=\"/countries/sri-lanka-population\">Sri Lanka</a> (179.3)</li>\n",
       "<li><a href=\"/countries/finland-population\">Finland</a> (172.6)</li>\n",
       "<li><a href=\"/countries/saudi-arabia-population\">Saudi Arabia</a> (169.5)</li>\n",
       "<li><a href=\"/countries/lithuania-population\">Lithuania</a> (167.1)</li>\n",
       "<li>Indonesia (162.3)</li>\n",
       "</ol></div></div></div></div><div class=\"col-md-4\" style=\"padding: 0px; padding-top: 10px;\"><div class=\"section-container clearfix\" style=\"height: 100%;\"><div align=\"center\" data-freestar-id=\"__300x600\" id=\"worldpopulationreview_right_rail\" style=\"position: sticky; top: 5px; text-align: center;\"><div></div></div></div></div></div></div><div class=\"actionbar\"><div class=\"actionbar-title\"><h2>Cell Phones by Country 2022</h2></div><div class=\"multisources\" id=\"source\"><button type=\"button\">Show Source</button></div></div></div><div class=\"panel\"><div class=\"content has-flag container-fluid horizontal-section-container\" style=\"margin: 0px; border: 0px;\"><div class=\"row\"><div class=\"col-md-9\"><div class=\"section-container clearfix\"><div><div><button class=\"btn btn-outline-primary\" style=\"background-color: #286090; color: white;\" type=\"button\">Lines per 100 <svg fill=\"currentColor\" height=\"1em\" stroke=\"currentColor\" stroke-width=\"0\" viewbox=\"0 0 320 512\" width=\"1em\" xmlns=\"http://www.w3.org/2000/svg\"><path d=\"M288.662 352H31.338c-17.818 0-26.741-21.543-14.142-34.142l128.662-128.662c7.81-7.81 20.474-7.81 28.284 0l128.662 128.662c12.6 12.599 3.676 34.142-14.142 34.142z\"></path></svg></button></div><div style=\"position: relative;\">Loading...<div class=\"tooltip\"></div></div></div></div></div><div class=\"col-md-3\"><div class=\"section-container clearfix\" style=\"height: 100%;\"><div align=\"center\" data-freestar-id=\"__300x600\" id=\"worldpopulationreview_in_table\" style=\"text-align: center; position: sticky; top: 5px;\"><div></div></div></div></div></div></div><div class=\"actionbar\"><div class=\"actionbar-title\"><h2>Cell Phones by Country 2022</h2></div><div class=\"multisources\" id=\"source\"><button type=\"button\">Show Source</button></div></div></div><div class=\"panel\" id=\"dataTable\"><div class=\"content has-flag container-fluid horizontal-section-container\" style=\"margin: 0px; border: 0px;\"><div class=\"row\"><div class=\"col-md-8\"><div class=\"section-container clearfix\"><div style=\"font-size: 90%; opacity: 0.7; margin-bottom: 10px;\">Note: Data is for 2019 production statistics.</div><div><div class=\"jsx-dd1d205bffa20aaf tp-dropdown-menu\"><a download=\"csvData.csv\" href=\"\" target=\"_self\"><svg fill=\"currentColor\" height=\"10\" stroke=\"currentColor\" stroke-width=\"0\" viewbox=\"0 0 512 512\" width=\"10\" xmlns=\"http://www.w3.org/2000/svg\"><path d=\"M216 0h80c13.3 0 24 10.7 24 24v168h87.7c17.8 0 26.7 21.5 14.1 34.1L269.7 378.3c-7.5 7.5-19.8 7.5-27.3 0L90.1 226.1c-12.6-12.6-3.7-34.1 14.1-34.1H192V24c0-13.3 10.7-24 24-24zm296 376v112c0 13.3-10.7 24-24 24H24c-13.3 0-24-10.7-24-24V376c0-13.3 10.7-24 24-24h146.7l49 49c20.1 20.1 52.5 20.1 72.6 0l49-49H488c13.3 0 24 10.7 24 24zm-124 88c0-11-9-20-20-20s-20 9-20 20 9 20 20 20 20-9 20-20zm64 0c0-11-9-20-20-20s-20 9-20 20 9 20 20 20 20-9 20-20z\"></path></svg> CSV</a><a role=\"button\" tabindex=\"0\"><svg fill=\"currentColor\" height=\"10\" stroke=\"currentColor\" stroke-width=\"0\" viewbox=\"0 0 512 512\" width=\"10\" xmlns=\"http://www.w3.org/2000/svg\"><path d=\"M216 0h80c13.3 0 24 10.7 24 24v168h87.7c17.8 0 26.7 21.5 14.1 34.1L269.7 378.3c-7.5 7.5-19.8 7.5-27.3 0L90.1 226.1c-12.6-12.6-3.7-34.1 14.1-34.1H192V24c0-13.3 10.7-24 24-24zm296 376v112c0 13.3-10.7 24-24 24H24c-13.3 0-24-10.7-24-24V376c0-13.3 10.7-24 24-24h146.7l49 49c20.1 20.1 52.5 20.1 72.6 0l49-49H488c13.3 0 24 10.7 24 24zm-124 88c0-11-9-20-20-20s-20 9-20 20 9 20 20 20 20-9 20-20zm64 0c0-11-9-20-20-20s-20 9-20 20 9 20 20 20 20-9 20-20z\"></path></svg> JSON</a></div><div class=\"datatable-container undefined\"><table class=\"jsx-1878461898 table table-striped tp-table-body\"><thead style=\"font-weight: bold;\"><tr><th class=\"datatable-th\" width=\"auto\"><span><a data-field=\"country\" style=\"color: black; cursor: pointer; display: inline-block;\">Country  </a></span></th><th class=\"datatable-th\" width=\"auto\"><span><a data-field=\"numUsers\" style=\"color: black; cursor: pointer; display: inline-block;\">Total Users  </a></span></th><th class=\"datatable-th\" width=\"auto\"><span><a data-field=\"linesPer100\" style=\"color: black; cursor: pointer; display: inline-block;\">Lines per 100 <svg fill=\"currentColor\" height=\"1em\" stroke=\"currentColor\" stroke-width=\"0\" viewbox=\"0 0 320 512\" width=\"1em\" xmlns=\"http://www.w3.org/2000/svg\"><path d=\"M31.3 192h257.3c17.8 0 26.7 21.5 14.1 34.1L174.1 354.8c-7.8 7.8-20.5 7.8-28.3 0L17.2 226.1C4.6 213.5 13.5 192 31.3 192z\"></path></svg> </a></span></th><th class=\"datatable-th\" width=\"auto\"><span><a data-field=\"pop2022\" style=\"color: black; cursor: pointer; display: inline-block; padding-right: 12px;\">2022 Population  </a></span></th></tr></thead><tbody><tr><td><a href=\"/countries/hong-kong-population\">Hong Kong</a></td><td>19,207,578</td><td>256.70</td><td>7,604,299</td></tr><tr><td><a href=\"/countries/maldives-population\">Maldives</a></td><td>776,716</td><td>245.92</td><td>540,985</td></tr><tr><td><a href=\"/countries/united-arab-emirates-population\">United Arab Emirates</a></td><td>17,132,724</td><td>203.70</td><td>10,081,785</td></tr><tr><td><a href=\"/countries/panama-population\">Panama</a></td><td>6,900,000</td><td>202.50</td><td>4,446,964</td></tr><tr><td><a href=\"/countries/montenegro-population\">Montenegro</a></td><td>1,117,500</td><td>180.23</td><td>627,950</td></tr><tr><td><a href=\"/countries/sri-lanka-population\">Sri Lanka</a></td><td>38,849,812</td><td>179.30</td><td>21,575,842</td></tr><tr><td><a href=\"/countries/finland-population\">Finland</a></td><td>9,470,000</td><td>172.60</td><td>5,554,960</td></tr><tr><td><a href=\"/countries/saudi-arabia-population\">Saudi Arabia</a></td><td>46,000,000</td><td>169.50</td><td>35,844,909</td></tr><tr><td><a href=\"/countries/lithuania-population\">Lithuania</a></td><td>4,940,000</td><td>167.10</td><td>2,661,708</td></tr><tr><td><a href=\"/countries/indonesia-population\">Indonesia</a></td><td>385,573,398</td><td>162.28</td><td>279,134,505</td></tr><tr><td><a href=\"/countries/russia-population\">Russia</a></td><td>256,116,000</td><td>155.50</td><td>145,805,947</td></tr><tr><td><a href=\"/countries/trinidad-and-tobago-population\">Trinidad And Tobago</a></td><td>2,060,000</td><td>151.60</td><td>1,406,585</td></tr><tr><td><a href=\"/countries/estonia-population\">Estonia</a></td><td>1,904,000</td><td>150.50</td><td>1,321,910</td></tr><tr><td><a href=\"/countries/singapore-population\">Singapore</a></td><td>8,106,700</td><td>150.10</td><td>5,943,546</td></tr><tr><td><a href=\"/countries/italy-population\">Italy</a></td><td>88,580,000</td><td>147.40</td><td>60,262,770</td></tr><tr><td><a href=\"/countries/sweden-population\">Sweden</a></td><td>14,500,000</td><td>146.40</td><td>10,218,971</td></tr><tr><td><a href=\"/countries/bulgaria-population\">Bulgaria</a></td><td>10,454,400</td><td>145.20</td><td>6,844,597</td></tr><tr><td><a href=\"/countries/malaysia-population\">Malaysia</a></td><td>30,379,000</td><td>143.80</td><td>33,181,072</td></tr><tr><td><a href=\"/countries/argentina-population\">Argentina</a></td><td>56,725,200</td><td>141.34</td><td>46,010,234</td></tr><tr><td><a href=\"/countries/brazil-population\">Brazil</a></td><td>284,200,000</td><td>141.30</td><td>215,353,593</td></tr><tr><td><a href=\"/countries/nepal-population\">Nepal</a></td><td>34,172,058</td><td>134.41</td><td>30,225,582</td></tr><tr><td><a href=\"/countries/morocco-population\">Morocco</a></td><td>44,450,000</td><td>131</td><td>37,772,756</td></tr><tr><td><a href=\"/countries/germany-population\">Germany</a></td><td>107,000,000</td><td>130.10</td><td>83,883,596</td></tr><tr><td><a href=\"/countries/iran-population\">Iran</a></td><td>96,165,000</td><td>130</td><td>86,022,837</td></tr><tr><td><a href=\"/countries/latvia-population\">Latvia</a></td><td>2,579,000</td><td>129.80</td><td>1,848,837</td></tr><tr><td><a href=\"/countries/united-kingdom-population\">United Kingdom</a></td><td>83,100,000</td><td>129.60</td><td>68,497,907</td></tr><tr><td><a href=\"/countries/denmark-population\">Denmark</a></td><td>7,000,000</td><td>127.50</td><td>5,834,950</td></tr><tr><td><a href=\"/countries/portugal-population\">Portugal</a></td><td>13,400,000</td><td>126.87</td><td>10,140,570</td></tr><tr><td><a href=\"/countries/azerbaijan-population\">Azerbaijan</a></td><td>7,000,000</td><td>126.20</td><td>10,300,205</td></tr><tr><td><a href=\"/countries/ukraine-population\">Ukraine</a></td><td>57,505,555</td><td>126</td><td>43,192,122</td></tr><tr><td><a href=\"/countries/ireland-population\">Ireland</a></td><td>5,770,638</td><td>125.90</td><td>5,020,199</td></tr><tr><td><a href=\"/countries/poland-population\">Poland</a></td><td>47,153,200</td><td>123.48</td><td>37,739,785</td></tr><tr><td><a href=\"/countries/romania-population\">Romania</a></td><td>26,000,000</td><td>123.45</td><td>19,031,335</td></tr><tr><td><a href=\"/countries/taiwan-population\">Taiwan</a></td><td>28,610,000</td><td>123.33</td><td>23,888,595</td></tr><tr><td><a href=\"/countries/chile-population\">Chile</a></td><td>21,000,000</td><td>122.90</td><td>19,250,195</td></tr><tr><td><a href=\"/countries/israel-population\">Israel</a></td><td>9,701,200</td><td>122.80</td><td>8,922,892</td></tr><tr><td><a href=\"/countries/malta-population\">Malta</a></td><td>554,651</td><td>122.57</td><td>444,033</td></tr><tr><td><a href=\"/countries/netherlands-population\">Netherlands</a></td><td>20,000,000</td><td>121.10</td><td>17,211,447</td></tr><tr><td><a href=\"/countries/guatemala-population\">Guatemala</a></td><td>17,571,895</td><td>119.40</td><td>18,584,039</td></tr><tr><td><a href=\"/countries/colombia-population\">Colombia</a></td><td>57,900,472</td><td>118.90</td><td>51,512,762</td></tr><tr><td><a href=\"/countries/spain-population\">Spain</a></td><td>55,740,000</td><td>118</td><td>46,719,142</td></tr><tr><td><a href=\"/countries/south-africa-population\">South Africa</a></td><td>59,474,500</td><td>117.60</td><td>60,756,135</td></tr><tr><td><a href=\"/countries/mongolia-population\">Mongolia</a></td><td>3,500,000</td><td>117.40</td><td>3,378,078</td></tr><tr><td><a href=\"/countries/hungary-population\">Hungary</a></td><td>11,561,890</td><td>116.70</td><td>9,606,259</td></tr><tr><td><a href=\"/countries/japan-population\">Japan</a></td><td>146,649,600</td><td>115.20</td><td>125,584,838</td></tr><tr><td><a href=\"/countries/france-population\">France</a></td><td>72,180,000</td><td>114.20</td><td>65,584,518</td></tr><tr><td><a href=\"/countries/china-population\">China</a></td><td>1,598,360,000</td><td>114.17</td><td>1,448,471,400</td></tr><tr><td><a href=\"/countries/philippines-population\">Philippines</a></td><td>106,987,098</td><td>113.80</td><td>112,508,994</td></tr><tr><td><a href=\"/countries/belgium-population\">Belgium</a></td><td>11,822,000</td><td>113.60</td><td>11,668,278</td></tr><tr><td><a href=\"/countries/south-korea-population\">South Korea</a></td><td>56,004,887</td><td>111.50</td><td>51,329,899</td></tr><tr><td><a href=\"/countries/ecuador-population\">Ecuador</a></td><td>15,900,000</td><td>111.18</td><td>18,113,361</td></tr><tr><td><a href=\"/countries/new-zealand-population\">New Zealand</a></td><td>4,761,000</td><td>111.10</td><td>4,898,203</td></tr><tr><td><a href=\"/countries/peru-population\">Peru</a></td><td>34,235,000</td><td>109.80</td><td>33,684,208</td></tr><tr><td><a href=\"/countries/venezuela-population\">Venezuela</a></td><td>32,019,086</td><td>106.15</td><td>29,266,991</td></tr><tr><td><a href=\"/countries/thailand-population\">Thailand</a></td><td>69,000,000</td><td>105</td><td>70,078,203</td></tr><tr><td><a href=\"/countries/zimbabwe-population\">Zimbabwe</a></td><td>13,518,887</td><td>103.50</td><td>15,331,428</td></tr><tr><td><a href=\"/countries/united-states-population\">United States</a></td><td>327,577,529</td><td>103.10</td><td>334,805,269</td></tr><tr><td><a href=\"/countries/jordan-population\">Jordan</a></td><td>6,010,000</td><td>101</td><td>10,300,869</td></tr><tr><td><a href=\"/countries/bangladesh-population\">Bangladesh</a></td><td>165,615,000</td><td>98.18</td><td>167,885,689</td></tr><tr><td><a href=\"/countries/egypt-population\">Egypt</a></td><td>95,340,000</td><td>95.38</td><td>106,156,692</td></tr><tr><td><a href=\"/countries/nigeria-population\">Nigeria</a></td><td>167,371,945</td><td>94.50</td><td>216,746,934</td></tr><tr><td><a href=\"/countries/algeria-population\">Algeria</a></td><td>33,000,000</td><td>94.20</td><td>45,350,148</td></tr><tr><td><a href=\"/countries/india-population\">India</a></td><td>1,281,971,713</td><td>93.10</td><td>1,406,631,776</td></tr><tr><td><a href=\"/countries/turkey-population\">Turkey</a></td><td>72,200,000</td><td>92.50</td><td>85,561,976</td></tr><tr><td><a href=\"/countries/mexico-population\">Mexico</a></td><td>101,339,000</td><td>90.20</td><td>131,562,772</td></tr><tr><td><a href=\"/countries/australia-population\">Australia</a></td><td>20,570,000</td><td>87.60</td><td>26,068,792</td></tr><tr><td><a href=\"/countries/canada-population\">Canada</a></td><td>31,210,628</td><td>84.60</td><td>38,388,419</td></tr><tr><td><a href=\"/countries/pakistan-population\">Pakistan</a></td><td>165,405,847</td><td>79.61</td><td>229,488,994</td></tr><tr><td><a href=\"/countries/vietnam-population\">Vietnam</a></td><td>72,300,000</td><td>79</td><td>98,953,541</td></tr><tr><td><a href=\"/countries/kenya-population\">Kenya</a></td><td>28,080,000</td><td>71.30</td><td>56,215,221</td></tr><tr><td><a href=\"/countries/lebanon-population\">Lebanon</a></td><td>2,720,000</td><td>64.40</td><td>6,684,849</td></tr><tr><td><a href=\"/countries/ethiopia-population\">Ethiopia</a></td><td>18,000,000</td><td>21.80</td><td>120,812,698</td></tr><tr><td><a href=\"/countries/north-korea-population\">North Korea</a></td><td>3,000,000</td><td>12.30</td><td>25,990,679</td></tr><tr><td><a href=\"/countries/cuba-population\">Cuba</a></td><td>1,300,000</td><td>11.60</td><td>11,305,652</td></tr></tbody></table></div></div><div><div id=\"ld-9446-9603\"></div></div></div></div><div class=\"col-md-4\"><div class=\"section-container clearfix\" style=\"height: 100%;\"><div align=\"center\" data-freestar-id=\"__300x600\" id=\"worldpopulationreview_in_table\" style=\"text-align: center; position: sticky; top: 5px;\"><div></div></div></div></div></div></div><div class=\"actionbar\"><div class=\"actionbar-title\"><h2>Cell Phones by Country 2022</h2></div><div class=\"multisources\" id=\"source\"><button type=\"button\">Show Source</button></div></div></div><div class=\"panel\" id=\"sources\"><div class=\"content has-flag container-fluid horizontal-section-container\" style=\"margin: 0px; border: 0px;\"><div class=\"row\"><div class=\"col-md-12\"><div class=\"section-container clearfix\"><ol style=\"margin: 0px;\"><li><a href=\"https://en.wikipedia.org/wiki/List_of_countries_by_number_of_mobile_phones_in_use\" rel=\"noreferrer\" target=\"_blank\">Cell Phones by Country</a></li></ol></div></div></div></div><div class=\"actionbar\"><div class=\"actionbar-title\"><h2>Sources</h2></div><div class=\"multisources\" id=\"source\"></div></div></div></div><div><div class=\"center-container clearfix\" id=\"beneath-footer\"><div class=\"col-sm-8 beneath-footer-left\"><span class=\"text\">© 2022 World Population Review  </span><a href=\"/privacy\">Privacy Policy</a><a href=\"/terms\" style=\"margin-left: 10px;\">Terms</a><a href=\"/contact\" style=\"margin-left: 10px;\">Contact</a><a href=\"/about\" style=\"margin-left: 10px;\">About</a><button class=\"modal-opener\">Cite This</button></div></div></div></div></div></div><script id=\"__NEXT_DATA__\" type=\"application/json\">{\"props\":{\"pageProps\":{\"addendum\":\"\",\"sources\":[{\"name\":\"Cell Phones by Country\",\"link\":\"https://en.wikipedia.org/wiki/List_of_countries_by_number_of_mobile_phones_in_use\"}],\"title\":\"Cell Phones by Country 2022\",\"article\":\"\\u003cp\\u003eThe cell phone, also known as a cellular phone or mobile phone, is a portable telephone that can make and receive calls. Modern mobile phones use cellular network architecture and, therefore, are called cellular phones or cell phones. In addition to making and receiving phone calls, cell phones can perform a variety of other services such as email, SMS texts, Internet access, photography, video recording, and Bluetooth connectivity, among others.\\u003c/p\\u003e\\n\\u003cp\\u003eThe mobile phone can be traced back to 1917 when Eric Tigerstedt, a Finnish inventor, filed a patent for a “pocket-size folding telephone with a very thin carbon microphone.” Analog radio communications from ships and trains are examples of early predecessors of cellular phones. Mobile phones became accessible and affordable thanks to the development of metal-oxide-semiconductor large-scale integration technology, information theory, and cellular networking.\\u003c/p\\u003e\\n\\u003cp\\u003eThe first handheld mobile phone, a handset weighing almost four and a half pounds, was demonstrated in 1973 by John F. Mitchell and Martin Cooper of Motorola. In 1979, Nippon Telegraph and Telephone launched the first cellular network in the world in \\u003ca href=\\\"/countries/japan-population\\\"\\u003eJapan\\u003c/a\\u003e. DyanTAC 8000x was the first commercially available mobile phone, introduced in 1983.\\u003c/p\\u003e\\n\\u003cp\\u003eThe first true smartphone made its appearance in the world in 1992 when the Simon Personal Communicator was created by IBM. Smartphones comprise about 78% of total mobile phone sales. Modern smartphones have endless capabilities such as video calls, GPS navigation, advanced cameras, and a variety of other functions thanks to the availability of countless applications that can be downloaded directly to the user’s device. Between the release of the DyanTAC 8000x in 1983 and 2014, mobile phone subscriptions grew to over 7 billion worldwide, enough to supply every person on Earth with a cell phone. As of Q1 of 2020, the best-selling phones in the \\u003ca href=\\\"/countries/united-states-population\\\"\\u003eUnited States\\u003c/a\\u003e are \\u003ca href=\\\"https://www.samsung.com/us/\\\"\\u003eSamsung\\u003c/a\\u003e, \\u003ca href=\\\"https://consumer.huawei.com/en/phones/\\\"\\u003eHuawei\\u003c/a\\u003e, and \\u003ca href=\\\"https://www.apple.com/iphone/\\\"\\u003eApple\\u003c/a\\u003e.\\u003c/p\\u003e\\n\\u003ch2\\u003eCell Phones by Country\\u003c/h2\\u003e\\n\\u003cp\\u003eIn general, the number of cell phone users per country is relatively proportional to that country’s population compared to other countries. Some people have multiple cell phone lines for various reasons, including one for personal use and one for business use. The following countries have the highest number of cell phones users:\\u003c/p\\u003e\\n\\u003col\\u003e\\n\\u003cli\\u003e\\u003ca href=\\\"/countries/china-population\\\"\\u003eChina\\u003c/a\\u003e (1.6 billion)\\u003c/li\\u003e\\n\\u003cli\\u003e\\u003ca href=\\\"/countries/india-population\\\"\\u003eIndia\\u003c/a\\u003e (1.28 billion)\\u003c/li\\u003e\\n\\u003cli\\u003e\\u003ca href=\\\"/countries/indonesia-population\\\"\\u003eIndonesia\\u003c/a\\u003e (386 million)\\u003c/li\\u003e\\n\\u003cli\\u003eUnited States (327 million)\\u003c/li\\u003e\\n\\u003cli\\u003e\\u003ca href=\\\"/countries/brazil-population\\\"\\u003eBrazil\\u003c/a\\u003e (284 million)\\u003c/li\\u003e\\n\\u003cli\\u003e\\u003ca href=\\\"/countries/russia-population\\\"\\u003eRussia\\u003c/a\\u003e (256 million)\\u003c/li\\u003e\\n\\u003cli\\u003e\\u003ca href=\\\"/countries/nigeria-population\\\"\\u003eNigeria\\u003c/a\\u003e (167 million)\\u003c/li\\u003e\\n\\u003cli\\u003e\\u003ca href=\\\"/countries/bangladesh-population\\\"\\u003eBangladesh\\u003c/a\\u003e (166 million)\\u003c/li\\u003e\\n\\u003cli\\u003e\\u003ca href=\\\"/countries/pakistan-population\\\"\\u003ePakistan\\u003c/a\\u003e (165 million)\\u003c/li\\u003e\\n\\u003cli\\u003eJapan (147 million)\\u003c/li\\u003e\\n\\u003c/ol\\u003e\\n\\u003cp\\u003eThe following countries have the highest number of cell phone lines per 100 citizens:\\u003c/p\\u003e\\n\\u003col\\u003e\\n\\u003cli\\u003e\\u003ca href=\\\"/countries/hong-kong-population\\\"\\u003eHong Kong\\u003c/a\\u003e (256.7)\\u003c/li\\u003e\\n\\u003cli\\u003e\\u003ca href=\\\"/countries/maldives-population\\\"\\u003eMaldives\\u003c/a\\u003e (245.9)\\u003c/li\\u003e\\n\\u003cli\\u003e\\u003ca href=\\\"/countries/united-arab-emirates-population\\\"\\u003eUnited Arab Emirates\\u003c/a\\u003e (203.7)\\u003c/li\\u003e\\n\\u003cli\\u003e\\u003ca href=\\\"/countries/panama-population\\\"\\u003ePanama\\u003c/a\\u003e (202.5)\\u003c/li\\u003e\\n\\u003cli\\u003e\\u003ca href=\\\"/countries/montenegro-population\\\"\\u003eMontenegro\\u003c/a\\u003e (180.2)\\u003c/li\\u003e\\n\\u003cli\\u003e\\u003ca href=\\\"/countries/sri-lanka-population\\\"\\u003eSri Lanka\\u003c/a\\u003e (179.3)\\u003c/li\\u003e\\n\\u003cli\\u003e\\u003ca href=\\\"/countries/finland-population\\\"\\u003eFinland\\u003c/a\\u003e (172.6)\\u003c/li\\u003e\\n\\u003cli\\u003e\\u003ca href=\\\"/countries/saudi-arabia-population\\\"\\u003eSaudi Arabia\\u003c/a\\u003e (169.5)\\u003c/li\\u003e\\n\\u003cli\\u003e\\u003ca href=\\\"/countries/lithuania-population\\\"\\u003eLithuania\\u003c/a\\u003e (167.1)\\u003c/li\\u003e\\n\\u003cli\\u003eIndonesia (162.3)\\u003c/li\\u003e\\n\\u003c/ol\\u003e\",\"data\":{\"mapConfig\":{\"field\":\"linesPer100\",\"legendTitle\":\"Lines per 100\"},\"note\":\"Note: Data is for 2019 production statistics.\",\"columns\":[\"country\",{\"header\":\"Total Users\",\"field\":\"numUsers\",\"format\":\"numberWithCommas\"},{\"header\":\"Lines per 100\",\"field\":\"linesPer100\",\"format\":\"numberWithCommas\"},\"population\"],\"sort\":{\"field\":\"linesPer100\",\"asc\":false},\"scatterChartFields\":[{\"field\":\"linesPer100\",\"title\":\"Lines per 100\"}],\"customData\":[{\"country\":\"China\",\"linesPer100\":114.17,\"numUsers\":1598360000},{\"country\":\"India\",\"linesPer100\":93.1,\"numUsers\":1281971713},{\"country\":\"Indonesia\",\"linesPer100\":162.28,\"numUsers\":385573398},{\"country\":\"United States\",\"linesPer100\":103.1,\"numUsers\":327577529},{\"country\":\"Brazil\",\"linesPer100\":141.3,\"numUsers\":284200000},{\"country\":\"Russia\",\"linesPer100\":155.5,\"numUsers\":256116000},{\"country\":\"Nigeria\",\"linesPer100\":94.5,\"numUsers\":167371945},{\"country\":\"Bangladesh\",\"linesPer100\":98.18,\"numUsers\":165615000},{\"country\":\"Pakistan\",\"linesPer100\":79.61,\"numUsers\":165405847},{\"country\":\"Japan\",\"linesPer100\":115.2,\"numUsers\":146649600},{\"country\":\"Germany\",\"linesPer100\":130.1,\"numUsers\":107000000},{\"country\":\"Philippines\",\"linesPer100\":113.8,\"numUsers\":106987098},{\"country\":\"Mexico\",\"linesPer100\":90.2,\"numUsers\":101339000},{\"country\":\"Iran\",\"linesPer100\":130,\"numUsers\":96165000},{\"country\":\"Egypt\",\"linesPer100\":95.38,\"numUsers\":95340000},{\"country\":\"Italy\",\"linesPer100\":147.4,\"numUsers\":88580000},{\"country\":\"United Kingdom\",\"linesPer100\":129.6,\"numUsers\":83100000},{\"country\":\"Vietnam\",\"linesPer100\":79,\"numUsers\":72300000},{\"country\":\"Turkey\",\"linesPer100\":92.5,\"numUsers\":72200000},{\"country\":\"France\",\"linesPer100\":114.2,\"numUsers\":72180000},{\"country\":\"Thailand\",\"linesPer100\":105,\"numUsers\":69000000},{\"country\":\"South Africa\",\"linesPer100\":117.6,\"numUsers\":59474500},{\"country\":\"Colombia\",\"linesPer100\":118.9,\"numUsers\":57900472},{\"country\":\"Ukraine\",\"linesPer100\":126,\"numUsers\":57505555},{\"country\":\"Argentina\",\"linesPer100\":141.34,\"numUsers\":56725200},{\"country\":\"South Korea\",\"linesPer100\":111.5,\"numUsers\":56004887},{\"country\":\"Spain\",\"linesPer100\":118,\"numUsers\":55740000},{\"country\":\"Poland\",\"linesPer100\":123.48,\"numUsers\":47153200},{\"country\":\"Saudi Arabia\",\"linesPer100\":169.5,\"numUsers\":46000000},{\"country\":\"Morocco\",\"linesPer100\":131,\"numUsers\":44450000},{\"country\":\"Sri Lanka\",\"linesPer100\":179.3,\"numUsers\":38849812},{\"country\":\"Peru\",\"linesPer100\":109.8,\"numUsers\":34235000},{\"country\":\"Nepal\",\"linesPer100\":134.41,\"numUsers\":34172058},{\"country\":\"Algeria\",\"linesPer100\":94.2,\"numUsers\":33000000},{\"country\":\"Venezuela\",\"linesPer100\":106.15,\"numUsers\":32019086},{\"country\":\"Canada\",\"linesPer100\":84.6,\"numUsers\":31210628},{\"country\":\"Taiwan\",\"linesPer100\":123.33,\"numUsers\":28610000},{\"country\":\"Malaysia\",\"linesPer100\":143.8,\"numUsers\":30379000},{\"country\":\"Kenya\",\"linesPer100\":71.3,\"numUsers\":28080000},{\"country\":\"Romania\",\"linesPer100\":123.45,\"numUsers\":26000000},{\"country\":\"Chile\",\"linesPer100\":122.9,\"numUsers\":21000000},{\"country\":\"Australia\",\"linesPer100\":87.6,\"numUsers\":20570000},{\"country\":\"Netherlands\",\"linesPer100\":121.1,\"numUsers\":20000000},{\"country\":\"Hong Kong\",\"linesPer100\":256.7,\"numUsers\":19207578},{\"country\":\"Ethiopia\",\"linesPer100\":21.8,\"numUsers\":18000000},{\"country\":\"Guatemala\",\"linesPer100\":119.4,\"numUsers\":17571895},{\"country\":\"United Arab Emirates\",\"linesPer100\":203.7,\"numUsers\":17132724},{\"country\":\"Ecuador\",\"linesPer100\":111.18,\"numUsers\":15900000},{\"country\":\"Sweden\",\"linesPer100\":146.4,\"numUsers\":14500000},{\"country\":\"Zimbabwe\",\"linesPer100\":103.5,\"numUsers\":13518887},{\"country\":\"Portugal\",\"linesPer100\":126.87,\"numUsers\":13400000},{\"country\":\"Belgium\",\"linesPer100\":113.6,\"numUsers\":11822000},{\"country\":\"Hungary\",\"linesPer100\":116.7,\"numUsers\":11561890},{\"country\":\"Bulgaria\",\"linesPer100\":145.2,\"numUsers\":10454400},{\"country\":\"Israel\",\"linesPer100\":122.8,\"numUsers\":9701200},{\"country\":\"Finland\",\"linesPer100\":172.6,\"numUsers\":9470000},{\"country\":\"Singapore\",\"linesPer100\":150.1,\"numUsers\":8106700},{\"country\":\"Azerbaijan\",\"linesPer100\":126.2,\"numUsers\":7000000},{\"country\":\"Denmark\",\"linesPer100\":127.5,\"numUsers\":7000000},{\"country\":\"Panama\",\"linesPer100\":202.5,\"numUsers\":6900000},{\"country\":\"Jordan\",\"linesPer100\":101,\"numUsers\":6010000},{\"country\":\"Ireland\",\"linesPer100\":125.9,\"numUsers\":5770638},{\"country\":\"Lithuania\",\"linesPer100\":167.1,\"numUsers\":4940000},{\"country\":\"New Zealand\",\"linesPer100\":111.1,\"numUsers\":4761000},{\"country\":\"Mongolia\",\"linesPer100\":117.4,\"numUsers\":3500000},{\"country\":\"Lebanon\",\"linesPer100\":64.4,\"numUsers\":2720000},{\"country\":\"Latvia\",\"linesPer100\":129.8,\"numUsers\":2579000},{\"country\":\"North Korea\",\"linesPer100\":12.3,\"numUsers\":3000000},{\"country\":\"Trinidad and Tobago\",\"linesPer100\":151.6,\"numUsers\":2060000},{\"country\":\"Estonia\",\"linesPer100\":150.5,\"numUsers\":1904000},{\"country\":\"Cuba\",\"linesPer100\":11.6,\"numUsers\":1300000},{\"country\":\"Montenegro\",\"linesPer100\":180.23,\"numUsers\":1117500},{\"country\":\"Malta\",\"linesPer100\":122.57,\"numUsers\":554651},{\"country\":\"Maldives\",\"linesPer100\":245.92,\"numUsers\":776716}]},\"listing\":[{\"Place\":344,\"pop2022\":7604.299,\"GrowthRate\":0.00682,\"Density\":7242.18952,\"area\":1104,\"country\":\"Hong Kong\",\"cca3\":\"HKG\",\"cca2\":\"HK\",\"ccn3\":344,\"region\":\"Asia\",\"subregion\":\"Eastern Asia\",\"Rank\":104,\"linesPer100\":256.7,\"numUsers\":19207578,\"density\":6887.951992753623,\"densityMi\":17839.79566123188,\"rank\":1},{\"Place\":462,\"pop2022\":540.985,\"GrowthRate\":-0.00484,\"Density\":1803.28333,\"area\":300,\"country\":\"Maldives\",\"cca3\":\"MDV\",\"cca2\":\"MV\",\"ccn3\":462,\"region\":\"Asia\",\"subregion\":\"Southern Asia\",\"Rank\":173,\"linesPer100\":245.92,\"numUsers\":776716,\"density\":1803.2833333333333,\"densityMi\":4670.503833333333,\"rank\":2},{\"Place\":784,\"pop2022\":10081.785,\"GrowthRate\":0.00908,\"Density\":120.59551,\"area\":83600,\"country\":\"United Arab Emirates\",\"cca3\":\"ARE\",\"cca2\":\"AE\",\"ccn3\":784,\"region\":\"Asia\",\"subregion\":\"Western Asia\",\"Rank\":93,\"linesPer100\":203.7,\"numUsers\":17132724,\"density\":120.59551435406699,\"densityMi\":312.34238217703347,\"rank\":3},{\"Place\":591,\"pop2022\":4446.964,\"GrowthRate\":0.01492,\"Density\":59.81926,\"area\":75417,\"country\":\"Panama\",\"cca3\":\"PAN\",\"cca2\":\"PA\",\"ccn3\":591,\"region\":\"Americas\",\"subregion\":\"Central America\",\"Rank\":128,\"linesPer100\":202.5,\"numUsers\":6900000,\"density\":58.96500788946789,\"densityMi\":152.71937043372182,\"rank\":4},{\"Place\":499,\"pop2022\":627.95,\"GrowthRate\":-0.00016,\"Density\":46.68773,\"area\":13812,\"country\":\"Montenegro\",\"cca3\":\"MNE\",\"cca2\":\"ME\",\"ccn3\":499,\"region\":\"Europe\",\"subregion\":\"Southern Europe\",\"Rank\":169,\"linesPer100\":180.23,\"numUsers\":1117500,\"density\":45.46408919779901,\"densityMi\":117.75199102229944,\"rank\":5},{\"Place\":144,\"pop2022\":21575.842,\"GrowthRate\":0.00365,\"Density\":344.05744,\"area\":65610,\"country\":\"Sri Lanka\",\"cca3\":\"LKA\",\"cca2\":\"LK\",\"ccn3\":144,\"region\":\"Asia\",\"subregion\":\"Southern Asia\",\"Rank\":59,\"linesPer100\":179.3,\"numUsers\":38849812,\"density\":328.8499009297363,\"densityMi\":851.7212434080169,\"rank\":6},{\"Place\":246,\"pop2022\":5554.96,\"GrowthRate\":0.00119,\"Density\":18.27951,\"area\":338424,\"country\":\"Finland\",\"cca3\":\"FIN\",\"cca2\":\"FI\",\"ccn3\":246,\"region\":\"Europe\",\"subregion\":\"Northern Europe\",\"Rank\":117,\"linesPer100\":172.6,\"numUsers\":9470000,\"density\":16.41420230243718,\"densityMi\":42.51278396331229,\"rank\":7},{\"Place\":682,\"pop2022\":35844.909,\"GrowthRate\":0.01427,\"Density\":16.67445,\"area\":2149690,\"country\":\"Saudi Arabia\",\"cca3\":\"SAU\",\"cca2\":\"SA\",\"ccn3\":682,\"region\":\"Asia\",\"subregion\":\"Western Asia\",\"Rank\":41,\"linesPer100\":169.5,\"numUsers\":46000000,\"density\":16.67445492140727,\"densityMi\":43.18683824644483,\"rank\":8},{\"Place\":440,\"pop2022\":2661.708,\"GrowthRate\":-0.01047,\"Density\":42.46909,\"area\":65300,\"country\":\"Lithuania\",\"cca3\":\"LTU\",\"cca2\":\"LT\",\"ccn3\":440,\"region\":\"Europe\",\"subregion\":\"Northern Europe\",\"Rank\":142,\"linesPer100\":167.1,\"numUsers\":4940000,\"density\":40.76122511485452,\"densityMi\":105.5715730474732,\"rank\":9},{\"Place\":360,\"pop2022\":279134.505,\"GrowthRate\":0.01003,\"Density\":154.08431,\"area\":1904569,\"country\":\"Indonesia\",\"cca3\":\"IDN\",\"cca2\":\"ID\",\"ccn3\":360,\"region\":\"Asia\",\"subregion\":\"South-Eastern Asia\",\"Rank\":4,\"linesPer100\":162.28,\"numUsers\":385573398,\"density\":146.56045803538754,\"densityMi\":379.5915863116537,\"rank\":10},{\"Place\":643,\"pop2022\":145805.947,\"GrowthRate\":-0.00073,\"Density\":8.90316,\"area\":17098242,\"country\":\"Russia\",\"cca3\":\"RUS\",\"cca2\":\"RU\",\"ccn3\":643,\"region\":\"Europe\",\"subregion\":\"Eastern Europe\",\"Rank\":9,\"linesPer100\":155.5,\"numUsers\":256116000,\"density\":8.527540258232396,\"densityMi\":22.086329268821903,\"rank\":11},{\"Place\":780,\"pop2022\":1406.585,\"GrowthRate\":0.00229,\"Density\":274.18811,\"area\":5130,\"country\":\"Trinidad and Tobago\",\"cca3\":\"TTO\",\"cca2\":\"TT\",\"ccn3\":780,\"region\":\"Americas\",\"subregion\":\"Caribbean\",\"Rank\":154,\"linesPer100\":151.6,\"numUsers\":2060000,\"density\":274.18810916179336,\"densityMi\":710.1472027290448,\"rank\":12},{\"Place\":233,\"pop2022\":1321.91,\"GrowthRate\":-0.00247,\"Density\":31.18448,\"area\":45227,\"country\":\"Estonia\",\"cca3\":\"EST\",\"cca2\":\"EE\",\"ccn3\":233,\"region\":\"Europe\",\"subregion\":\"Northern Europe\",\"Rank\":156,\"linesPer100\":150.5,\"numUsers\":1904000,\"density\":29.228337055298827,\"densityMi\":75.70139297322396,\"rank\":13},{\"Place\":702,\"pop2022\":5943.546,\"GrowthRate\":0.00795,\"Density\":8490.78,\"area\":710,\"country\":\"Singapore\",\"cca3\":\"SGP\",\"cca2\":\"SG\",\"ccn3\":702,\"region\":\"Asia\",\"subregion\":\"South-Eastern Asia\",\"Rank\":114,\"linesPer100\":150.1,\"numUsers\":8106700,\"density\":8371.191549295774,\"densityMi\":21681.386112676053,\"rank\":14},{\"Place\":380,\"pop2022\":60262.77,\"GrowthRate\":-0.00173,\"Density\":204.87785,\"area\":301336,\"country\":\"Italy\",\"cca3\":\"ITA\",\"cca2\":\"IT\",\"ccn3\":380,\"region\":\"Europe\",\"subregion\":\"Southern Europe\",\"Rank\":25,\"linesPer100\":147.4,\"numUsers\":88580000,\"density\":199.98529880266545,\"densityMi\":517.9619238989035,\"rank\":15},{\"Place\":752,\"pop2022\":10218.971,\"GrowthRate\":0.00579,\"Density\":24.90367,\"area\":450295,\"country\":\"Sweden\",\"cca3\":\"SWE\",\"cca2\":\"SE\",\"ccn3\":752,\"region\":\"Europe\",\"subregion\":\"Northern Europe\",\"Rank\":91,\"linesPer100\":146.4,\"numUsers\":14500000,\"density\":22.693947301213647,\"densityMi\":58.77732351014335,\"rank\":16},{\"Place\":100,\"pop2022\":6844.597,\"GrowthRate\":-0.00755,\"Density\":63.04898,\"area\":110879,\"country\":\"Bulgaria\",\"cca3\":\"BGR\",\"cca2\":\"BG\",\"ccn3\":100,\"region\":\"Europe\",\"subregion\":\"Eastern Europe\",\"Rank\":108,\"linesPer100\":145.2,\"numUsers\":10454400,\"density\":61.73032765447019,\"densityMi\":159.88154862507778,\"rank\":17},{\"Place\":458,\"pop2022\":33181.072,\"GrowthRate\":0.01235,\"Density\":100.99246,\"area\":330803,\"country\":\"Malaysia\",\"cca3\":\"MYS\",\"cca2\":\"MY\",\"ccn3\":458,\"region\":\"Asia\",\"subregion\":\"South-Eastern Asia\",\"Rank\":45,\"linesPer100\":143.8,\"numUsers\":30379000,\"density\":100.30462843444587,\"densityMi\":259.7889876452148,\"rank\":18},{\"Place\":32,\"pop2022\":46010.234,\"GrowthRate\":0.00887,\"Density\":16.81237,\"area\":2780400,\"country\":\"Argentina\",\"cca3\":\"ARG\",\"cca2\":\"AR\",\"ccn3\":32,\"region\":\"Americas\",\"subregion\":\"South America\",\"Rank\":32,\"linesPer100\":141.34,\"numUsers\":56725200,\"density\":16.548062868651993,\"densityMi\":42.85948282980866,\"rank\":19},{\"Place\":76,\"pop2022\":215353.593,\"GrowthRate\":0.00636,\"Density\":25.76573,\"area\":8515767,\"country\":\"Brazil\",\"cca3\":\"BRA\",\"cca2\":\"BR\",\"ccn3\":76,\"region\":\"Americas\",\"subregion\":\"South America\",\"Rank\":7,\"linesPer100\":141.3,\"numUsers\":284200000,\"density\":25.288807573058303,\"densityMi\":65.498011614221,\"rank\":20},{\"Place\":524,\"pop2022\":30225.582,\"GrowthRate\":0.01856,\"Density\":210.85164,\"area\":147181,\"country\":\"Nepal\",\"cca3\":\"NPL\",\"cca2\":\"NP\",\"ccn3\":524,\"region\":\"Asia\",\"subregion\":\"Southern Asia\",\"Rank\":49,\"linesPer100\":134.41,\"numUsers\":34172058,\"density\":205.363341735686,\"densityMi\":531.8910550954267,\"rank\":21},{\"Place\":504,\"pop2022\":37772.756,\"GrowthRate\":0.01146,\"Density\":84.63535,\"area\":446550,\"country\":\"Morocco\",\"cca3\":\"MAR\",\"cca2\":\"MA\",\"ccn3\":504,\"region\":\"Africa\",\"subregion\":\"Northern Africa\",\"Rank\":39,\"linesPer100\":131,\"numUsers\":44450000,\"density\":84.58796551338035,\"densityMi\":219.0828306796551,\"rank\":22},{\"Place\":276,\"pop2022\":83883.596,\"GrowthRate\":-0.0002,\"Density\":240.65755,\"area\":357114,\"country\":\"Germany\",\"cca3\":\"DEU\",\"cca2\":\"DE\",\"ccn3\":276,\"region\":\"Europe\",\"subregion\":\"Western Europe\",\"Rank\":19,\"linesPer100\":130.1,\"numUsers\":107000000,\"density\":234.89304815829118,\"densityMi\":608.3729947299742,\"rank\":23},{\"Place\":364,\"pop2022\":86022.837,\"GrowthRate\":0.01169,\"Density\":52.82174,\"area\":1648195,\"country\":\"Iran\",\"cca3\":\"IRN\",\"cca2\":\"IR\",\"ccn3\":364,\"region\":\"Asia\",\"subregion\":\"Southern Asia\",\"Rank\":17,\"linesPer100\":130,\"numUsers\":96165000,\"density\":52.19214777377677,\"densityMi\":135.17766273408182,\"rank\":24},{\"Place\":428,\"pop2022\":1848.837,\"GrowthRate\":-0.0097,\"Density\":29.72407,\"area\":64559,\"country\":\"Latvia\",\"cca3\":\"LVA\",\"cca2\":\"LV\",\"ccn3\":428,\"region\":\"Europe\",\"subregion\":\"Northern Europe\",\"Rank\":151,\"linesPer100\":129.8,\"numUsers\":2579000,\"density\":28.63794358648678,\"densityMi\":74.17227388900076,\"rank\":25},{\"Place\":826,\"pop2022\":68497.907,\"GrowthRate\":0.00426,\"Density\":283.1311,\"area\":242900,\"country\":\"United Kingdom\",\"cca3\":\"GBR\",\"cca2\":\"GB\",\"ccn3\":826,\"region\":\"Europe\",\"subregion\":\"Northern Europe\",\"Rank\":21,\"linesPer100\":129.6,\"numUsers\":83100000,\"density\":282.00044051049815,\"densityMi\":730.3811409221902,\"rank\":26},{\"Place\":208,\"pop2022\":5834.95,\"GrowthRate\":0.00372,\"Density\":137.51944,\"area\":43094,\"country\":\"Denmark\",\"cca3\":\"DNK\",\"cca2\":\"DK\",\"ccn3\":208,\"region\":\"Europe\",\"subregion\":\"Northern Europe\",\"Rank\":115,\"linesPer100\":127.5,\"numUsers\":7000000,\"density\":135.40051979393883,\"densityMi\":350.6873462663015,\"rank\":27},{\"Place\":620,\"pop2022\":10140.57,\"GrowthRate\":-0.00269,\"Density\":110.717,\"area\":92090,\"country\":\"Portugal\",\"cca3\":\"PRT\",\"cca2\":\"PT\",\"ccn3\":620,\"region\":\"Europe\",\"subregion\":\"Southern Europe\",\"Rank\":92,\"linesPer100\":126.87,\"numUsers\":13400000,\"density\":110.1158649147573,\"densityMi\":285.2000901292214,\"rank\":28},{\"Place\":31,\"pop2022\":10300.205,\"GrowthRate\":0.00752,\"Density\":124.61232,\"area\":86600,\"country\":\"Azerbaijan\",\"cca3\":\"AZE\",\"cca2\":\"AZ\",\"ccn3\":31,\"region\":\"Asia\",\"subregion\":\"Western Asia\",\"Rank\":89,\"linesPer100\":126.2,\"numUsers\":7000000,\"density\":118.94001154734411,\"densityMi\":308.05462990762123,\"rank\":29},{\"Place\":804,\"pop2022\":43192.122,\"GrowthRate\":-0.00632,\"Density\":74.55659,\"area\":603500,\"country\":\"Ukraine\",\"cca3\":\"UKR\",\"cca2\":\"UA\",\"ccn3\":804,\"region\":\"Europe\",\"subregion\":\"Eastern Europe\",\"Rank\":35,\"linesPer100\":126,\"numUsers\":57505555,\"density\":71.56938193869097,\"densityMi\":185.3646992212096,\"rank\":30},{\"Place\":372,\"pop2022\":5020.199,\"GrowthRate\":0.00748,\"Density\":72.87268,\"area\":70273,\"country\":\"Ireland\",\"cca3\":\"IRL\",\"cca2\":\"IE\",\"ccn3\":372,\"region\":\"Europe\",\"subregion\":\"Northern Europe\",\"Rank\":124,\"linesPer100\":125.9,\"numUsers\":5770638,\"density\":71.4385183498641,\"densityMi\":185.02576252614801,\"rank\":31},{\"Place\":616,\"pop2022\":37739.785,\"GrowthRate\":-0.00151,\"Density\":123.24,\"area\":312679,\"country\":\"Poland\",\"cca3\":\"POL\",\"cca2\":\"PL\",\"ccn3\":616,\"region\":\"Europe\",\"subregion\":\"Eastern Europe\",\"Rank\":40,\"linesPer100\":123.48,\"numUsers\":47153200,\"density\":120.69817608473866,\"densityMi\":312.6082760594731,\"rank\":32},{\"Place\":642,\"pop2022\":19031.335,\"GrowthRate\":-0.00504,\"Density\":82.68382,\"area\":238391,\"country\":\"Romania\",\"cca3\":\"ROU\",\"cca2\":\"RO\",\"ccn3\":642,\"region\":\"Europe\",\"subregion\":\"Eastern Europe\",\"Rank\":66,\"linesPer100\":123.45,\"numUsers\":26000000,\"density\":79.8324391440952,\"densityMi\":206.76601738320656,\"rank\":33},{\"Place\":158,\"pop2022\":23888.595,\"GrowthRate\":0.00141,\"Density\":674.62849,\"area\":36193,\"country\":\"Taiwan\",\"cca3\":\"TWN\",\"cca2\":\"TW\",\"ccn3\":158,\"region\":\"Asia\",\"subregion\":\"Eastern Asia\",\"Rank\":57,\"linesPer100\":123.33,\"numUsers\":28610000,\"density\":660.0335700273533,\"densityMi\":1709.486946370845,\"rank\":34},{\"Place\":152,\"pop2022\":19250.195,\"GrowthRate\":0.00197,\"Density\":25.8902,\"area\":756102,\"country\":\"Chile\",\"cca3\":\"CHL\",\"cca2\":\"CL\",\"ccn3\":152,\"region\":\"Americas\",\"subregion\":\"South America\",\"Rank\":64,\"linesPer100\":122.9,\"numUsers\":21000000,\"density\":25.45978584899921,\"densityMi\":65.94084534890796,\"rank\":35},{\"Place\":376,\"pop2022\":8922.892,\"GrowthRate\":0.01514,\"Density\":412.33327,\"area\":20770,\"country\":\"Israel\",\"cca3\":\"ISR\",\"cca2\":\"IL\",\"ccn3\":376,\"region\":\"Asia\",\"subregion\":\"Western Asia\",\"Rank\":99,\"linesPer100\":122.8,\"numUsers\":9701200,\"density\":429.60481463649495,\"densityMi\":1112.6764699085218,\"rank\":36},{\"Place\":470,\"pop2022\":444.033,\"GrowthRate\":0.00282,\"Density\":1387.60313,\"area\":316,\"country\":\"Malta\",\"cca3\":\"MLT\",\"cca2\":\"MT\",\"ccn3\":470,\"region\":\"Europe\",\"subregion\":\"Southern Europe\",\"Rank\":175,\"linesPer100\":122.57,\"numUsers\":554651,\"density\":1405.1677215189873,\"densityMi\":3639.384398734177,\"rank\":37},{\"Place\":528,\"pop2022\":17211.447,\"GrowthRate\":0.00223,\"Density\":510.42251,\"area\":41850,\"country\":\"Netherlands\",\"cca3\":\"NLD\",\"cca2\":\"NL\",\"ccn3\":528,\"region\":\"Europe\",\"subregion\":\"Western Europe\",\"Rank\":71,\"linesPer100\":121.1,\"numUsers\":20000000,\"density\":411.26516129032257,\"densityMi\":1065.1767677419355,\"rank\":38},{\"Place\":320,\"pop2022\":18584.039,\"GrowthRate\":0.01831,\"Density\":173.42328,\"area\":108889,\"country\":\"Guatemala\",\"cca3\":\"GTM\",\"cca2\":\"GT\",\"ccn3\":320,\"region\":\"Americas\",\"subregion\":\"Central America\",\"Rank\":67,\"linesPer100\":119.4,\"numUsers\":17571895,\"density\":170.6695717657431,\"densityMi\":442.03419087327455,\"rank\":39},{\"Place\":170,\"pop2022\":51512.762,\"GrowthRate\":0.00482,\"Density\":46.42881,\"area\":1141748,\"country\":\"Colombia\",\"cca3\":\"COL\",\"cca2\":\"CO\",\"ccn3\":170,\"region\":\"Americas\",\"subregion\":\"South America\",\"Rank\":28,\"linesPer100\":118.9,\"numUsers\":57900472,\"density\":45.11745323836784,\"densityMi\":116.85420388737269,\"rank\":40},{\"Place\":724,\"pop2022\":46719.142,\"GrowthRate\":-0.00056,\"Density\":93.66308,\"area\":505992,\"country\":\"Spain\",\"cca3\":\"ESP\",\"cca2\":\"ES\",\"ccn3\":724,\"region\":\"Europe\",\"subregion\":\"Southern Europe\",\"Rank\":31,\"linesPer100\":118,\"numUsers\":55740000,\"density\":92.3317799490901,\"densityMi\":239.13931006814335,\"rank\":41},{\"Place\":710,\"pop2022\":60756.135,\"GrowthRate\":0.01189,\"Density\":50.08378,\"area\":1221037,\"country\":\"South Africa\",\"cca3\":\"ZAF\",\"cca2\":\"ZA\",\"ccn3\":710,\"region\":\"Africa\",\"subregion\":\"Southern Africa\",\"Rank\":24,\"linesPer100\":117.6,\"numUsers\":59474500,\"density\":49.75781651170276,\"densityMi\":128.87274476531013,\"rank\":42},{\"Place\":496,\"pop2022\":3378.078,\"GrowthRate\":0.01465,\"Density\":2.17441,\"area\":1564110,\"country\":\"Mongolia\",\"cca3\":\"MNG\",\"cca2\":\"MN\",\"ccn3\":496,\"region\":\"Asia\",\"subregion\":\"Eastern Asia\",\"Rank\":135,\"linesPer100\":117.4,\"numUsers\":3500000,\"density\":2.1597445192473677,\"densityMi\":5.593738304850682,\"rank\":43},{\"Place\":348,\"pop2022\":9606.259,\"GrowthRate\":-0.0029,\"Density\":106.11133,\"area\":93028,\"country\":\"Hungary\",\"cca3\":\"HUN\",\"cca2\":\"HU\",\"ccn3\":348,\"region\":\"Europe\",\"subregion\":\"Eastern Europe\",\"Rank\":95,\"linesPer100\":116.7,\"numUsers\":11561890,\"density\":103.26201788708777,\"densityMi\":267.4486263275573,\"rank\":44},{\"Place\":392,\"pop2022\":125584.838,\"GrowthRate\":-0.0037,\"Density\":344.48804,\"area\":377930,\"country\":\"Japan\",\"cca3\":\"JPN\",\"cca2\":\"JP\",\"ccn3\":392,\"region\":\"Asia\",\"subregion\":\"Eastern Asia\",\"Rank\":11,\"linesPer100\":115.2,\"numUsers\":146649600,\"density\":332.29655756357,\"densityMi\":860.6480840896462,\"rank\":45},{\"Place\":250,\"pop2022\":65584.518,\"GrowthRate\":0.00242,\"Density\":119.7766,\"area\":551695,\"country\":\"France\",\"cca3\":\"FRA\",\"cca2\":\"FR\",\"ccn3\":250,\"region\":\"Europe\",\"subregion\":\"Western Europe\",\"Rank\":22,\"linesPer100\":114.2,\"numUsers\":72180000,\"density\":118.87821713084222,\"densityMi\":307.89458236888134,\"rank\":46},{\"Place\":156,\"pop2022\":1448471.4,\"GrowthRate\":0.00295,\"Density\":154.2862,\"area\":9706961,\"country\":\"China\",\"cca3\":\"CHN\",\"cca2\":\"CN\",\"ccn3\":156,\"region\":\"Asia\",\"subregion\":\"Eastern Asia\",\"Rank\":1,\"linesPer100\":114.17,\"numUsers\":1598360000,\"density\":149.21986397184455,\"densityMi\":386.47944768707737,\"rank\":47},{\"Place\":608,\"pop2022\":112508.994,\"GrowthRate\":0.01317,\"Density\":377.3317,\"area\":342353,\"country\":\"Philippines\",\"cca3\":\"PHL\",\"cca2\":\"PH\",\"ccn3\":608,\"region\":\"Asia\",\"subregion\":\"South-Eastern Asia\",\"Rank\":13,\"linesPer100\":113.8,\"numUsers\":106987098,\"density\":328.6344620902986,\"densityMi\":851.1632568138733,\"rank\":48},{\"Place\":56,\"pop2022\":11668.278,\"GrowthRate\":0.00309,\"Density\":385.34604,\"area\":30528,\"country\":\"Belgium\",\"cca3\":\"BEL\",\"cca2\":\"BE\",\"ccn3\":56,\"region\":\"Europe\",\"subregion\":\"Western Europe\",\"Rank\":82,\"linesPer100\":113.6,\"numUsers\":11822000,\"density\":382.21560534591197,\"densityMi\":989.9384178459119,\"rank\":49},{\"Place\":410,\"pop2022\":51329.899,\"GrowthRate\":0.00048,\"Density\":527.92244,\"area\":100210,\"country\":\"South Korea\",\"cca3\":\"KOR\",\"cca2\":\"KR\",\"ccn3\":410,\"region\":\"Asia\",\"subregion\":\"Eastern Asia\",\"Rank\":29,\"linesPer100\":111.5,\"numUsers\":56004887,\"density\":512.2233210258457,\"densityMi\":1326.6584014569403,\"rank\":50},{\"Place\":218,\"pop2022\":18113.361,\"GrowthRate\":0.01257,\"Density\":72.93188,\"area\":276841,\"country\":\"Ecuador\",\"cca3\":\"ECU\",\"cca2\":\"EC\",\"ccn3\":218,\"region\":\"Americas\",\"subregion\":\"South America\",\"Rank\":68,\"linesPer100\":111.18,\"numUsers\":15900000,\"density\":65.42875152163155,\"densityMi\":169.46046644102572,\"rank\":51},{\"Place\":554,\"pop2022\":4898.203,\"GrowthRate\":0.00773,\"Density\":18.60242,\"area\":270467,\"country\":\"New Zealand\",\"cca3\":\"NZL\",\"cca2\":\"NZ\",\"ccn3\":554,\"region\":\"Oceania\",\"subregion\":\"Australia and New Zealand\",\"Rank\":127,\"linesPer100\":111.1,\"numUsers\":4761000,\"density\":18.110168708197303,\"densityMi\":46.90533695423101,\"rank\":52},{\"Place\":604,\"pop2022\":33684.208,\"GrowthRate\":0.00974,\"Density\":26.31579,\"area\":1285216,\"country\":\"Peru\",\"cca3\":\"PER\",\"cca2\":\"PE\",\"ccn3\":604,\"region\":\"Americas\",\"subregion\":\"South America\",\"Rank\":44,\"linesPer100\":109.8,\"numUsers\":34235000,\"density\":26.208985882528694,\"densityMi\":67.8812734357493,\"rank\":53},{\"Place\":862,\"pop2022\":29266.991,\"GrowthRate\":0.01958,\"Density\":33.18065,\"area\":916445,\"country\":\"Venezuela\",\"cca3\":\"VEN\",\"cca2\":\"VE\",\"ccn3\":862,\"region\":\"Americas\",\"subregion\":\"South America\",\"Rank\":50,\"linesPer100\":106.15,\"numUsers\":32019086,\"density\":31.935349093508066,\"densityMi\":82.71255415218589,\"rank\":54},{\"Place\":764,\"pop2022\":70078.203,\"GrowthRate\":0.00182,\"Density\":137.16887,\"area\":513120,\"country\":\"Thailand\",\"cca3\":\"THA\",\"cca2\":\"TH\",\"ccn3\":764,\"region\":\"Asia\",\"subregion\":\"South-Eastern Asia\",\"Rank\":20,\"linesPer100\":105,\"numUsers\":69000000,\"density\":136.57273737137513,\"densityMi\":353.72338979186156,\"rank\":55},{\"Place\":716,\"pop2022\":15331.428,\"GrowthRate\":0.01585,\"Density\":39.63145,\"area\":390757,\"country\":\"Zimbabwe\",\"cca3\":\"ZWE\",\"cca2\":\"ZW\",\"ccn3\":716,\"region\":\"Africa\",\"subregion\":\"Eastern Africa\",\"Rank\":74,\"linesPer100\":103.5,\"numUsers\":13518887,\"density\":39.23519732212091,\"densityMi\":101.61916106429315,\"rank\":56},{\"Place\":840,\"pop2022\":334805.269,\"GrowthRate\":0.00568,\"Density\":36.60106,\"area\":9372610,\"country\":\"United States\",\"cca3\":\"USA\",\"cca2\":\"US\",\"ccn3\":840,\"region\":\"Americas\",\"subregion\":\"Northern America\",\"Rank\":3,\"linesPer100\":103.1,\"numUsers\":327577529,\"density\":35.72166867073312,\"densityMi\":92.51912185719878,\"rank\":57},{\"Place\":400,\"pop2022\":10300.869,\"GrowthRate\":0.0031,\"Density\":116.02691,\"area\":89342,\"country\":\"Jordan\",\"cca3\":\"JOR\",\"cca2\":\"JO\",\"ccn3\":400,\"region\":\"Asia\",\"subregion\":\"Western Asia\",\"Rank\":88,\"linesPer100\":101,\"numUsers\":6010000,\"density\":115.29704953997,\"densityMi\":298.6193583085223,\"rank\":58},{\"Place\":50,\"pop2022\":167885.689,\"GrowthRate\":0.00951,\"Density\":1289.74179,\"area\":147570,\"country\":\"Bangladesh\",\"cca3\":\"BGD\",\"cca2\":\"BD\",\"ccn3\":50,\"region\":\"Asia\",\"subregion\":\"Southern Asia\",\"Rank\":8,\"linesPer100\":98.18,\"numUsers\":165615000,\"density\":1137.6681507081385,\"densityMi\":2946.5605103340786,\"rank\":59},{\"Place\":818,\"pop2022\":106156.692,\"GrowthRate\":0.01821,\"Density\":106.64191,\"area\":1002450,\"country\":\"Egypt\",\"cca3\":\"EGY\",\"cca2\":\"EG\",\"ccn3\":818,\"region\":\"Africa\",\"subregion\":\"Northern Africa\",\"Rank\":14,\"linesPer100\":95.38,\"numUsers\":95340000,\"density\":105.89724375280562,\"densityMi\":274.2738613197665,\"rank\":60},{\"Place\":566,\"pop2022\":216746.934,\"GrowthRate\":0.02529,\"Density\":237.98207,\"area\":923768,\"country\":\"Nigeria\",\"cca3\":\"NGA\",\"cca2\":\"NG\",\"ccn3\":566,\"region\":\"Africa\",\"subregion\":\"Western Africa\",\"Rank\":6,\"linesPer100\":94.5,\"numUsers\":167371945,\"density\":234.63351620753264,\"densityMi\":607.7008069775095,\"rank\":61},{\"Place\":12,\"pop2022\":45350.148,\"GrowthRate\":0.01644,\"Density\":19.04076,\"area\":2381741,\"country\":\"Algeria\",\"cca3\":\"DZA\",\"cca2\":\"DZ\",\"ccn3\":12,\"region\":\"Africa\",\"subregion\":\"Northern Africa\",\"Rank\":34,\"linesPer100\":94.2,\"numUsers\":33000000,\"density\":19.040755480969594,\"densityMi\":49.315556695711244,\"rank\":62},{\"Place\":356,\"pop2022\":1406631.776,\"GrowthRate\":0.00949,\"Density\":473.10524,\"area\":3287590,\"country\":\"India\",\"cca3\":\"IND\",\"cca2\":\"IN\",\"ccn3\":356,\"region\":\"Asia\",\"subregion\":\"Southern Asia\",\"Rank\":2,\"linesPer100\":93.1,\"numUsers\":1281971713,\"density\":427.86107026727785,\"densityMi\":1108.1601719922496,\"rank\":63},{\"Place\":792,\"pop2022\":85561.976,\"GrowthRate\":0.00611,\"Density\":111.17287,\"area\":783562,\"country\":\"Turkey\",\"cca3\":\"TUR\",\"cca2\":\"TR\",\"ccn3\":792,\"region\":\"Asia\",\"subregion\":\"Western Asia\",\"Rank\":18,\"linesPer100\":92.5,\"numUsers\":72200000,\"density\":109.19617847726153,\"densityMi\":282.81810225610735,\"rank\":64},{\"Place\":484,\"pop2022\":131562.772,\"GrowthRate\":0.00998,\"Density\":67.67806,\"area\":1964375,\"country\":\"Mexico\",\"cca3\":\"MEX\",\"cca2\":\"MX\",\"ccn3\":484,\"region\":\"Americas\",\"subregion\":\"Central America\",\"Rank\":10,\"linesPer100\":90.2,\"numUsers\":101339000,\"density\":66.97436691059497,\"densityMi\":173.46361029844095,\"rank\":65},{\"Place\":36,\"pop2022\":26068.792,\"GrowthRate\":0.01088,\"Density\":3.39336,\"area\":7692024,\"country\":\"Australia\",\"cca3\":\"AUS\",\"cca2\":\"AU\",\"ccn3\":36,\"region\":\"Oceania\",\"subregion\":\"Australia and New Zealand\",\"Rank\":55,\"linesPer100\":87.6,\"numUsers\":20570000,\"density\":3.3890679488259527,\"densityMi\":8.777685987459217,\"rank\":66},{\"Place\":124,\"pop2022\":38388.419,\"GrowthRate\":0.00842,\"Density\":4.22152,\"area\":9984670,\"country\":\"Canada\",\"cca3\":\"CAN\",\"cca2\":\"CA\",\"ccn3\":124,\"region\":\"Americas\",\"subregion\":\"Northern America\",\"Rank\":38,\"linesPer100\":84.6,\"numUsers\":31210628,\"density\":3.8447358801041998,\"densityMi\":9.957865929469877,\"rank\":67},{\"Place\":586,\"pop2022\":229488.994,\"GrowthRate\":0.01905,\"Density\":297.69743,\"area\":881912,\"country\":\"Pakistan\",\"cca3\":\"PAK\",\"cca2\":\"PK\",\"ccn3\":586,\"region\":\"Asia\",\"subregion\":\"Southern Asia\",\"Rank\":5,\"linesPer100\":79.61,\"numUsers\":165405847,\"density\":260.2175659249449,\"densityMi\":673.9634957456072,\"rank\":68},{\"Place\":704,\"pop2022\":98953.541,\"GrowthRate\":0.00799,\"Density\":319.13291,\"area\":331212,\"country\":\"Vietnam\",\"cca3\":\"VNM\",\"cca2\":\"VN\",\"ccn3\":704,\"region\":\"Asia\",\"subregion\":\"South-Eastern Asia\",\"Rank\":15,\"linesPer100\":79,\"numUsers\":72300000,\"density\":298.7619440116904,\"densityMi\":773.7934349902781,\"rank\":69},{\"Place\":404,\"pop2022\":56215.221,\"GrowthRate\":0.02236,\"Density\":98.77222,\"area\":580367,\"country\":\"Kenya\",\"cca3\":\"KEN\",\"cca2\":\"KE\",\"ccn3\":404,\"region\":\"Africa\",\"subregion\":\"Eastern Africa\",\"Rank\":26,\"linesPer100\":71.3,\"numUsers\":28080000,\"density\":96.86150487536335,\"densityMi\":250.87129762719107,\"rank\":70},{\"Place\":422,\"pop2022\":6684.849,\"GrowthRate\":-0.01245,\"Density\":653.45543,\"area\":10452,\"country\":\"Lebanon\",\"cca3\":\"LBN\",\"cca2\":\"LB\",\"ccn3\":422,\"region\":\"Asia\",\"subregion\":\"Western Asia\",\"Rank\":111,\"linesPer100\":64.4,\"numUsers\":2720000,\"density\":639.5760619977037,\"densityMi\":1656.5020005740525,\"rank\":71},{\"Place\":231,\"pop2022\":120812.698,\"GrowthRate\":0.02491,\"Density\":120.8127,\"area\":1104300,\"country\":\"Ethiopia\",\"cca3\":\"ETH\",\"cca2\":\"ET\",\"ccn3\":231,\"region\":\"Africa\",\"subregion\":\"Eastern Africa\",\"Rank\":12,\"linesPer100\":21.8,\"numUsers\":18000000,\"density\":109.40206284524133,\"densityMi\":283.35134276917506,\"rank\":72},{\"Place\":408,\"pop2022\":25990.679,\"GrowthRate\":0.004,\"Density\":215.8515,\"area\":120538,\"country\":\"North Korea\",\"cca3\":\"PRK\",\"cca2\":\"KP\",\"ccn3\":408,\"region\":\"Asia\",\"subregion\":\"Eastern Asia\",\"Rank\":56,\"linesPer100\":12.3,\"numUsers\":3000000,\"density\":215.62228508851982,\"densityMi\":558.4617183792662,\"rank\":73},{\"Place\":192,\"pop2022\":11305.652,\"GrowthRate\":-0.00105,\"Density\":106.2162,\"area\":109884,\"country\":\"Cuba\",\"cca3\":\"CUB\",\"cca2\":\"CU\",\"ccn3\":192,\"region\":\"Americas\",\"subregion\":\"Caribbean\",\"Rank\":84,\"linesPer100\":11.6,\"numUsers\":1300000,\"density\":102.88715372574715,\"densityMi\":266.4777281496851,\"rank\":74}],\"dataTables\":[]},\"__N_SSG\":true},\"page\":\"/country-rankings/[slug]\",\"query\":{\"slug\":\"cell-phones-by-country\"},\"buildId\":\"Hb9GfyzjIC-pPh1frrDk6\",\"isFallback\":false,\"gsp\":true,\"scriptLoader\":[]}</script></body></html>"
      ]
     },
     "execution_count": 9,
     "metadata": {},
     "output_type": "execute_result"
    }
   ],
   "source": [
    "soup"
   ]
  },
  {
   "cell_type": "markdown",
   "id": "67c3d63e",
   "metadata": {},
   "source": [
    "# richest name"
   ]
  },
  {
   "cell_type": "code",
   "execution_count": 37,
   "id": "5b3ceaa1",
   "metadata": {},
   "outputs": [],
   "source": [
    "country = soup.select('td a') "
   ]
  },
  {
   "cell_type": "code",
   "execution_count": 38,
   "id": "46e3752c",
   "metadata": {},
   "outputs": [
    {
     "data": {
      "text/plain": [
       "[<a href=\"/countries/hong-kong-population\">Hong Kong</a>,\n",
       " <a href=\"/countries/maldives-population\">Maldives</a>,\n",
       " <a href=\"/countries/united-arab-emirates-population\">United Arab Emirates</a>,\n",
       " <a href=\"/countries/panama-population\">Panama</a>,\n",
       " <a href=\"/countries/montenegro-population\">Montenegro</a>,\n",
       " <a href=\"/countries/sri-lanka-population\">Sri Lanka</a>,\n",
       " <a href=\"/countries/finland-population\">Finland</a>,\n",
       " <a href=\"/countries/saudi-arabia-population\">Saudi Arabia</a>,\n",
       " <a href=\"/countries/lithuania-population\">Lithuania</a>,\n",
       " <a href=\"/countries/indonesia-population\">Indonesia</a>,\n",
       " <a href=\"/countries/russia-population\">Russia</a>,\n",
       " <a href=\"/countries/trinidad-and-tobago-population\">Trinidad And Tobago</a>,\n",
       " <a href=\"/countries/estonia-population\">Estonia</a>,\n",
       " <a href=\"/countries/singapore-population\">Singapore</a>,\n",
       " <a href=\"/countries/italy-population\">Italy</a>,\n",
       " <a href=\"/countries/sweden-population\">Sweden</a>,\n",
       " <a href=\"/countries/bulgaria-population\">Bulgaria</a>,\n",
       " <a href=\"/countries/malaysia-population\">Malaysia</a>,\n",
       " <a href=\"/countries/argentina-population\">Argentina</a>,\n",
       " <a href=\"/countries/brazil-population\">Brazil</a>,\n",
       " <a href=\"/countries/nepal-population\">Nepal</a>,\n",
       " <a href=\"/countries/morocco-population\">Morocco</a>,\n",
       " <a href=\"/countries/germany-population\">Germany</a>,\n",
       " <a href=\"/countries/iran-population\">Iran</a>,\n",
       " <a href=\"/countries/latvia-population\">Latvia</a>,\n",
       " <a href=\"/countries/united-kingdom-population\">United Kingdom</a>,\n",
       " <a href=\"/countries/denmark-population\">Denmark</a>,\n",
       " <a href=\"/countries/portugal-population\">Portugal</a>,\n",
       " <a href=\"/countries/azerbaijan-population\">Azerbaijan</a>,\n",
       " <a href=\"/countries/ukraine-population\">Ukraine</a>,\n",
       " <a href=\"/countries/ireland-population\">Ireland</a>,\n",
       " <a href=\"/countries/poland-population\">Poland</a>,\n",
       " <a href=\"/countries/romania-population\">Romania</a>,\n",
       " <a href=\"/countries/taiwan-population\">Taiwan</a>,\n",
       " <a href=\"/countries/chile-population\">Chile</a>,\n",
       " <a href=\"/countries/israel-population\">Israel</a>,\n",
       " <a href=\"/countries/malta-population\">Malta</a>,\n",
       " <a href=\"/countries/netherlands-population\">Netherlands</a>,\n",
       " <a href=\"/countries/guatemala-population\">Guatemala</a>,\n",
       " <a href=\"/countries/colombia-population\">Colombia</a>,\n",
       " <a href=\"/countries/spain-population\">Spain</a>,\n",
       " <a href=\"/countries/south-africa-population\">South Africa</a>,\n",
       " <a href=\"/countries/mongolia-population\">Mongolia</a>,\n",
       " <a href=\"/countries/hungary-population\">Hungary</a>,\n",
       " <a href=\"/countries/japan-population\">Japan</a>,\n",
       " <a href=\"/countries/france-population\">France</a>,\n",
       " <a href=\"/countries/china-population\">China</a>,\n",
       " <a href=\"/countries/philippines-population\">Philippines</a>,\n",
       " <a href=\"/countries/belgium-population\">Belgium</a>,\n",
       " <a href=\"/countries/south-korea-population\">South Korea</a>,\n",
       " <a href=\"/countries/ecuador-population\">Ecuador</a>,\n",
       " <a href=\"/countries/new-zealand-population\">New Zealand</a>,\n",
       " <a href=\"/countries/peru-population\">Peru</a>,\n",
       " <a href=\"/countries/venezuela-population\">Venezuela</a>,\n",
       " <a href=\"/countries/thailand-population\">Thailand</a>,\n",
       " <a href=\"/countries/zimbabwe-population\">Zimbabwe</a>,\n",
       " <a href=\"/countries/united-states-population\">United States</a>,\n",
       " <a href=\"/countries/jordan-population\">Jordan</a>,\n",
       " <a href=\"/countries/bangladesh-population\">Bangladesh</a>,\n",
       " <a href=\"/countries/egypt-population\">Egypt</a>,\n",
       " <a href=\"/countries/nigeria-population\">Nigeria</a>,\n",
       " <a href=\"/countries/algeria-population\">Algeria</a>,\n",
       " <a href=\"/countries/india-population\">India</a>,\n",
       " <a href=\"/countries/turkey-population\">Turkey</a>,\n",
       " <a href=\"/countries/mexico-population\">Mexico</a>,\n",
       " <a href=\"/countries/australia-population\">Australia</a>,\n",
       " <a href=\"/countries/canada-population\">Canada</a>,\n",
       " <a href=\"/countries/pakistan-population\">Pakistan</a>,\n",
       " <a href=\"/countries/vietnam-population\">Vietnam</a>,\n",
       " <a href=\"/countries/kenya-population\">Kenya</a>,\n",
       " <a href=\"/countries/lebanon-population\">Lebanon</a>,\n",
       " <a href=\"/countries/ethiopia-population\">Ethiopia</a>,\n",
       " <a href=\"/countries/north-korea-population\">North Korea</a>,\n",
       " <a href=\"/countries/cuba-population\">Cuba</a>]"
      ]
     },
     "execution_count": 38,
     "metadata": {},
     "output_type": "execute_result"
    }
   ],
   "source": [
    "country"
   ]
  },
  {
   "cell_type": "code",
   "execution_count": 41,
   "id": "41e79f57",
   "metadata": {},
   "outputs": [],
   "source": [
    "country_list = []\n",
    "country_link = []"
   ]
  },
  {
   "cell_type": "code",
   "execution_count": 42,
   "id": "204aa574",
   "metadata": {},
   "outputs": [],
   "source": [
    "for item in country:\n",
    "    country_list.append(item.text)\n",
    "    link = \"http//worldpopulationreview.com\" + item[\"href\"]\n",
    "    country_list.append(link)"
   ]
  },
  {
   "cell_type": "code",
   "execution_count": 46,
   "id": "46f3781f",
   "metadata": {},
   "outputs": [],
   "source": [
    "for item in country:\n",
    "    users_country.append(item.text)\n",
    "    link = \"http//worldpopulationreview.com\" + item[\"href\"]\n",
    "    country_link.append(link)"
   ]
  },
  {
   "cell_type": "code",
   "execution_count": 47,
   "id": "a37c7b4b",
   "metadata": {},
   "outputs": [
    {
     "data": {
      "text/plain": [
       "[<a href=\"/countries/hong-kong-population\">Hong Kong</a>,\n",
       " <a href=\"/countries/maldives-population\">Maldives</a>,\n",
       " <a href=\"/countries/united-arab-emirates-population\">United Arab Emirates</a>,\n",
       " <a href=\"/countries/panama-population\">Panama</a>,\n",
       " <a href=\"/countries/montenegro-population\">Montenegro</a>,\n",
       " <a href=\"/countries/sri-lanka-population\">Sri Lanka</a>,\n",
       " <a href=\"/countries/finland-population\">Finland</a>,\n",
       " <a href=\"/countries/saudi-arabia-population\">Saudi Arabia</a>,\n",
       " <a href=\"/countries/lithuania-population\">Lithuania</a>,\n",
       " <a href=\"/countries/indonesia-population\">Indonesia</a>,\n",
       " <a href=\"/countries/russia-population\">Russia</a>,\n",
       " <a href=\"/countries/trinidad-and-tobago-population\">Trinidad And Tobago</a>,\n",
       " <a href=\"/countries/estonia-population\">Estonia</a>,\n",
       " <a href=\"/countries/singapore-population\">Singapore</a>,\n",
       " <a href=\"/countries/italy-population\">Italy</a>,\n",
       " <a href=\"/countries/sweden-population\">Sweden</a>,\n",
       " <a href=\"/countries/bulgaria-population\">Bulgaria</a>,\n",
       " <a href=\"/countries/malaysia-population\">Malaysia</a>,\n",
       " <a href=\"/countries/argentina-population\">Argentina</a>,\n",
       " <a href=\"/countries/brazil-population\">Brazil</a>,\n",
       " <a href=\"/countries/nepal-population\">Nepal</a>,\n",
       " <a href=\"/countries/morocco-population\">Morocco</a>,\n",
       " <a href=\"/countries/germany-population\">Germany</a>,\n",
       " <a href=\"/countries/iran-population\">Iran</a>,\n",
       " <a href=\"/countries/latvia-population\">Latvia</a>,\n",
       " <a href=\"/countries/united-kingdom-population\">United Kingdom</a>,\n",
       " <a href=\"/countries/denmark-population\">Denmark</a>,\n",
       " <a href=\"/countries/portugal-population\">Portugal</a>,\n",
       " <a href=\"/countries/azerbaijan-population\">Azerbaijan</a>,\n",
       " <a href=\"/countries/ukraine-population\">Ukraine</a>,\n",
       " <a href=\"/countries/ireland-population\">Ireland</a>,\n",
       " <a href=\"/countries/poland-population\">Poland</a>,\n",
       " <a href=\"/countries/romania-population\">Romania</a>,\n",
       " <a href=\"/countries/taiwan-population\">Taiwan</a>,\n",
       " <a href=\"/countries/chile-population\">Chile</a>,\n",
       " <a href=\"/countries/israel-population\">Israel</a>,\n",
       " <a href=\"/countries/malta-population\">Malta</a>,\n",
       " <a href=\"/countries/netherlands-population\">Netherlands</a>,\n",
       " <a href=\"/countries/guatemala-population\">Guatemala</a>,\n",
       " <a href=\"/countries/colombia-population\">Colombia</a>,\n",
       " <a href=\"/countries/spain-population\">Spain</a>,\n",
       " <a href=\"/countries/south-africa-population\">South Africa</a>,\n",
       " <a href=\"/countries/mongolia-population\">Mongolia</a>,\n",
       " <a href=\"/countries/hungary-population\">Hungary</a>,\n",
       " <a href=\"/countries/japan-population\">Japan</a>,\n",
       " <a href=\"/countries/france-population\">France</a>,\n",
       " <a href=\"/countries/china-population\">China</a>,\n",
       " <a href=\"/countries/philippines-population\">Philippines</a>,\n",
       " <a href=\"/countries/belgium-population\">Belgium</a>,\n",
       " <a href=\"/countries/south-korea-population\">South Korea</a>,\n",
       " <a href=\"/countries/ecuador-population\">Ecuador</a>,\n",
       " <a href=\"/countries/new-zealand-population\">New Zealand</a>,\n",
       " <a href=\"/countries/peru-population\">Peru</a>,\n",
       " <a href=\"/countries/venezuela-population\">Venezuela</a>,\n",
       " <a href=\"/countries/thailand-population\">Thailand</a>,\n",
       " <a href=\"/countries/zimbabwe-population\">Zimbabwe</a>,\n",
       " <a href=\"/countries/united-states-population\">United States</a>,\n",
       " <a href=\"/countries/jordan-population\">Jordan</a>,\n",
       " <a href=\"/countries/bangladesh-population\">Bangladesh</a>,\n",
       " <a href=\"/countries/egypt-population\">Egypt</a>,\n",
       " <a href=\"/countries/nigeria-population\">Nigeria</a>,\n",
       " <a href=\"/countries/algeria-population\">Algeria</a>,\n",
       " <a href=\"/countries/india-population\">India</a>,\n",
       " <a href=\"/countries/turkey-population\">Turkey</a>,\n",
       " <a href=\"/countries/mexico-population\">Mexico</a>,\n",
       " <a href=\"/countries/australia-population\">Australia</a>,\n",
       " <a href=\"/countries/canada-population\">Canada</a>,\n",
       " <a href=\"/countries/pakistan-population\">Pakistan</a>,\n",
       " <a href=\"/countries/vietnam-population\">Vietnam</a>,\n",
       " <a href=\"/countries/kenya-population\">Kenya</a>,\n",
       " <a href=\"/countries/lebanon-population\">Lebanon</a>,\n",
       " <a href=\"/countries/ethiopia-population\">Ethiopia</a>,\n",
       " <a href=\"/countries/north-korea-population\">North Korea</a>,\n",
       " <a href=\"/countries/cuba-population\">Cuba</a>]"
      ]
     },
     "execution_count": 47,
     "metadata": {},
     "output_type": "execute_result"
    }
   ],
   "source": [
    "country"
   ]
  },
  {
   "cell_type": "code",
   "execution_count": 48,
   "id": "726f7f70",
   "metadata": {},
   "outputs": [
    {
     "data": {
      "text/plain": [
       "['http//worldpopulationreview.com/countries/hong-kong-population',\n",
       " 'http//worldpopulationreview.com/countries/maldives-population',\n",
       " 'http//worldpopulationreview.com/countries/united-arab-emirates-population',\n",
       " 'http//worldpopulationreview.com/countries/panama-population',\n",
       " 'http//worldpopulationreview.com/countries/montenegro-population',\n",
       " 'http//worldpopulationreview.com/countries/sri-lanka-population',\n",
       " 'http//worldpopulationreview.com/countries/finland-population',\n",
       " 'http//worldpopulationreview.com/countries/saudi-arabia-population',\n",
       " 'http//worldpopulationreview.com/countries/lithuania-population',\n",
       " 'http//worldpopulationreview.com/countries/indonesia-population',\n",
       " 'http//worldpopulationreview.com/countries/russia-population',\n",
       " 'http//worldpopulationreview.com/countries/trinidad-and-tobago-population',\n",
       " 'http//worldpopulationreview.com/countries/estonia-population',\n",
       " 'http//worldpopulationreview.com/countries/singapore-population',\n",
       " 'http//worldpopulationreview.com/countries/italy-population',\n",
       " 'http//worldpopulationreview.com/countries/sweden-population',\n",
       " 'http//worldpopulationreview.com/countries/bulgaria-population',\n",
       " 'http//worldpopulationreview.com/countries/malaysia-population',\n",
       " 'http//worldpopulationreview.com/countries/argentina-population',\n",
       " 'http//worldpopulationreview.com/countries/brazil-population',\n",
       " 'http//worldpopulationreview.com/countries/nepal-population',\n",
       " 'http//worldpopulationreview.com/countries/morocco-population',\n",
       " 'http//worldpopulationreview.com/countries/germany-population',\n",
       " 'http//worldpopulationreview.com/countries/iran-population',\n",
       " 'http//worldpopulationreview.com/countries/latvia-population',\n",
       " 'http//worldpopulationreview.com/countries/united-kingdom-population',\n",
       " 'http//worldpopulationreview.com/countries/denmark-population',\n",
       " 'http//worldpopulationreview.com/countries/portugal-population',\n",
       " 'http//worldpopulationreview.com/countries/azerbaijan-population',\n",
       " 'http//worldpopulationreview.com/countries/ukraine-population',\n",
       " 'http//worldpopulationreview.com/countries/ireland-population',\n",
       " 'http//worldpopulationreview.com/countries/poland-population',\n",
       " 'http//worldpopulationreview.com/countries/romania-population',\n",
       " 'http//worldpopulationreview.com/countries/taiwan-population',\n",
       " 'http//worldpopulationreview.com/countries/chile-population',\n",
       " 'http//worldpopulationreview.com/countries/israel-population',\n",
       " 'http//worldpopulationreview.com/countries/malta-population',\n",
       " 'http//worldpopulationreview.com/countries/netherlands-population',\n",
       " 'http//worldpopulationreview.com/countries/guatemala-population',\n",
       " 'http//worldpopulationreview.com/countries/colombia-population',\n",
       " 'http//worldpopulationreview.com/countries/spain-population',\n",
       " 'http//worldpopulationreview.com/countries/south-africa-population',\n",
       " 'http//worldpopulationreview.com/countries/mongolia-population',\n",
       " 'http//worldpopulationreview.com/countries/hungary-population',\n",
       " 'http//worldpopulationreview.com/countries/japan-population',\n",
       " 'http//worldpopulationreview.com/countries/france-population',\n",
       " 'http//worldpopulationreview.com/countries/china-population',\n",
       " 'http//worldpopulationreview.com/countries/philippines-population',\n",
       " 'http//worldpopulationreview.com/countries/belgium-population',\n",
       " 'http//worldpopulationreview.com/countries/south-korea-population',\n",
       " 'http//worldpopulationreview.com/countries/ecuador-population',\n",
       " 'http//worldpopulationreview.com/countries/new-zealand-population',\n",
       " 'http//worldpopulationreview.com/countries/peru-population',\n",
       " 'http//worldpopulationreview.com/countries/venezuela-population',\n",
       " 'http//worldpopulationreview.com/countries/thailand-population',\n",
       " 'http//worldpopulationreview.com/countries/zimbabwe-population',\n",
       " 'http//worldpopulationreview.com/countries/united-states-population',\n",
       " 'http//worldpopulationreview.com/countries/jordan-population',\n",
       " 'http//worldpopulationreview.com/countries/bangladesh-population',\n",
       " 'http//worldpopulationreview.com/countries/egypt-population',\n",
       " 'http//worldpopulationreview.com/countries/nigeria-population',\n",
       " 'http//worldpopulationreview.com/countries/algeria-population',\n",
       " 'http//worldpopulationreview.com/countries/india-population',\n",
       " 'http//worldpopulationreview.com/countries/turkey-population',\n",
       " 'http//worldpopulationreview.com/countries/mexico-population',\n",
       " 'http//worldpopulationreview.com/countries/australia-population',\n",
       " 'http//worldpopulationreview.com/countries/canada-population',\n",
       " 'http//worldpopulationreview.com/countries/pakistan-population',\n",
       " 'http//worldpopulationreview.com/countries/vietnam-population',\n",
       " 'http//worldpopulationreview.com/countries/kenya-population',\n",
       " 'http//worldpopulationreview.com/countries/lebanon-population',\n",
       " 'http//worldpopulationreview.com/countries/ethiopia-population',\n",
       " 'http//worldpopulationreview.com/countries/north-korea-population',\n",
       " 'http//worldpopulationreview.com/countries/cuba-population']"
      ]
     },
     "execution_count": 48,
     "metadata": {},
     "output_type": "execute_result"
    }
   ],
   "source": [
    "country_link"
   ]
  },
  {
   "cell_type": "code",
   "execution_count": 49,
   "id": "43bb7335",
   "metadata": {},
   "outputs": [],
   "source": [
    "total=soup.select('td:nth-child(2)')"
   ]
  },
  {
   "cell_type": "code",
   "execution_count": 50,
   "id": "a53d2b11",
   "metadata": {},
   "outputs": [
    {
     "data": {
      "text/plain": [
       "[<td>19,207,578</td>,\n",
       " <td>776,716</td>,\n",
       " <td>17,132,724</td>,\n",
       " <td>6,900,000</td>,\n",
       " <td>1,117,500</td>,\n",
       " <td>38,849,812</td>,\n",
       " <td>9,470,000</td>,\n",
       " <td>46,000,000</td>,\n",
       " <td>4,940,000</td>,\n",
       " <td>385,573,398</td>,\n",
       " <td>256,116,000</td>,\n",
       " <td>2,060,000</td>,\n",
       " <td>1,904,000</td>,\n",
       " <td>8,106,700</td>,\n",
       " <td>88,580,000</td>,\n",
       " <td>14,500,000</td>,\n",
       " <td>10,454,400</td>,\n",
       " <td>30,379,000</td>,\n",
       " <td>56,725,200</td>,\n",
       " <td>284,200,000</td>,\n",
       " <td>34,172,058</td>,\n",
       " <td>44,450,000</td>,\n",
       " <td>107,000,000</td>,\n",
       " <td>96,165,000</td>,\n",
       " <td>2,579,000</td>,\n",
       " <td>83,100,000</td>,\n",
       " <td>7,000,000</td>,\n",
       " <td>13,400,000</td>,\n",
       " <td>7,000,000</td>,\n",
       " <td>57,505,555</td>,\n",
       " <td>5,770,638</td>,\n",
       " <td>47,153,200</td>,\n",
       " <td>26,000,000</td>,\n",
       " <td>28,610,000</td>,\n",
       " <td>21,000,000</td>,\n",
       " <td>9,701,200</td>,\n",
       " <td>554,651</td>,\n",
       " <td>20,000,000</td>,\n",
       " <td>17,571,895</td>,\n",
       " <td>57,900,472</td>,\n",
       " <td>55,740,000</td>,\n",
       " <td>59,474,500</td>,\n",
       " <td>3,500,000</td>,\n",
       " <td>11,561,890</td>,\n",
       " <td>146,649,600</td>,\n",
       " <td>72,180,000</td>,\n",
       " <td>1,598,360,000</td>,\n",
       " <td>106,987,098</td>,\n",
       " <td>11,822,000</td>,\n",
       " <td>56,004,887</td>,\n",
       " <td>15,900,000</td>,\n",
       " <td>4,761,000</td>,\n",
       " <td>34,235,000</td>,\n",
       " <td>32,019,086</td>,\n",
       " <td>69,000,000</td>,\n",
       " <td>13,518,887</td>,\n",
       " <td>327,577,529</td>,\n",
       " <td>6,010,000</td>,\n",
       " <td>165,615,000</td>,\n",
       " <td>95,340,000</td>,\n",
       " <td>167,371,945</td>,\n",
       " <td>33,000,000</td>,\n",
       " <td>1,281,971,713</td>,\n",
       " <td>72,200,000</td>,\n",
       " <td>101,339,000</td>,\n",
       " <td>20,570,000</td>,\n",
       " <td>31,210,628</td>,\n",
       " <td>165,405,847</td>,\n",
       " <td>72,300,000</td>,\n",
       " <td>28,080,000</td>,\n",
       " <td>2,720,000</td>,\n",
       " <td>18,000,000</td>,\n",
       " <td>3,000,000</td>,\n",
       " <td>1,300,000</td>]"
      ]
     },
     "execution_count": 50,
     "metadata": {},
     "output_type": "execute_result"
    }
   ],
   "source": [
    "total"
   ]
  },
  {
   "cell_type": "code",
   "execution_count": 51,
   "id": "de1557e9",
   "metadata": {},
   "outputs": [],
   "source": [
    "total_users=[]"
   ]
  },
  {
   "cell_type": "code",
   "execution_count": 52,
   "id": "9617433c",
   "metadata": {},
   "outputs": [],
   "source": [
    "for item in total_users:\n",
    "    total_users.append(item.text)"
   ]
  },
  {
   "cell_type": "code",
   "execution_count": 53,
   "id": "4fd1d8bc",
   "metadata": {},
   "outputs": [
    {
     "data": {
      "text/plain": [
       "[<td>19,207,578</td>,\n",
       " <td>776,716</td>,\n",
       " <td>17,132,724</td>,\n",
       " <td>6,900,000</td>,\n",
       " <td>1,117,500</td>,\n",
       " <td>38,849,812</td>,\n",
       " <td>9,470,000</td>,\n",
       " <td>46,000,000</td>,\n",
       " <td>4,940,000</td>,\n",
       " <td>385,573,398</td>,\n",
       " <td>256,116,000</td>,\n",
       " <td>2,060,000</td>,\n",
       " <td>1,904,000</td>,\n",
       " <td>8,106,700</td>,\n",
       " <td>88,580,000</td>,\n",
       " <td>14,500,000</td>,\n",
       " <td>10,454,400</td>,\n",
       " <td>30,379,000</td>,\n",
       " <td>56,725,200</td>,\n",
       " <td>284,200,000</td>,\n",
       " <td>34,172,058</td>,\n",
       " <td>44,450,000</td>,\n",
       " <td>107,000,000</td>,\n",
       " <td>96,165,000</td>,\n",
       " <td>2,579,000</td>,\n",
       " <td>83,100,000</td>,\n",
       " <td>7,000,000</td>,\n",
       " <td>13,400,000</td>,\n",
       " <td>7,000,000</td>,\n",
       " <td>57,505,555</td>,\n",
       " <td>5,770,638</td>,\n",
       " <td>47,153,200</td>,\n",
       " <td>26,000,000</td>,\n",
       " <td>28,610,000</td>,\n",
       " <td>21,000,000</td>,\n",
       " <td>9,701,200</td>,\n",
       " <td>554,651</td>,\n",
       " <td>20,000,000</td>,\n",
       " <td>17,571,895</td>,\n",
       " <td>57,900,472</td>,\n",
       " <td>55,740,000</td>,\n",
       " <td>59,474,500</td>,\n",
       " <td>3,500,000</td>,\n",
       " <td>11,561,890</td>,\n",
       " <td>146,649,600</td>,\n",
       " <td>72,180,000</td>,\n",
       " <td>1,598,360,000</td>,\n",
       " <td>106,987,098</td>,\n",
       " <td>11,822,000</td>,\n",
       " <td>56,004,887</td>,\n",
       " <td>15,900,000</td>,\n",
       " <td>4,761,000</td>,\n",
       " <td>34,235,000</td>,\n",
       " <td>32,019,086</td>,\n",
       " <td>69,000,000</td>,\n",
       " <td>13,518,887</td>,\n",
       " <td>327,577,529</td>,\n",
       " <td>6,010,000</td>,\n",
       " <td>165,615,000</td>,\n",
       " <td>95,340,000</td>,\n",
       " <td>167,371,945</td>,\n",
       " <td>33,000,000</td>,\n",
       " <td>1,281,971,713</td>,\n",
       " <td>72,200,000</td>,\n",
       " <td>101,339,000</td>,\n",
       " <td>20,570,000</td>,\n",
       " <td>31,210,628</td>,\n",
       " <td>165,405,847</td>,\n",
       " <td>72,300,000</td>,\n",
       " <td>28,080,000</td>,\n",
       " <td>2,720,000</td>,\n",
       " <td>18,000,000</td>,\n",
       " <td>3,000,000</td>,\n",
       " <td>1,300,000</td>]"
      ]
     },
     "execution_count": 53,
     "metadata": {},
     "output_type": "execute_result"
    }
   ],
   "source": [
    "total"
   ]
  },
  {
   "cell_type": "code",
   "execution_count": 54,
   "id": "8473138f",
   "metadata": {},
   "outputs": [],
   "source": [
    "per100 =soup.select('.fs-close-button-sticky , td:nth-child(3)')"
   ]
  },
  {
   "cell_type": "code",
   "execution_count": 55,
   "id": "95836766",
   "metadata": {},
   "outputs": [
    {
     "data": {
      "text/plain": [
       "[<td>256.70</td>,\n",
       " <td>245.92</td>,\n",
       " <td>203.70</td>,\n",
       " <td>202.50</td>,\n",
       " <td>180.23</td>,\n",
       " <td>179.30</td>,\n",
       " <td>172.60</td>,\n",
       " <td>169.50</td>,\n",
       " <td>167.10</td>,\n",
       " <td>162.28</td>,\n",
       " <td>155.50</td>,\n",
       " <td>151.60</td>,\n",
       " <td>150.50</td>,\n",
       " <td>150.10</td>,\n",
       " <td>147.40</td>,\n",
       " <td>146.40</td>,\n",
       " <td>145.20</td>,\n",
       " <td>143.80</td>,\n",
       " <td>141.34</td>,\n",
       " <td>141.30</td>,\n",
       " <td>134.41</td>,\n",
       " <td>131</td>,\n",
       " <td>130.10</td>,\n",
       " <td>130</td>,\n",
       " <td>129.80</td>,\n",
       " <td>129.60</td>,\n",
       " <td>127.50</td>,\n",
       " <td>126.87</td>,\n",
       " <td>126.20</td>,\n",
       " <td>126</td>,\n",
       " <td>125.90</td>,\n",
       " <td>123.48</td>,\n",
       " <td>123.45</td>,\n",
       " <td>123.33</td>,\n",
       " <td>122.90</td>,\n",
       " <td>122.80</td>,\n",
       " <td>122.57</td>,\n",
       " <td>121.10</td>,\n",
       " <td>119.40</td>,\n",
       " <td>118.90</td>,\n",
       " <td>118</td>,\n",
       " <td>117.60</td>,\n",
       " <td>117.40</td>,\n",
       " <td>116.70</td>,\n",
       " <td>115.20</td>,\n",
       " <td>114.20</td>,\n",
       " <td>114.17</td>,\n",
       " <td>113.80</td>,\n",
       " <td>113.60</td>,\n",
       " <td>111.50</td>,\n",
       " <td>111.18</td>,\n",
       " <td>111.10</td>,\n",
       " <td>109.80</td>,\n",
       " <td>106.15</td>,\n",
       " <td>105</td>,\n",
       " <td>103.50</td>,\n",
       " <td>103.10</td>,\n",
       " <td>101</td>,\n",
       " <td>98.18</td>,\n",
       " <td>95.38</td>,\n",
       " <td>94.50</td>,\n",
       " <td>94.20</td>,\n",
       " <td>93.10</td>,\n",
       " <td>92.50</td>,\n",
       " <td>90.20</td>,\n",
       " <td>87.60</td>,\n",
       " <td>84.60</td>,\n",
       " <td>79.61</td>,\n",
       " <td>79</td>,\n",
       " <td>71.30</td>,\n",
       " <td>64.40</td>,\n",
       " <td>21.80</td>,\n",
       " <td>12.30</td>,\n",
       " <td>11.60</td>]"
      ]
     },
     "execution_count": 55,
     "metadata": {},
     "output_type": "execute_result"
    }
   ],
   "source": [
    "per100"
   ]
  },
  {
   "cell_type": "code",
   "execution_count": 56,
   "id": "6ea13c8d",
   "metadata": {},
   "outputs": [],
   "source": [
    "per100_users=[]\n"
   ]
  },
  {
   "cell_type": "code",
   "execution_count": 57,
   "id": "c2e81106",
   "metadata": {},
   "outputs": [],
   "source": [
    "for item in per100:\n",
    "    per100_users.append(item.text)"
   ]
  },
  {
   "cell_type": "code",
   "execution_count": 58,
   "id": "4aa71df9",
   "metadata": {},
   "outputs": [
    {
     "data": {
      "text/plain": [
       "[<td>256.70</td>,\n",
       " <td>245.92</td>,\n",
       " <td>203.70</td>,\n",
       " <td>202.50</td>,\n",
       " <td>180.23</td>,\n",
       " <td>179.30</td>,\n",
       " <td>172.60</td>,\n",
       " <td>169.50</td>,\n",
       " <td>167.10</td>,\n",
       " <td>162.28</td>,\n",
       " <td>155.50</td>,\n",
       " <td>151.60</td>,\n",
       " <td>150.50</td>,\n",
       " <td>150.10</td>,\n",
       " <td>147.40</td>,\n",
       " <td>146.40</td>,\n",
       " <td>145.20</td>,\n",
       " <td>143.80</td>,\n",
       " <td>141.34</td>,\n",
       " <td>141.30</td>,\n",
       " <td>134.41</td>,\n",
       " <td>131</td>,\n",
       " <td>130.10</td>,\n",
       " <td>130</td>,\n",
       " <td>129.80</td>,\n",
       " <td>129.60</td>,\n",
       " <td>127.50</td>,\n",
       " <td>126.87</td>,\n",
       " <td>126.20</td>,\n",
       " <td>126</td>,\n",
       " <td>125.90</td>,\n",
       " <td>123.48</td>,\n",
       " <td>123.45</td>,\n",
       " <td>123.33</td>,\n",
       " <td>122.90</td>,\n",
       " <td>122.80</td>,\n",
       " <td>122.57</td>,\n",
       " <td>121.10</td>,\n",
       " <td>119.40</td>,\n",
       " <td>118.90</td>,\n",
       " <td>118</td>,\n",
       " <td>117.60</td>,\n",
       " <td>117.40</td>,\n",
       " <td>116.70</td>,\n",
       " <td>115.20</td>,\n",
       " <td>114.20</td>,\n",
       " <td>114.17</td>,\n",
       " <td>113.80</td>,\n",
       " <td>113.60</td>,\n",
       " <td>111.50</td>,\n",
       " <td>111.18</td>,\n",
       " <td>111.10</td>,\n",
       " <td>109.80</td>,\n",
       " <td>106.15</td>,\n",
       " <td>105</td>,\n",
       " <td>103.50</td>,\n",
       " <td>103.10</td>,\n",
       " <td>101</td>,\n",
       " <td>98.18</td>,\n",
       " <td>95.38</td>,\n",
       " <td>94.50</td>,\n",
       " <td>94.20</td>,\n",
       " <td>93.10</td>,\n",
       " <td>92.50</td>,\n",
       " <td>90.20</td>,\n",
       " <td>87.60</td>,\n",
       " <td>84.60</td>,\n",
       " <td>79.61</td>,\n",
       " <td>79</td>,\n",
       " <td>71.30</td>,\n",
       " <td>64.40</td>,\n",
       " <td>21.80</td>,\n",
       " <td>12.30</td>,\n",
       " <td>11.60</td>]"
      ]
     },
     "execution_count": 58,
     "metadata": {},
     "output_type": "execute_result"
    }
   ],
   "source": [
    "per100"
   ]
  },
  {
   "cell_type": "code",
   "execution_count": 59,
   "id": "f081b8b5",
   "metadata": {},
   "outputs": [],
   "source": [
    "totaluserspopulation2020 = soup.select('td:nth-child(4)')"
   ]
  },
  {
   "cell_type": "code",
   "execution_count": 60,
   "id": "4635b198",
   "metadata": {},
   "outputs": [
    {
     "data": {
      "text/plain": [
       "[<td>7,604,299</td>,\n",
       " <td>540,985</td>,\n",
       " <td>10,081,785</td>,\n",
       " <td>4,446,964</td>,\n",
       " <td>627,950</td>,\n",
       " <td>21,575,842</td>,\n",
       " <td>5,554,960</td>,\n",
       " <td>35,844,909</td>,\n",
       " <td>2,661,708</td>,\n",
       " <td>279,134,505</td>,\n",
       " <td>145,805,947</td>,\n",
       " <td>1,406,585</td>,\n",
       " <td>1,321,910</td>,\n",
       " <td>5,943,546</td>,\n",
       " <td>60,262,770</td>,\n",
       " <td>10,218,971</td>,\n",
       " <td>6,844,597</td>,\n",
       " <td>33,181,072</td>,\n",
       " <td>46,010,234</td>,\n",
       " <td>215,353,593</td>,\n",
       " <td>30,225,582</td>,\n",
       " <td>37,772,756</td>,\n",
       " <td>83,883,596</td>,\n",
       " <td>86,022,837</td>,\n",
       " <td>1,848,837</td>,\n",
       " <td>68,497,907</td>,\n",
       " <td>5,834,950</td>,\n",
       " <td>10,140,570</td>,\n",
       " <td>10,300,205</td>,\n",
       " <td>43,192,122</td>,\n",
       " <td>5,020,199</td>,\n",
       " <td>37,739,785</td>,\n",
       " <td>19,031,335</td>,\n",
       " <td>23,888,595</td>,\n",
       " <td>19,250,195</td>,\n",
       " <td>8,922,892</td>,\n",
       " <td>444,033</td>,\n",
       " <td>17,211,447</td>,\n",
       " <td>18,584,039</td>,\n",
       " <td>51,512,762</td>,\n",
       " <td>46,719,142</td>,\n",
       " <td>60,756,135</td>,\n",
       " <td>3,378,078</td>,\n",
       " <td>9,606,259</td>,\n",
       " <td>125,584,838</td>,\n",
       " <td>65,584,518</td>,\n",
       " <td>1,448,471,400</td>,\n",
       " <td>112,508,994</td>,\n",
       " <td>11,668,278</td>,\n",
       " <td>51,329,899</td>,\n",
       " <td>18,113,361</td>,\n",
       " <td>4,898,203</td>,\n",
       " <td>33,684,208</td>,\n",
       " <td>29,266,991</td>,\n",
       " <td>70,078,203</td>,\n",
       " <td>15,331,428</td>,\n",
       " <td>334,805,269</td>,\n",
       " <td>10,300,869</td>,\n",
       " <td>167,885,689</td>,\n",
       " <td>106,156,692</td>,\n",
       " <td>216,746,934</td>,\n",
       " <td>45,350,148</td>,\n",
       " <td>1,406,631,776</td>,\n",
       " <td>85,561,976</td>,\n",
       " <td>131,562,772</td>,\n",
       " <td>26,068,792</td>,\n",
       " <td>38,388,419</td>,\n",
       " <td>229,488,994</td>,\n",
       " <td>98,953,541</td>,\n",
       " <td>56,215,221</td>,\n",
       " <td>6,684,849</td>,\n",
       " <td>120,812,698</td>,\n",
       " <td>25,990,679</td>,\n",
       " <td>11,305,652</td>]"
      ]
     },
     "execution_count": 60,
     "metadata": {},
     "output_type": "execute_result"
    }
   ],
   "source": [
    "totaluserspopulation2020 "
   ]
  },
  {
   "cell_type": "code",
   "execution_count": 61,
   "id": "1afb8a3f",
   "metadata": {},
   "outputs": [],
   "source": [
    "totaluserspopulation2020_users=[]"
   ]
  },
  {
   "cell_type": "code",
   "execution_count": 62,
   "id": "dde6321b",
   "metadata": {},
   "outputs": [],
   "source": [
    "for item in totaluserspopulation2020 :\n",
    "    totaluserspopulation2020_users.append(item.text)"
   ]
  },
  {
   "cell_type": "code",
   "execution_count": 63,
   "id": "f29d779b",
   "metadata": {},
   "outputs": [
    {
     "data": {
      "text/plain": [
       "[<td>7,604,299</td>,\n",
       " <td>540,985</td>,\n",
       " <td>10,081,785</td>,\n",
       " <td>4,446,964</td>,\n",
       " <td>627,950</td>,\n",
       " <td>21,575,842</td>,\n",
       " <td>5,554,960</td>,\n",
       " <td>35,844,909</td>,\n",
       " <td>2,661,708</td>,\n",
       " <td>279,134,505</td>,\n",
       " <td>145,805,947</td>,\n",
       " <td>1,406,585</td>,\n",
       " <td>1,321,910</td>,\n",
       " <td>5,943,546</td>,\n",
       " <td>60,262,770</td>,\n",
       " <td>10,218,971</td>,\n",
       " <td>6,844,597</td>,\n",
       " <td>33,181,072</td>,\n",
       " <td>46,010,234</td>,\n",
       " <td>215,353,593</td>,\n",
       " <td>30,225,582</td>,\n",
       " <td>37,772,756</td>,\n",
       " <td>83,883,596</td>,\n",
       " <td>86,022,837</td>,\n",
       " <td>1,848,837</td>,\n",
       " <td>68,497,907</td>,\n",
       " <td>5,834,950</td>,\n",
       " <td>10,140,570</td>,\n",
       " <td>10,300,205</td>,\n",
       " <td>43,192,122</td>,\n",
       " <td>5,020,199</td>,\n",
       " <td>37,739,785</td>,\n",
       " <td>19,031,335</td>,\n",
       " <td>23,888,595</td>,\n",
       " <td>19,250,195</td>,\n",
       " <td>8,922,892</td>,\n",
       " <td>444,033</td>,\n",
       " <td>17,211,447</td>,\n",
       " <td>18,584,039</td>,\n",
       " <td>51,512,762</td>,\n",
       " <td>46,719,142</td>,\n",
       " <td>60,756,135</td>,\n",
       " <td>3,378,078</td>,\n",
       " <td>9,606,259</td>,\n",
       " <td>125,584,838</td>,\n",
       " <td>65,584,518</td>,\n",
       " <td>1,448,471,400</td>,\n",
       " <td>112,508,994</td>,\n",
       " <td>11,668,278</td>,\n",
       " <td>51,329,899</td>,\n",
       " <td>18,113,361</td>,\n",
       " <td>4,898,203</td>,\n",
       " <td>33,684,208</td>,\n",
       " <td>29,266,991</td>,\n",
       " <td>70,078,203</td>,\n",
       " <td>15,331,428</td>,\n",
       " <td>334,805,269</td>,\n",
       " <td>10,300,869</td>,\n",
       " <td>167,885,689</td>,\n",
       " <td>106,156,692</td>,\n",
       " <td>216,746,934</td>,\n",
       " <td>45,350,148</td>,\n",
       " <td>1,406,631,776</td>,\n",
       " <td>85,561,976</td>,\n",
       " <td>131,562,772</td>,\n",
       " <td>26,068,792</td>,\n",
       " <td>38,388,419</td>,\n",
       " <td>229,488,994</td>,\n",
       " <td>98,953,541</td>,\n",
       " <td>56,215,221</td>,\n",
       " <td>6,684,849</td>,\n",
       " <td>120,812,698</td>,\n",
       " <td>25,990,679</td>,\n",
       " <td>11,305,652</td>]"
      ]
     },
     "execution_count": 63,
     "metadata": {},
     "output_type": "execute_result"
    }
   ],
   "source": [
    " totaluserspopulation2020"
   ]
  },
  {
   "cell_type": "markdown",
   "id": "fff04fe6",
   "metadata": {},
   "source": [
    "# data frame"
   ]
  },
  {
   "cell_type": "code",
   "execution_count": 64,
   "id": "59d4dac6",
   "metadata": {},
   "outputs": [],
   "source": [
    "import pandas as pdf"
   ]
  },
  {
   "cell_type": "code",
   "execution_count": 74,
   "id": "fbc6816f",
   "metadata": {},
   "outputs": [],
   "source": [
    "users=pdf.DataFrame(country_list,columns=['country'])"
   ]
  },
  {
   "cell_type": "code",
   "execution_count": 75,
   "id": "fd0ab040",
   "metadata": {},
   "outputs": [
    {
     "data": {
      "text/html": [
       "<div>\n",
       "<style scoped>\n",
       "    .dataframe tbody tr th:only-of-type {\n",
       "        vertical-align: middle;\n",
       "    }\n",
       "\n",
       "    .dataframe tbody tr th {\n",
       "        vertical-align: top;\n",
       "    }\n",
       "\n",
       "    .dataframe thead th {\n",
       "        text-align: right;\n",
       "    }\n",
       "</style>\n",
       "<table border=\"1\" class=\"dataframe\">\n",
       "  <thead>\n",
       "    <tr style=\"text-align: right;\">\n",
       "      <th></th>\n",
       "      <th>country</th>\n",
       "    </tr>\n",
       "  </thead>\n",
       "  <tbody>\n",
       "    <tr>\n",
       "      <th>0</th>\n",
       "      <td>Hong Kong</td>\n",
       "    </tr>\n",
       "    <tr>\n",
       "      <th>1</th>\n",
       "      <td>http//worldpopulationreview.com/countries/hong...</td>\n",
       "    </tr>\n",
       "    <tr>\n",
       "      <th>2</th>\n",
       "      <td>Maldives</td>\n",
       "    </tr>\n",
       "    <tr>\n",
       "      <th>3</th>\n",
       "      <td>http//worldpopulationreview.com/countries/mald...</td>\n",
       "    </tr>\n",
       "    <tr>\n",
       "      <th>4</th>\n",
       "      <td>United Arab Emirates</td>\n",
       "    </tr>\n",
       "    <tr>\n",
       "      <th>...</th>\n",
       "      <td>...</td>\n",
       "    </tr>\n",
       "    <tr>\n",
       "      <th>143</th>\n",
       "      <td>http//worldpopulationreview.com/countries/ethi...</td>\n",
       "    </tr>\n",
       "    <tr>\n",
       "      <th>144</th>\n",
       "      <td>North Korea</td>\n",
       "    </tr>\n",
       "    <tr>\n",
       "      <th>145</th>\n",
       "      <td>http//worldpopulationreview.com/countries/nort...</td>\n",
       "    </tr>\n",
       "    <tr>\n",
       "      <th>146</th>\n",
       "      <td>Cuba</td>\n",
       "    </tr>\n",
       "    <tr>\n",
       "      <th>147</th>\n",
       "      <td>http//worldpopulationreview.com/countries/cuba...</td>\n",
       "    </tr>\n",
       "  </tbody>\n",
       "</table>\n",
       "<p>148 rows × 1 columns</p>\n",
       "</div>"
      ],
      "text/plain": [
       "                                               country\n",
       "0                                            Hong Kong\n",
       "1    http//worldpopulationreview.com/countries/hong...\n",
       "2                                             Maldives\n",
       "3    http//worldpopulationreview.com/countries/mald...\n",
       "4                                 United Arab Emirates\n",
       "..                                                 ...\n",
       "143  http//worldpopulationreview.com/countries/ethi...\n",
       "144                                        North Korea\n",
       "145  http//worldpopulationreview.com/countries/nort...\n",
       "146                                               Cuba\n",
       "147  http//worldpopulationreview.com/countries/cuba...\n",
       "\n",
       "[148 rows x 1 columns]"
      ]
     },
     "execution_count": 75,
     "metadata": {},
     "output_type": "execute_result"
    }
   ],
   "source": [
    "users"
   ]
  },
  {
   "cell_type": "code",
   "execution_count": 77,
   "id": "142ba048",
   "metadata": {},
   "outputs": [],
   "source": [
    "users.to_csv('users.csv')"
   ]
  },
  {
   "cell_type": "code",
   "execution_count": null,
   "id": "eca0060e",
   "metadata": {},
   "outputs": [],
   "source": []
  }
 ],
 "metadata": {
  "kernelspec": {
   "display_name": "Python 3 (ipykernel)",
   "language": "python",
   "name": "python3"
  },
  "language_info": {
   "codemirror_mode": {
    "name": "ipython",
    "version": 3
   },
   "file_extension": ".py",
   "mimetype": "text/x-python",
   "name": "python",
   "nbconvert_exporter": "python",
   "pygments_lexer": "ipython3",
   "version": "3.9.7"
  }
 },
 "nbformat": 4,
 "nbformat_minor": 5
}
